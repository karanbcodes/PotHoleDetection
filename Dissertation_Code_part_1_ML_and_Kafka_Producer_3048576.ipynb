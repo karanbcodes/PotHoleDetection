{
 "cells": [
  {
   "cell_type": "markdown",
   "id": "14a6d036",
   "metadata": {},
   "source": [
    "# Importing Libraries and Data"
   ]
  },
  {
   "cell_type": "code",
   "execution_count": 1,
   "id": "1a94fdb9",
   "metadata": {},
   "outputs": [],
   "source": [
    "import pandas as pd\n",
    "import numpy as np\n",
    "import matplotlib.pyplot as plt\n",
    "import seaborn as sns"
   ]
  },
  {
   "cell_type": "code",
   "execution_count": 2,
   "id": "21a75ed4",
   "metadata": {},
   "outputs": [],
   "source": [
    "import sys\n",
    "import warnings\n",
    "\n",
    "warnings.simplefilter(\"ignore\")"
   ]
  },
  {
   "cell_type": "code",
   "execution_count": 3,
   "id": "450ddc1c",
   "metadata": {},
   "outputs": [],
   "source": [
    "# loading the data to training data\n",
    "df_train= pd.read_csv('/Users/karan/Desktop/Stirling University/Studies/Semester 3/Dissertation/Work/Python_Codes/Final Code and Data/v5_20220717_172210_296_TRAIN.csv',header=0,delimiter=\",\")\n",
    "\n",
    "# loading the data for final test validation on the trained and tuned model\n",
    "df_validation= pd.read_csv('/Users/karan/Desktop/Stirling University/Studies/Semester 3/Dissertation/Work/Python_Codes/Final Code and Data/v5_20220717_174240_71s_TESTING_1.csv',header=0,delimiter=\",\")"
   ]
  },
  {
   "cell_type": "markdown",
   "id": "62572934",
   "metadata": {},
   "source": [
    "# EDA"
   ]
  },
  {
   "cell_type": "code",
   "execution_count": 4,
   "id": "8d2d431c",
   "metadata": {},
   "outputs": [
    {
     "data": {
      "text/html": [
       "<div>\n",
       "<style scoped>\n",
       "    .dataframe tbody tr th:only-of-type {\n",
       "        vertical-align: middle;\n",
       "    }\n",
       "\n",
       "    .dataframe tbody tr th {\n",
       "        vertical-align: top;\n",
       "    }\n",
       "\n",
       "    .dataframe thead th {\n",
       "        text-align: right;\n",
       "    }\n",
       "</style>\n",
       "<table border=\"1\" class=\"dataframe\">\n",
       "  <thead>\n",
       "    <tr style=\"text-align: right;\">\n",
       "      <th></th>\n",
       "      <th>Timestamp</th>\n",
       "      <th>accelX(g)</th>\n",
       "      <th>accelY(g)</th>\n",
       "      <th>accelZ(g)</th>\n",
       "      <th>accelUserX(g)</th>\n",
       "      <th>accelUserY(g)</th>\n",
       "      <th>accelUserZ(g)</th>\n",
       "      <th>gyroX(rad/s)</th>\n",
       "      <th>gyroY(rad/s)</th>\n",
       "      <th>gyroZ(rad/s)</th>\n",
       "      <th>...</th>\n",
       "      <th>Speed(m/s)</th>\n",
       "      <th>TrueHeading</th>\n",
       "      <th>Alt(m)</th>\n",
       "      <th>HorizontalAccuracy(m)</th>\n",
       "      <th>VerticalAccuracy(m)</th>\n",
       "      <th>Course</th>\n",
       "      <th>ActivityType</th>\n",
       "      <th>ActivityConfidence</th>\n",
       "      <th>RelativeAltitude(meters)</th>\n",
       "      <th>Output</th>\n",
       "    </tr>\n",
       "  </thead>\n",
       "  <tbody>\n",
       "    <tr>\n",
       "      <th>0</th>\n",
       "      <td>17-Jul-2022 17:22:10.486</td>\n",
       "      <td>-0.0815</td>\n",
       "      <td>-0.9713</td>\n",
       "      <td>-0.0387</td>\n",
       "      <td>-0.0248</td>\n",
       "      <td>-0.0012</td>\n",
       "      <td>-0.0498</td>\n",
       "      <td>0.0396</td>\n",
       "      <td>0.0350</td>\n",
       "      <td>0.0022</td>\n",
       "      <td>...</td>\n",
       "      <td>8.2011</td>\n",
       "      <td>267.2</td>\n",
       "      <td>19.752193</td>\n",
       "      <td>4.7</td>\n",
       "      <td>3.4</td>\n",
       "      <td>266.5</td>\n",
       "      <td>Automotive</td>\n",
       "      <td>High</td>\n",
       "      <td>-5.9558</td>\n",
       "      <td>0</td>\n",
       "    </tr>\n",
       "    <tr>\n",
       "      <th>1</th>\n",
       "      <td>17-Jul-2022 17:22:10.585</td>\n",
       "      <td>-0.0397</td>\n",
       "      <td>-0.9610</td>\n",
       "      <td>-0.0998</td>\n",
       "      <td>0.0680</td>\n",
       "      <td>-0.0074</td>\n",
       "      <td>-0.0080</td>\n",
       "      <td>0.1432</td>\n",
       "      <td>0.0176</td>\n",
       "      <td>-0.0292</td>\n",
       "      <td>...</td>\n",
       "      <td>8.2011</td>\n",
       "      <td>267.2</td>\n",
       "      <td>19.752193</td>\n",
       "      <td>4.7</td>\n",
       "      <td>3.4</td>\n",
       "      <td>266.5</td>\n",
       "      <td>Automotive</td>\n",
       "      <td>High</td>\n",
       "      <td>-5.9558</td>\n",
       "      <td>0</td>\n",
       "    </tr>\n",
       "    <tr>\n",
       "      <th>2</th>\n",
       "      <td>17-Jul-2022 17:22:10.685</td>\n",
       "      <td>-0.0156</td>\n",
       "      <td>-0.9120</td>\n",
       "      <td>-0.1703</td>\n",
       "      <td>-0.1116</td>\n",
       "      <td>0.0333</td>\n",
       "      <td>-0.0833</td>\n",
       "      <td>0.1014</td>\n",
       "      <td>0.0240</td>\n",
       "      <td>0.0020</td>\n",
       "      <td>...</td>\n",
       "      <td>8.2011</td>\n",
       "      <td>267.2</td>\n",
       "      <td>19.752193</td>\n",
       "      <td>4.7</td>\n",
       "      <td>3.4</td>\n",
       "      <td>266.5</td>\n",
       "      <td>Automotive</td>\n",
       "      <td>High</td>\n",
       "      <td>-5.9558</td>\n",
       "      <td>0</td>\n",
       "    </tr>\n",
       "    <tr>\n",
       "      <th>3</th>\n",
       "      <td>17-Jul-2022 17:22:10.785</td>\n",
       "      <td>-0.0033</td>\n",
       "      <td>-0.8971</td>\n",
       "      <td>-0.1559</td>\n",
       "      <td>-0.0313</td>\n",
       "      <td>0.1043</td>\n",
       "      <td>-0.0737</td>\n",
       "      <td>0.0635</td>\n",
       "      <td>-0.0326</td>\n",
       "      <td>0.0181</td>\n",
       "      <td>...</td>\n",
       "      <td>8.2011</td>\n",
       "      <td>267.2</td>\n",
       "      <td>19.752193</td>\n",
       "      <td>4.7</td>\n",
       "      <td>3.4</td>\n",
       "      <td>266.5</td>\n",
       "      <td>Automotive</td>\n",
       "      <td>High</td>\n",
       "      <td>-5.9558</td>\n",
       "      <td>0</td>\n",
       "    </tr>\n",
       "    <tr>\n",
       "      <th>4</th>\n",
       "      <td>17-Jul-2022 17:22:10.885</td>\n",
       "      <td>0.0348</td>\n",
       "      <td>-0.9911</td>\n",
       "      <td>-0.1461</td>\n",
       "      <td>0.0245</td>\n",
       "      <td>-0.0018</td>\n",
       "      <td>-0.0416</td>\n",
       "      <td>-0.0165</td>\n",
       "      <td>0.0218</td>\n",
       "      <td>-0.0078</td>\n",
       "      <td>...</td>\n",
       "      <td>8.2011</td>\n",
       "      <td>267.2</td>\n",
       "      <td>19.752193</td>\n",
       "      <td>4.7</td>\n",
       "      <td>3.4</td>\n",
       "      <td>266.5</td>\n",
       "      <td>Automotive</td>\n",
       "      <td>High</td>\n",
       "      <td>-5.9558</td>\n",
       "      <td>0</td>\n",
       "    </tr>\n",
       "  </tbody>\n",
       "</table>\n",
       "<p>5 rows × 38 columns</p>\n",
       "</div>"
      ],
      "text/plain": [
       "                  Timestamp  accelX(g)  accelY(g)  accelZ(g)  accelUserX(g)  \\\n",
       "0  17-Jul-2022 17:22:10.486    -0.0815    -0.9713    -0.0387        -0.0248   \n",
       "1  17-Jul-2022 17:22:10.585    -0.0397    -0.9610    -0.0998         0.0680   \n",
       "2  17-Jul-2022 17:22:10.685    -0.0156    -0.9120    -0.1703        -0.1116   \n",
       "3  17-Jul-2022 17:22:10.785    -0.0033    -0.8971    -0.1559        -0.0313   \n",
       "4  17-Jul-2022 17:22:10.885     0.0348    -0.9911    -0.1461         0.0245   \n",
       "\n",
       "   accelUserY(g)  accelUserZ(g)  gyroX(rad/s)  gyroY(rad/s)  gyroZ(rad/s)  \\\n",
       "0        -0.0012        -0.0498        0.0396        0.0350        0.0022   \n",
       "1        -0.0074        -0.0080        0.1432        0.0176       -0.0292   \n",
       "2         0.0333        -0.0833        0.1014        0.0240        0.0020   \n",
       "3         0.1043        -0.0737        0.0635       -0.0326        0.0181   \n",
       "4        -0.0018        -0.0416       -0.0165        0.0218       -0.0078   \n",
       "\n",
       "   ...  Speed(m/s)  TrueHeading     Alt(m)  HorizontalAccuracy(m)  \\\n",
       "0  ...      8.2011        267.2  19.752193                    4.7   \n",
       "1  ...      8.2011        267.2  19.752193                    4.7   \n",
       "2  ...      8.2011        267.2  19.752193                    4.7   \n",
       "3  ...      8.2011        267.2  19.752193                    4.7   \n",
       "4  ...      8.2011        267.2  19.752193                    4.7   \n",
       "\n",
       "   VerticalAccuracy(m)  Course  ActivityType  ActivityConfidence  \\\n",
       "0                  3.4   266.5    Automotive                High   \n",
       "1                  3.4   266.5    Automotive                High   \n",
       "2                  3.4   266.5    Automotive                High   \n",
       "3                  3.4   266.5    Automotive                High   \n",
       "4                  3.4   266.5    Automotive                High   \n",
       "\n",
       "   RelativeAltitude(meters)  Output  \n",
       "0                   -5.9558       0  \n",
       "1                   -5.9558       0  \n",
       "2                   -5.9558       0  \n",
       "3                   -5.9558       0  \n",
       "4                   -5.9558       0  \n",
       "\n",
       "[5 rows x 38 columns]"
      ]
     },
     "execution_count": 4,
     "metadata": {},
     "output_type": "execute_result"
    }
   ],
   "source": [
    "df_train.head()"
   ]
  },
  {
   "cell_type": "code",
   "execution_count": 5,
   "id": "c7004582",
   "metadata": {},
   "outputs": [
    {
     "name": "stdout",
     "output_type": "stream",
     "text": [
      "<class 'pandas.core.frame.DataFrame'>\n",
      "RangeIndex: 2971 entries, 0 to 2970\n",
      "Data columns (total 38 columns):\n",
      " #   Column                    Non-Null Count  Dtype  \n",
      "---  ------                    --------------  -----  \n",
      " 0   Timestamp                 2971 non-null   object \n",
      " 1   accelX(g)                 2971 non-null   float64\n",
      " 2   accelY(g)                 2971 non-null   float64\n",
      " 3   accelZ(g)                 2971 non-null   float64\n",
      " 4   accelUserX(g)             2971 non-null   float64\n",
      " 5   accelUserY(g)             2971 non-null   float64\n",
      " 6   accelUserZ(g)             2971 non-null   float64\n",
      " 7   gyroX(rad/s)              2971 non-null   float64\n",
      " 8   gyroY(rad/s)              2971 non-null   float64\n",
      " 9   gyroZ(rad/s)              2971 non-null   float64\n",
      " 10  Roll(rads)                2971 non-null   float64\n",
      " 11  Pitch(rads)               2971 non-null   float64\n",
      " 12  Yaw(rads)                 2971 non-null   float64\n",
      " 13  m11                       2971 non-null   float64\n",
      " 14  m12                       2971 non-null   float64\n",
      " 15  m13                       2971 non-null   float64\n",
      " 16  m21                       2971 non-null   float64\n",
      " 17  m22                       2971 non-null   float64\n",
      " 18  m23                       2971 non-null   float64\n",
      " 19  m31                       2971 non-null   float64\n",
      " 20  m32                       2971 non-null   float64\n",
      " 21  m33                       2971 non-null   float64\n",
      " 22  qX                        2971 non-null   float64\n",
      " 23  qY                        2971 non-null   float64\n",
      " 24  qZ                        2971 non-null   float64\n",
      " 25  qW                        2971 non-null   float64\n",
      " 26  Lat                       2971 non-null   float64\n",
      " 27  Long                      2971 non-null   float64\n",
      " 28  Speed(m/s)                2971 non-null   float64\n",
      " 29  TrueHeading               2971 non-null   float64\n",
      " 30  Alt(m)                    2971 non-null   float64\n",
      " 31  HorizontalAccuracy(m)     2971 non-null   float64\n",
      " 32  VerticalAccuracy(m)       2971 non-null   float64\n",
      " 33  Course                    2971 non-null   float64\n",
      " 34  ActivityType              2971 non-null   object \n",
      " 35  ActivityConfidence        2971 non-null   object \n",
      " 36  RelativeAltitude(meters)  2971 non-null   float64\n",
      " 37  Output                    2971 non-null   int64  \n",
      "dtypes: float64(34), int64(1), object(3)\n",
      "memory usage: 882.1+ KB\n"
     ]
    }
   ],
   "source": [
    "df_train.info()"
   ]
  },
  {
   "cell_type": "code",
   "execution_count": 6,
   "id": "6861d5fa",
   "metadata": {},
   "outputs": [
    {
     "data": {
      "text/html": [
       "<div>\n",
       "<style scoped>\n",
       "    .dataframe tbody tr th:only-of-type {\n",
       "        vertical-align: middle;\n",
       "    }\n",
       "\n",
       "    .dataframe tbody tr th {\n",
       "        vertical-align: top;\n",
       "    }\n",
       "\n",
       "    .dataframe thead th {\n",
       "        text-align: right;\n",
       "    }\n",
       "</style>\n",
       "<table border=\"1\" class=\"dataframe\">\n",
       "  <thead>\n",
       "    <tr style=\"text-align: right;\">\n",
       "      <th></th>\n",
       "      <th>count</th>\n",
       "      <th>unique</th>\n",
       "      <th>top</th>\n",
       "      <th>freq</th>\n",
       "      <th>mean</th>\n",
       "      <th>std</th>\n",
       "      <th>min</th>\n",
       "      <th>25%</th>\n",
       "      <th>50%</th>\n",
       "      <th>75%</th>\n",
       "      <th>max</th>\n",
       "    </tr>\n",
       "  </thead>\n",
       "  <tbody>\n",
       "    <tr>\n",
       "      <th>Timestamp</th>\n",
       "      <td>2971</td>\n",
       "      <td>2971</td>\n",
       "      <td>17-Jul-2022 17:26:29.785</td>\n",
       "      <td>1</td>\n",
       "      <td>NaN</td>\n",
       "      <td>NaN</td>\n",
       "      <td>NaN</td>\n",
       "      <td>NaN</td>\n",
       "      <td>NaN</td>\n",
       "      <td>NaN</td>\n",
       "      <td>NaN</td>\n",
       "    </tr>\n",
       "    <tr>\n",
       "      <th>accelX(g)</th>\n",
       "      <td>2971.0</td>\n",
       "      <td>NaN</td>\n",
       "      <td>NaN</td>\n",
       "      <td>NaN</td>\n",
       "      <td>0.007147</td>\n",
       "      <td>0.156277</td>\n",
       "      <td>-0.7816</td>\n",
       "      <td>-0.0675</td>\n",
       "      <td>0.0193</td>\n",
       "      <td>0.09745</td>\n",
       "      <td>0.8197</td>\n",
       "    </tr>\n",
       "    <tr>\n",
       "      <th>accelY(g)</th>\n",
       "      <td>2971.0</td>\n",
       "      <td>NaN</td>\n",
       "      <td>NaN</td>\n",
       "      <td>NaN</td>\n",
       "      <td>-0.996211</td>\n",
       "      <td>0.165104</td>\n",
       "      <td>-2.6709</td>\n",
       "      <td>-1.08735</td>\n",
       "      <td>-1.0015</td>\n",
       "      <td>-0.91775</td>\n",
       "      <td>0.1484</td>\n",
       "    </tr>\n",
       "    <tr>\n",
       "      <th>accelZ(g)</th>\n",
       "      <td>2971.0</td>\n",
       "      <td>NaN</td>\n",
       "      <td>NaN</td>\n",
       "      <td>NaN</td>\n",
       "      <td>-0.080065</td>\n",
       "      <td>0.151055</td>\n",
       "      <td>-1.5465</td>\n",
       "      <td>-0.15645</td>\n",
       "      <td>-0.0885</td>\n",
       "      <td>-0.01175</td>\n",
       "      <td>1.9072</td>\n",
       "    </tr>\n",
       "    <tr>\n",
       "      <th>accelUserX(g)</th>\n",
       "      <td>2971.0</td>\n",
       "      <td>NaN</td>\n",
       "      <td>NaN</td>\n",
       "      <td>NaN</td>\n",
       "      <td>-0.016446</td>\n",
       "      <td>0.15082</td>\n",
       "      <td>-0.8368</td>\n",
       "      <td>-0.08935</td>\n",
       "      <td>-0.0079</td>\n",
       "      <td>0.068</td>\n",
       "      <td>0.6977</td>\n",
       "    </tr>\n",
       "    <tr>\n",
       "      <th>accelUserY(g)</th>\n",
       "      <td>2971.0</td>\n",
       "      <td>NaN</td>\n",
       "      <td>NaN</td>\n",
       "      <td>NaN</td>\n",
       "      <td>-0.000757</td>\n",
       "      <td>0.16716</td>\n",
       "      <td>-1.791</td>\n",
       "      <td>-0.0896</td>\n",
       "      <td>-0.0066</td>\n",
       "      <td>0.07715</td>\n",
       "      <td>1.1074</td>\n",
       "    </tr>\n",
       "    <tr>\n",
       "      <th>accelUserZ(g)</th>\n",
       "      <td>2971.0</td>\n",
       "      <td>NaN</td>\n",
       "      <td>NaN</td>\n",
       "      <td>NaN</td>\n",
       "      <td>-0.020458</td>\n",
       "      <td>0.136246</td>\n",
       "      <td>-1.4387</td>\n",
       "      <td>-0.08965</td>\n",
       "      <td>-0.0238</td>\n",
       "      <td>0.04855</td>\n",
       "      <td>1.4852</td>\n",
       "    </tr>\n",
       "    <tr>\n",
       "      <th>gyroX(rad/s)</th>\n",
       "      <td>2971.0</td>\n",
       "      <td>NaN</td>\n",
       "      <td>NaN</td>\n",
       "      <td>NaN</td>\n",
       "      <td>0.00795</td>\n",
       "      <td>0.282212</td>\n",
       "      <td>-3.1236</td>\n",
       "      <td>-0.1109</td>\n",
       "      <td>0.0019</td>\n",
       "      <td>0.1223</td>\n",
       "      <td>7.291</td>\n",
       "    </tr>\n",
       "    <tr>\n",
       "      <th>gyroY(rad/s)</th>\n",
       "      <td>2971.0</td>\n",
       "      <td>NaN</td>\n",
       "      <td>NaN</td>\n",
       "      <td>NaN</td>\n",
       "      <td>-0.032313</td>\n",
       "      <td>0.220519</td>\n",
       "      <td>-1.0189</td>\n",
       "      <td>-0.1037</td>\n",
       "      <td>-0.0148</td>\n",
       "      <td>0.0748</td>\n",
       "      <td>1.7943</td>\n",
       "    </tr>\n",
       "    <tr>\n",
       "      <th>gyroZ(rad/s)</th>\n",
       "      <td>2971.0</td>\n",
       "      <td>NaN</td>\n",
       "      <td>NaN</td>\n",
       "      <td>NaN</td>\n",
       "      <td>-0.000349</td>\n",
       "      <td>0.053283</td>\n",
       "      <td>-0.8941</td>\n",
       "      <td>-0.02265</td>\n",
       "      <td>0.0007</td>\n",
       "      <td>0.0232</td>\n",
       "      <td>0.9267</td>\n",
       "    </tr>\n",
       "    <tr>\n",
       "      <th>Roll(rads)</th>\n",
       "      <td>2971.0</td>\n",
       "      <td>NaN</td>\n",
       "      <td>NaN</td>\n",
       "      <td>NaN</td>\n",
       "      <td>0.342225</td>\n",
       "      <td>0.886177</td>\n",
       "      <td>-3.1142</td>\n",
       "      <td>-0.0372</td>\n",
       "      <td>0.4027</td>\n",
       "      <td>0.83075</td>\n",
       "      <td>3.1168</td>\n",
       "    </tr>\n",
       "    <tr>\n",
       "      <th>Pitch(rads)</th>\n",
       "      <td>2971.0</td>\n",
       "      <td>NaN</td>\n",
       "      <td>NaN</td>\n",
       "      <td>NaN</td>\n",
       "      <td>1.492297</td>\n",
       "      <td>0.05053</td>\n",
       "      <td>0.9832</td>\n",
       "      <td>1.45925</td>\n",
       "      <td>1.4954</td>\n",
       "      <td>1.53355</td>\n",
       "      <td>1.5673</td>\n",
       "    </tr>\n",
       "    <tr>\n",
       "      <th>Yaw(rads)</th>\n",
       "      <td>2971.0</td>\n",
       "      <td>NaN</td>\n",
       "      <td>NaN</td>\n",
       "      <td>NaN</td>\n",
       "      <td>0.496092</td>\n",
       "      <td>1.712595</td>\n",
       "      <td>-3.1364</td>\n",
       "      <td>-1.05145</td>\n",
       "      <td>0.6317</td>\n",
       "      <td>2.05295</td>\n",
       "      <td>3.1403</td>\n",
       "    </tr>\n",
       "    <tr>\n",
       "      <th>m11</th>\n",
       "      <td>2971.0</td>\n",
       "      <td>NaN</td>\n",
       "      <td>NaN</td>\n",
       "      <td>NaN</td>\n",
       "      <td>-0.142909</td>\n",
       "      <td>0.713126</td>\n",
       "      <td>-0.9997</td>\n",
       "      <td>-0.8015</td>\n",
       "      <td>-0.3109</td>\n",
       "      <td>0.5984</td>\n",
       "      <td>0.9999</td>\n",
       "    </tr>\n",
       "    <tr>\n",
       "      <th>m12</th>\n",
       "      <td>2971.0</td>\n",
       "      <td>NaN</td>\n",
       "      <td>NaN</td>\n",
       "      <td>NaN</td>\n",
       "      <td>0.209006</td>\n",
       "      <td>0.652261</td>\n",
       "      <td>-0.9999</td>\n",
       "      <td>-0.27465</td>\n",
       "      <td>0.3018</td>\n",
       "      <td>0.79815</td>\n",
       "      <td>1.0</td>\n",
       "    </tr>\n",
       "    <tr>\n",
       "      <th>m13</th>\n",
       "      <td>2971.0</td>\n",
       "      <td>NaN</td>\n",
       "      <td>NaN</td>\n",
       "      <td>NaN</td>\n",
       "      <td>-0.024698</td>\n",
       "      <td>0.04008</td>\n",
       "      <td>-0.1273</td>\n",
       "      <td>-0.0467</td>\n",
       "      <td>-0.0225</td>\n",
       "      <td>0.0021</td>\n",
       "      <td>0.0832</td>\n",
       "    </tr>\n",
       "    <tr>\n",
       "      <th>m21</th>\n",
       "      <td>2971.0</td>\n",
       "      <td>NaN</td>\n",
       "      <td>NaN</td>\n",
       "      <td>NaN</td>\n",
       "      <td>0.003082</td>\n",
       "      <td>0.068249</td>\n",
       "      <td>-0.1389</td>\n",
       "      <td>-0.0381</td>\n",
       "      <td>-0.0168</td>\n",
       "      <td>0.05145</td>\n",
       "      <td>0.5539</td>\n",
       "    </tr>\n",
       "    <tr>\n",
       "      <th>m22</th>\n",
       "      <td>2971.0</td>\n",
       "      <td>NaN</td>\n",
       "      <td>NaN</td>\n",
       "      <td>NaN</td>\n",
       "      <td>0.004752</td>\n",
       "      <td>0.06248</td>\n",
       "      <td>-0.1335</td>\n",
       "      <td>-0.02895</td>\n",
       "      <td>-0.0085</td>\n",
       "      <td>0.04205</td>\n",
       "      <td>0.172</td>\n",
       "    </tr>\n",
       "    <tr>\n",
       "      <th>m23</th>\n",
       "      <td>2971.0</td>\n",
       "      <td>NaN</td>\n",
       "      <td>NaN</td>\n",
       "      <td>NaN</td>\n",
       "      <td>0.995659</td>\n",
       "      <td>0.008561</td>\n",
       "      <td>0.8323</td>\n",
       "      <td>0.9938</td>\n",
       "      <td>0.9972</td>\n",
       "      <td>0.9993</td>\n",
       "      <td>1.0</td>\n",
       "    </tr>\n",
       "    <tr>\n",
       "      <th>m31</th>\n",
       "      <td>2971.0</td>\n",
       "      <td>NaN</td>\n",
       "      <td>NaN</td>\n",
       "      <td>NaN</td>\n",
       "      <td>0.209003</td>\n",
       "      <td>0.65038</td>\n",
       "      <td>-0.9977</td>\n",
       "      <td>-0.27465</td>\n",
       "      <td>0.3032</td>\n",
       "      <td>0.7962</td>\n",
       "      <td>0.9998</td>\n",
       "    </tr>\n",
       "    <tr>\n",
       "      <th>m32</th>\n",
       "      <td>2971.0</td>\n",
       "      <td>NaN</td>\n",
       "      <td>NaN</td>\n",
       "      <td>NaN</td>\n",
       "      <td>0.143427</td>\n",
       "      <td>0.711823</td>\n",
       "      <td>-0.9996</td>\n",
       "      <td>-0.59615</td>\n",
       "      <td>0.311</td>\n",
       "      <td>0.80045</td>\n",
       "      <td>1.0</td>\n",
       "    </tr>\n",
       "    <tr>\n",
       "      <th>m33</th>\n",
       "      <td>2971.0</td>\n",
       "      <td>NaN</td>\n",
       "      <td>NaN</td>\n",
       "      <td>NaN</td>\n",
       "      <td>0.055446</td>\n",
       "      <td>0.057461</td>\n",
       "      <td>-0.5531</td>\n",
       "      <td>0.0222</td>\n",
       "      <td>0.0438</td>\n",
       "      <td>0.1005</td>\n",
       "      <td>0.162</td>\n",
       "    </tr>\n",
       "    <tr>\n",
       "      <th>qX</th>\n",
       "      <td>2971.0</td>\n",
       "      <td>NaN</td>\n",
       "      <td>NaN</td>\n",
       "      <td>NaN</td>\n",
       "      <td>-0.172172</td>\n",
       "      <td>0.411871</td>\n",
       "      <td>-0.701</td>\n",
       "      <td>-0.5626</td>\n",
       "      <td>-0.2472</td>\n",
       "      <td>0.1419</td>\n",
       "      <td>0.6764</td>\n",
       "    </tr>\n",
       "    <tr>\n",
       "      <th>qY</th>\n",
       "      <td>2971.0</td>\n",
       "      <td>NaN</td>\n",
       "      <td>NaN</td>\n",
       "      <td>NaN</td>\n",
       "      <td>0.034535</td>\n",
       "      <td>0.521491</td>\n",
       "      <td>-0.706</td>\n",
       "      <td>-0.5662</td>\n",
       "      <td>0.166</td>\n",
       "      <td>0.5572</td>\n",
       "      <td>0.7072</td>\n",
       "    </tr>\n",
       "    <tr>\n",
       "      <th>qZ</th>\n",
       "      <td>2971.0</td>\n",
       "      <td>NaN</td>\n",
       "      <td>NaN</td>\n",
       "      <td>NaN</td>\n",
       "      <td>0.042277</td>\n",
       "      <td>0.544714</td>\n",
       "      <td>-0.7522</td>\n",
       "      <td>-0.59665</td>\n",
       "      <td>0.1558</td>\n",
       "      <td>0.57</td>\n",
       "      <td>0.7528</td>\n",
       "    </tr>\n",
       "    <tr>\n",
       "      <th>qW</th>\n",
       "      <td>2971.0</td>\n",
       "      <td>NaN</td>\n",
       "      <td>NaN</td>\n",
       "      <td>NaN</td>\n",
       "      <td>-0.18639</td>\n",
       "      <td>0.441188</td>\n",
       "      <td>-0.7538</td>\n",
       "      <td>-0.61285</td>\n",
       "      <td>-0.2653</td>\n",
       "      <td>0.156</td>\n",
       "      <td>0.7569</td>\n",
       "    </tr>\n",
       "    <tr>\n",
       "      <th>Lat</th>\n",
       "      <td>2971.0</td>\n",
       "      <td>NaN</td>\n",
       "      <td>NaN</td>\n",
       "      <td>NaN</td>\n",
       "      <td>56.146489</td>\n",
       "      <td>0.001127</td>\n",
       "      <td>56.144472</td>\n",
       "      <td>56.145323</td>\n",
       "      <td>56.146704</td>\n",
       "      <td>56.147611</td>\n",
       "      <td>56.147792</td>\n",
       "    </tr>\n",
       "    <tr>\n",
       "      <th>Long</th>\n",
       "      <td>2971.0</td>\n",
       "      <td>NaN</td>\n",
       "      <td>NaN</td>\n",
       "      <td>NaN</td>\n",
       "      <td>-3.925031</td>\n",
       "      <td>0.002277</td>\n",
       "      <td>-3.929288</td>\n",
       "      <td>-3.92696</td>\n",
       "      <td>-3.924477</td>\n",
       "      <td>-3.923208</td>\n",
       "      <td>-3.921936</td>\n",
       "    </tr>\n",
       "    <tr>\n",
       "      <th>Speed(m/s)</th>\n",
       "      <td>2971.0</td>\n",
       "      <td>NaN</td>\n",
       "      <td>NaN</td>\n",
       "      <td>NaN</td>\n",
       "      <td>7.206528</td>\n",
       "      <td>2.221132</td>\n",
       "      <td>0.0</td>\n",
       "      <td>5.5123</td>\n",
       "      <td>8.0827</td>\n",
       "      <td>8.761</td>\n",
       "      <td>10.3352</td>\n",
       "    </tr>\n",
       "    <tr>\n",
       "      <th>TrueHeading</th>\n",
       "      <td>2971.0</td>\n",
       "      <td>NaN</td>\n",
       "      <td>NaN</td>\n",
       "      <td>NaN</td>\n",
       "      <td>188.720162</td>\n",
       "      <td>93.605613</td>\n",
       "      <td>0.0</td>\n",
       "      <td>114.1</td>\n",
       "      <td>160.0</td>\n",
       "      <td>279.25</td>\n",
       "      <td>359.8</td>\n",
       "    </tr>\n",
       "    <tr>\n",
       "      <th>Alt(m)</th>\n",
       "      <td>2971.0</td>\n",
       "      <td>NaN</td>\n",
       "      <td>NaN</td>\n",
       "      <td>NaN</td>\n",
       "      <td>27.62492</td>\n",
       "      <td>7.283809</td>\n",
       "      <td>16.092758</td>\n",
       "      <td>20.674421</td>\n",
       "      <td>26.486149</td>\n",
       "      <td>35.391926</td>\n",
       "      <td>38.689949</td>\n",
       "    </tr>\n",
       "    <tr>\n",
       "      <th>HorizontalAccuracy(m)</th>\n",
       "      <td>2971.0</td>\n",
       "      <td>NaN</td>\n",
       "      <td>NaN</td>\n",
       "      <td>NaN</td>\n",
       "      <td>4.71582</td>\n",
       "      <td>0.272262</td>\n",
       "      <td>4.7</td>\n",
       "      <td>4.7</td>\n",
       "      <td>4.7</td>\n",
       "      <td>4.7</td>\n",
       "      <td>9.4</td>\n",
       "    </tr>\n",
       "    <tr>\n",
       "      <th>VerticalAccuracy(m)</th>\n",
       "      <td>2971.0</td>\n",
       "      <td>NaN</td>\n",
       "      <td>NaN</td>\n",
       "      <td>NaN</td>\n",
       "      <td>3.4</td>\n",
       "      <td>0.0</td>\n",
       "      <td>3.4</td>\n",
       "      <td>3.4</td>\n",
       "      <td>3.4</td>\n",
       "      <td>3.4</td>\n",
       "      <td>3.4</td>\n",
       "    </tr>\n",
       "    <tr>\n",
       "      <th>Course</th>\n",
       "      <td>2971.0</td>\n",
       "      <td>NaN</td>\n",
       "      <td>NaN</td>\n",
       "      <td>NaN</td>\n",
       "      <td>184.167755</td>\n",
       "      <td>91.884389</td>\n",
       "      <td>1.3</td>\n",
       "      <td>111.5</td>\n",
       "      <td>161.5</td>\n",
       "      <td>269.2</td>\n",
       "      <td>358.7</td>\n",
       "    </tr>\n",
       "    <tr>\n",
       "      <th>ActivityType</th>\n",
       "      <td>2971</td>\n",
       "      <td>1</td>\n",
       "      <td>Automotive</td>\n",
       "      <td>2971</td>\n",
       "      <td>NaN</td>\n",
       "      <td>NaN</td>\n",
       "      <td>NaN</td>\n",
       "      <td>NaN</td>\n",
       "      <td>NaN</td>\n",
       "      <td>NaN</td>\n",
       "      <td>NaN</td>\n",
       "    </tr>\n",
       "    <tr>\n",
       "      <th>ActivityConfidence</th>\n",
       "      <td>2971</td>\n",
       "      <td>1</td>\n",
       "      <td>High</td>\n",
       "      <td>2971</td>\n",
       "      <td>NaN</td>\n",
       "      <td>NaN</td>\n",
       "      <td>NaN</td>\n",
       "      <td>NaN</td>\n",
       "      <td>NaN</td>\n",
       "      <td>NaN</td>\n",
       "      <td>NaN</td>\n",
       "    </tr>\n",
       "    <tr>\n",
       "      <th>RelativeAltitude(meters)</th>\n",
       "      <td>2971.0</td>\n",
       "      <td>NaN</td>\n",
       "      <td>NaN</td>\n",
       "      <td>NaN</td>\n",
       "      <td>1.815979</td>\n",
       "      <td>7.392398</td>\n",
       "      <td>-10.4372</td>\n",
       "      <td>-5.0521</td>\n",
       "      <td>1.7756</td>\n",
       "      <td>9.3908</td>\n",
       "      <td>11.3356</td>\n",
       "    </tr>\n",
       "    <tr>\n",
       "      <th>Output</th>\n",
       "      <td>2971.0</td>\n",
       "      <td>NaN</td>\n",
       "      <td>NaN</td>\n",
       "      <td>NaN</td>\n",
       "      <td>0.060249</td>\n",
       "      <td>0.237988</td>\n",
       "      <td>0.0</td>\n",
       "      <td>0.0</td>\n",
       "      <td>0.0</td>\n",
       "      <td>0.0</td>\n",
       "      <td>1.0</td>\n",
       "    </tr>\n",
       "  </tbody>\n",
       "</table>\n",
       "</div>"
      ],
      "text/plain": [
       "                           count unique                       top  freq  \\\n",
       "Timestamp                   2971   2971  17-Jul-2022 17:26:29.785     1   \n",
       "accelX(g)                 2971.0    NaN                       NaN   NaN   \n",
       "accelY(g)                 2971.0    NaN                       NaN   NaN   \n",
       "accelZ(g)                 2971.0    NaN                       NaN   NaN   \n",
       "accelUserX(g)             2971.0    NaN                       NaN   NaN   \n",
       "accelUserY(g)             2971.0    NaN                       NaN   NaN   \n",
       "accelUserZ(g)             2971.0    NaN                       NaN   NaN   \n",
       "gyroX(rad/s)              2971.0    NaN                       NaN   NaN   \n",
       "gyroY(rad/s)              2971.0    NaN                       NaN   NaN   \n",
       "gyroZ(rad/s)              2971.0    NaN                       NaN   NaN   \n",
       "Roll(rads)                2971.0    NaN                       NaN   NaN   \n",
       "Pitch(rads)               2971.0    NaN                       NaN   NaN   \n",
       "Yaw(rads)                 2971.0    NaN                       NaN   NaN   \n",
       "m11                       2971.0    NaN                       NaN   NaN   \n",
       "m12                       2971.0    NaN                       NaN   NaN   \n",
       "m13                       2971.0    NaN                       NaN   NaN   \n",
       "m21                       2971.0    NaN                       NaN   NaN   \n",
       "m22                       2971.0    NaN                       NaN   NaN   \n",
       "m23                       2971.0    NaN                       NaN   NaN   \n",
       "m31                       2971.0    NaN                       NaN   NaN   \n",
       "m32                       2971.0    NaN                       NaN   NaN   \n",
       "m33                       2971.0    NaN                       NaN   NaN   \n",
       "qX                        2971.0    NaN                       NaN   NaN   \n",
       "qY                        2971.0    NaN                       NaN   NaN   \n",
       "qZ                        2971.0    NaN                       NaN   NaN   \n",
       "qW                        2971.0    NaN                       NaN   NaN   \n",
       "Lat                       2971.0    NaN                       NaN   NaN   \n",
       "Long                      2971.0    NaN                       NaN   NaN   \n",
       "Speed(m/s)                2971.0    NaN                       NaN   NaN   \n",
       "TrueHeading               2971.0    NaN                       NaN   NaN   \n",
       "Alt(m)                    2971.0    NaN                       NaN   NaN   \n",
       "HorizontalAccuracy(m)     2971.0    NaN                       NaN   NaN   \n",
       "VerticalAccuracy(m)       2971.0    NaN                       NaN   NaN   \n",
       "Course                    2971.0    NaN                       NaN   NaN   \n",
       "ActivityType                2971      1                Automotive  2971   \n",
       "ActivityConfidence          2971      1                      High  2971   \n",
       "RelativeAltitude(meters)  2971.0    NaN                       NaN   NaN   \n",
       "Output                    2971.0    NaN                       NaN   NaN   \n",
       "\n",
       "                                mean        std        min        25%  \\\n",
       "Timestamp                        NaN        NaN        NaN        NaN   \n",
       "accelX(g)                   0.007147   0.156277    -0.7816    -0.0675   \n",
       "accelY(g)                  -0.996211   0.165104    -2.6709   -1.08735   \n",
       "accelZ(g)                  -0.080065   0.151055    -1.5465   -0.15645   \n",
       "accelUserX(g)              -0.016446    0.15082    -0.8368   -0.08935   \n",
       "accelUserY(g)              -0.000757    0.16716     -1.791    -0.0896   \n",
       "accelUserZ(g)              -0.020458   0.136246    -1.4387   -0.08965   \n",
       "gyroX(rad/s)                 0.00795   0.282212    -3.1236    -0.1109   \n",
       "gyroY(rad/s)               -0.032313   0.220519    -1.0189    -0.1037   \n",
       "gyroZ(rad/s)               -0.000349   0.053283    -0.8941   -0.02265   \n",
       "Roll(rads)                  0.342225   0.886177    -3.1142    -0.0372   \n",
       "Pitch(rads)                 1.492297    0.05053     0.9832    1.45925   \n",
       "Yaw(rads)                   0.496092   1.712595    -3.1364   -1.05145   \n",
       "m11                        -0.142909   0.713126    -0.9997    -0.8015   \n",
       "m12                         0.209006   0.652261    -0.9999   -0.27465   \n",
       "m13                        -0.024698    0.04008    -0.1273    -0.0467   \n",
       "m21                         0.003082   0.068249    -0.1389    -0.0381   \n",
       "m22                         0.004752    0.06248    -0.1335   -0.02895   \n",
       "m23                         0.995659   0.008561     0.8323     0.9938   \n",
       "m31                         0.209003    0.65038    -0.9977   -0.27465   \n",
       "m32                         0.143427   0.711823    -0.9996   -0.59615   \n",
       "m33                         0.055446   0.057461    -0.5531     0.0222   \n",
       "qX                         -0.172172   0.411871     -0.701    -0.5626   \n",
       "qY                          0.034535   0.521491     -0.706    -0.5662   \n",
       "qZ                          0.042277   0.544714    -0.7522   -0.59665   \n",
       "qW                          -0.18639   0.441188    -0.7538   -0.61285   \n",
       "Lat                        56.146489   0.001127  56.144472  56.145323   \n",
       "Long                       -3.925031   0.002277  -3.929288   -3.92696   \n",
       "Speed(m/s)                  7.206528   2.221132        0.0     5.5123   \n",
       "TrueHeading               188.720162  93.605613        0.0      114.1   \n",
       "Alt(m)                      27.62492   7.283809  16.092758  20.674421   \n",
       "HorizontalAccuracy(m)        4.71582   0.272262        4.7        4.7   \n",
       "VerticalAccuracy(m)              3.4        0.0        3.4        3.4   \n",
       "Course                    184.167755  91.884389        1.3      111.5   \n",
       "ActivityType                     NaN        NaN        NaN        NaN   \n",
       "ActivityConfidence               NaN        NaN        NaN        NaN   \n",
       "RelativeAltitude(meters)    1.815979   7.392398   -10.4372    -5.0521   \n",
       "Output                      0.060249   0.237988        0.0        0.0   \n",
       "\n",
       "                                50%        75%        max  \n",
       "Timestamp                       NaN        NaN        NaN  \n",
       "accelX(g)                    0.0193    0.09745     0.8197  \n",
       "accelY(g)                   -1.0015   -0.91775     0.1484  \n",
       "accelZ(g)                   -0.0885   -0.01175     1.9072  \n",
       "accelUserX(g)               -0.0079      0.068     0.6977  \n",
       "accelUserY(g)               -0.0066    0.07715     1.1074  \n",
       "accelUserZ(g)               -0.0238    0.04855     1.4852  \n",
       "gyroX(rad/s)                 0.0019     0.1223      7.291  \n",
       "gyroY(rad/s)                -0.0148     0.0748     1.7943  \n",
       "gyroZ(rad/s)                 0.0007     0.0232     0.9267  \n",
       "Roll(rads)                   0.4027    0.83075     3.1168  \n",
       "Pitch(rads)                  1.4954    1.53355     1.5673  \n",
       "Yaw(rads)                    0.6317    2.05295     3.1403  \n",
       "m11                         -0.3109     0.5984     0.9999  \n",
       "m12                          0.3018    0.79815        1.0  \n",
       "m13                         -0.0225     0.0021     0.0832  \n",
       "m21                         -0.0168    0.05145     0.5539  \n",
       "m22                         -0.0085    0.04205      0.172  \n",
       "m23                          0.9972     0.9993        1.0  \n",
       "m31                          0.3032     0.7962     0.9998  \n",
       "m32                           0.311    0.80045        1.0  \n",
       "m33                          0.0438     0.1005      0.162  \n",
       "qX                          -0.2472     0.1419     0.6764  \n",
       "qY                            0.166     0.5572     0.7072  \n",
       "qZ                           0.1558       0.57     0.7528  \n",
       "qW                          -0.2653      0.156     0.7569  \n",
       "Lat                       56.146704  56.147611  56.147792  \n",
       "Long                      -3.924477  -3.923208  -3.921936  \n",
       "Speed(m/s)                   8.0827      8.761    10.3352  \n",
       "TrueHeading                   160.0     279.25      359.8  \n",
       "Alt(m)                    26.486149  35.391926  38.689949  \n",
       "HorizontalAccuracy(m)           4.7        4.7        9.4  \n",
       "VerticalAccuracy(m)             3.4        3.4        3.4  \n",
       "Course                        161.5      269.2      358.7  \n",
       "ActivityType                    NaN        NaN        NaN  \n",
       "ActivityConfidence              NaN        NaN        NaN  \n",
       "RelativeAltitude(meters)     1.7756     9.3908    11.3356  \n",
       "Output                          0.0        0.0        1.0  "
      ]
     },
     "execution_count": 6,
     "metadata": {},
     "output_type": "execute_result"
    }
   ],
   "source": [
    "df_train.describe(include=\"all\").T"
   ]
  },
  {
   "cell_type": "code",
   "execution_count": 7,
   "id": "74eeae53",
   "metadata": {},
   "outputs": [
    {
     "data": {
      "text/plain": [
       "Index(['accelX(g)', 'accelY(g)', 'accelZ(g)', 'accelUserX(g)', 'accelUserY(g)',\n",
       "       'accelUserZ(g)', 'gyroX(rad/s)', 'gyroY(rad/s)', 'gyroZ(rad/s)',\n",
       "       'Roll(rads)', 'Pitch(rads)', 'Yaw(rads)', 'm11', 'm12', 'm13', 'm21',\n",
       "       'm22', 'm23', 'm31', 'm32', 'm33', 'qX', 'qY', 'qZ', 'qW', 'Lat',\n",
       "       'Long', 'Speed(m/s)', 'TrueHeading', 'Alt(m)', 'HorizontalAccuracy(m)',\n",
       "       'VerticalAccuracy(m)', 'Course', 'RelativeAltitude(meters)', 'Output'],\n",
       "      dtype='object')"
      ]
     },
     "execution_count": 7,
     "metadata": {},
     "output_type": "execute_result"
    }
   ],
   "source": [
    "numerical_columns_train = df_train.select_dtypes(include=[np.number]).columns\n",
    "numerical_columns_train"
   ]
  },
  {
   "cell_type": "code",
   "execution_count": 8,
   "id": "dddd173b",
   "metadata": {},
   "outputs": [
    {
     "data": {
      "text/html": [
       "<div>\n",
       "<style scoped>\n",
       "    .dataframe tbody tr th:only-of-type {\n",
       "        vertical-align: middle;\n",
       "    }\n",
       "\n",
       "    .dataframe tbody tr th {\n",
       "        vertical-align: top;\n",
       "    }\n",
       "\n",
       "    .dataframe thead th {\n",
       "        text-align: right;\n",
       "    }\n",
       "</style>\n",
       "<table border=\"1\" class=\"dataframe\">\n",
       "  <thead>\n",
       "    <tr style=\"text-align: right;\">\n",
       "      <th></th>\n",
       "      <th>count</th>\n",
       "      <th>mean</th>\n",
       "      <th>std</th>\n",
       "      <th>min</th>\n",
       "      <th>25%</th>\n",
       "      <th>50%</th>\n",
       "      <th>75%</th>\n",
       "      <th>max</th>\n",
       "    </tr>\n",
       "  </thead>\n",
       "  <tbody>\n",
       "    <tr>\n",
       "      <th>accelX(g)</th>\n",
       "      <td>2971.0</td>\n",
       "      <td>0.007147</td>\n",
       "      <td>1.562770e-01</td>\n",
       "      <td>-0.781600</td>\n",
       "      <td>-0.067500</td>\n",
       "      <td>0.019300</td>\n",
       "      <td>0.097450</td>\n",
       "      <td>0.819700</td>\n",
       "    </tr>\n",
       "    <tr>\n",
       "      <th>accelY(g)</th>\n",
       "      <td>2971.0</td>\n",
       "      <td>-0.996211</td>\n",
       "      <td>1.651039e-01</td>\n",
       "      <td>-2.670900</td>\n",
       "      <td>-1.087350</td>\n",
       "      <td>-1.001500</td>\n",
       "      <td>-0.917750</td>\n",
       "      <td>0.148400</td>\n",
       "    </tr>\n",
       "    <tr>\n",
       "      <th>accelZ(g)</th>\n",
       "      <td>2971.0</td>\n",
       "      <td>-0.080065</td>\n",
       "      <td>1.510548e-01</td>\n",
       "      <td>-1.546500</td>\n",
       "      <td>-0.156450</td>\n",
       "      <td>-0.088500</td>\n",
       "      <td>-0.011750</td>\n",
       "      <td>1.907200</td>\n",
       "    </tr>\n",
       "    <tr>\n",
       "      <th>accelUserX(g)</th>\n",
       "      <td>2971.0</td>\n",
       "      <td>-0.016446</td>\n",
       "      <td>1.508195e-01</td>\n",
       "      <td>-0.836800</td>\n",
       "      <td>-0.089350</td>\n",
       "      <td>-0.007900</td>\n",
       "      <td>0.068000</td>\n",
       "      <td>0.697700</td>\n",
       "    </tr>\n",
       "    <tr>\n",
       "      <th>accelUserY(g)</th>\n",
       "      <td>2971.0</td>\n",
       "      <td>-0.000757</td>\n",
       "      <td>1.671599e-01</td>\n",
       "      <td>-1.791000</td>\n",
       "      <td>-0.089600</td>\n",
       "      <td>-0.006600</td>\n",
       "      <td>0.077150</td>\n",
       "      <td>1.107400</td>\n",
       "    </tr>\n",
       "    <tr>\n",
       "      <th>accelUserZ(g)</th>\n",
       "      <td>2971.0</td>\n",
       "      <td>-0.020458</td>\n",
       "      <td>1.362460e-01</td>\n",
       "      <td>-1.438700</td>\n",
       "      <td>-0.089650</td>\n",
       "      <td>-0.023800</td>\n",
       "      <td>0.048550</td>\n",
       "      <td>1.485200</td>\n",
       "    </tr>\n",
       "    <tr>\n",
       "      <th>gyroX(rad/s)</th>\n",
       "      <td>2971.0</td>\n",
       "      <td>0.007950</td>\n",
       "      <td>2.822123e-01</td>\n",
       "      <td>-3.123600</td>\n",
       "      <td>-0.110900</td>\n",
       "      <td>0.001900</td>\n",
       "      <td>0.122300</td>\n",
       "      <td>7.291000</td>\n",
       "    </tr>\n",
       "    <tr>\n",
       "      <th>gyroY(rad/s)</th>\n",
       "      <td>2971.0</td>\n",
       "      <td>-0.032313</td>\n",
       "      <td>2.205195e-01</td>\n",
       "      <td>-1.018900</td>\n",
       "      <td>-0.103700</td>\n",
       "      <td>-0.014800</td>\n",
       "      <td>0.074800</td>\n",
       "      <td>1.794300</td>\n",
       "    </tr>\n",
       "    <tr>\n",
       "      <th>gyroZ(rad/s)</th>\n",
       "      <td>2971.0</td>\n",
       "      <td>-0.000349</td>\n",
       "      <td>5.328254e-02</td>\n",
       "      <td>-0.894100</td>\n",
       "      <td>-0.022650</td>\n",
       "      <td>0.000700</td>\n",
       "      <td>0.023200</td>\n",
       "      <td>0.926700</td>\n",
       "    </tr>\n",
       "    <tr>\n",
       "      <th>Roll(rads)</th>\n",
       "      <td>2971.0</td>\n",
       "      <td>0.342225</td>\n",
       "      <td>8.861765e-01</td>\n",
       "      <td>-3.114200</td>\n",
       "      <td>-0.037200</td>\n",
       "      <td>0.402700</td>\n",
       "      <td>0.830750</td>\n",
       "      <td>3.116800</td>\n",
       "    </tr>\n",
       "    <tr>\n",
       "      <th>Pitch(rads)</th>\n",
       "      <td>2971.0</td>\n",
       "      <td>1.492297</td>\n",
       "      <td>5.053003e-02</td>\n",
       "      <td>0.983200</td>\n",
       "      <td>1.459250</td>\n",
       "      <td>1.495400</td>\n",
       "      <td>1.533550</td>\n",
       "      <td>1.567300</td>\n",
       "    </tr>\n",
       "    <tr>\n",
       "      <th>Yaw(rads)</th>\n",
       "      <td>2971.0</td>\n",
       "      <td>0.496092</td>\n",
       "      <td>1.712595e+00</td>\n",
       "      <td>-3.136400</td>\n",
       "      <td>-1.051450</td>\n",
       "      <td>0.631700</td>\n",
       "      <td>2.052950</td>\n",
       "      <td>3.140300</td>\n",
       "    </tr>\n",
       "    <tr>\n",
       "      <th>m11</th>\n",
       "      <td>2971.0</td>\n",
       "      <td>-0.142909</td>\n",
       "      <td>7.131255e-01</td>\n",
       "      <td>-0.999700</td>\n",
       "      <td>-0.801500</td>\n",
       "      <td>-0.310900</td>\n",
       "      <td>0.598400</td>\n",
       "      <td>0.999900</td>\n",
       "    </tr>\n",
       "    <tr>\n",
       "      <th>m12</th>\n",
       "      <td>2971.0</td>\n",
       "      <td>0.209006</td>\n",
       "      <td>6.522606e-01</td>\n",
       "      <td>-0.999900</td>\n",
       "      <td>-0.274650</td>\n",
       "      <td>0.301800</td>\n",
       "      <td>0.798150</td>\n",
       "      <td>1.000000</td>\n",
       "    </tr>\n",
       "    <tr>\n",
       "      <th>m13</th>\n",
       "      <td>2971.0</td>\n",
       "      <td>-0.024698</td>\n",
       "      <td>4.007999e-02</td>\n",
       "      <td>-0.127300</td>\n",
       "      <td>-0.046700</td>\n",
       "      <td>-0.022500</td>\n",
       "      <td>0.002100</td>\n",
       "      <td>0.083200</td>\n",
       "    </tr>\n",
       "    <tr>\n",
       "      <th>m21</th>\n",
       "      <td>2971.0</td>\n",
       "      <td>0.003082</td>\n",
       "      <td>6.824901e-02</td>\n",
       "      <td>-0.138900</td>\n",
       "      <td>-0.038100</td>\n",
       "      <td>-0.016800</td>\n",
       "      <td>0.051450</td>\n",
       "      <td>0.553900</td>\n",
       "    </tr>\n",
       "    <tr>\n",
       "      <th>m22</th>\n",
       "      <td>2971.0</td>\n",
       "      <td>0.004752</td>\n",
       "      <td>6.247956e-02</td>\n",
       "      <td>-0.133500</td>\n",
       "      <td>-0.028950</td>\n",
       "      <td>-0.008500</td>\n",
       "      <td>0.042050</td>\n",
       "      <td>0.172000</td>\n",
       "    </tr>\n",
       "    <tr>\n",
       "      <th>m23</th>\n",
       "      <td>2971.0</td>\n",
       "      <td>0.995659</td>\n",
       "      <td>8.561167e-03</td>\n",
       "      <td>0.832300</td>\n",
       "      <td>0.993800</td>\n",
       "      <td>0.997200</td>\n",
       "      <td>0.999300</td>\n",
       "      <td>1.000000</td>\n",
       "    </tr>\n",
       "    <tr>\n",
       "      <th>m31</th>\n",
       "      <td>2971.0</td>\n",
       "      <td>0.209003</td>\n",
       "      <td>6.503804e-01</td>\n",
       "      <td>-0.997700</td>\n",
       "      <td>-0.274650</td>\n",
       "      <td>0.303200</td>\n",
       "      <td>0.796200</td>\n",
       "      <td>0.999800</td>\n",
       "    </tr>\n",
       "    <tr>\n",
       "      <th>m32</th>\n",
       "      <td>2971.0</td>\n",
       "      <td>0.143427</td>\n",
       "      <td>7.118228e-01</td>\n",
       "      <td>-0.999600</td>\n",
       "      <td>-0.596150</td>\n",
       "      <td>0.311000</td>\n",
       "      <td>0.800450</td>\n",
       "      <td>1.000000</td>\n",
       "    </tr>\n",
       "    <tr>\n",
       "      <th>m33</th>\n",
       "      <td>2971.0</td>\n",
       "      <td>0.055446</td>\n",
       "      <td>5.746112e-02</td>\n",
       "      <td>-0.553100</td>\n",
       "      <td>0.022200</td>\n",
       "      <td>0.043800</td>\n",
       "      <td>0.100500</td>\n",
       "      <td>0.162000</td>\n",
       "    </tr>\n",
       "    <tr>\n",
       "      <th>qX</th>\n",
       "      <td>2971.0</td>\n",
       "      <td>-0.172172</td>\n",
       "      <td>4.118706e-01</td>\n",
       "      <td>-0.701000</td>\n",
       "      <td>-0.562600</td>\n",
       "      <td>-0.247200</td>\n",
       "      <td>0.141900</td>\n",
       "      <td>0.676400</td>\n",
       "    </tr>\n",
       "    <tr>\n",
       "      <th>qY</th>\n",
       "      <td>2971.0</td>\n",
       "      <td>0.034535</td>\n",
       "      <td>5.214912e-01</td>\n",
       "      <td>-0.706000</td>\n",
       "      <td>-0.566200</td>\n",
       "      <td>0.166000</td>\n",
       "      <td>0.557200</td>\n",
       "      <td>0.707200</td>\n",
       "    </tr>\n",
       "    <tr>\n",
       "      <th>qZ</th>\n",
       "      <td>2971.0</td>\n",
       "      <td>0.042277</td>\n",
       "      <td>5.447137e-01</td>\n",
       "      <td>-0.752200</td>\n",
       "      <td>-0.596650</td>\n",
       "      <td>0.155800</td>\n",
       "      <td>0.570000</td>\n",
       "      <td>0.752800</td>\n",
       "    </tr>\n",
       "    <tr>\n",
       "      <th>qW</th>\n",
       "      <td>2971.0</td>\n",
       "      <td>-0.186390</td>\n",
       "      <td>4.411876e-01</td>\n",
       "      <td>-0.753800</td>\n",
       "      <td>-0.612850</td>\n",
       "      <td>-0.265300</td>\n",
       "      <td>0.156000</td>\n",
       "      <td>0.756900</td>\n",
       "    </tr>\n",
       "    <tr>\n",
       "      <th>Lat</th>\n",
       "      <td>2971.0</td>\n",
       "      <td>56.146489</td>\n",
       "      <td>1.126786e-03</td>\n",
       "      <td>56.144472</td>\n",
       "      <td>56.145323</td>\n",
       "      <td>56.146704</td>\n",
       "      <td>56.147611</td>\n",
       "      <td>56.147792</td>\n",
       "    </tr>\n",
       "    <tr>\n",
       "      <th>Long</th>\n",
       "      <td>2971.0</td>\n",
       "      <td>-3.925031</td>\n",
       "      <td>2.277064e-03</td>\n",
       "      <td>-3.929288</td>\n",
       "      <td>-3.926960</td>\n",
       "      <td>-3.924477</td>\n",
       "      <td>-3.923208</td>\n",
       "      <td>-3.921936</td>\n",
       "    </tr>\n",
       "    <tr>\n",
       "      <th>Speed(m/s)</th>\n",
       "      <td>2971.0</td>\n",
       "      <td>7.206528</td>\n",
       "      <td>2.221132e+00</td>\n",
       "      <td>0.000000</td>\n",
       "      <td>5.512300</td>\n",
       "      <td>8.082700</td>\n",
       "      <td>8.761000</td>\n",
       "      <td>10.335200</td>\n",
       "    </tr>\n",
       "    <tr>\n",
       "      <th>TrueHeading</th>\n",
       "      <td>2971.0</td>\n",
       "      <td>188.720162</td>\n",
       "      <td>9.360561e+01</td>\n",
       "      <td>0.000000</td>\n",
       "      <td>114.100000</td>\n",
       "      <td>160.000000</td>\n",
       "      <td>279.250000</td>\n",
       "      <td>359.800000</td>\n",
       "    </tr>\n",
       "    <tr>\n",
       "      <th>Alt(m)</th>\n",
       "      <td>2971.0</td>\n",
       "      <td>27.624920</td>\n",
       "      <td>7.283809e+00</td>\n",
       "      <td>16.092758</td>\n",
       "      <td>20.674421</td>\n",
       "      <td>26.486149</td>\n",
       "      <td>35.391926</td>\n",
       "      <td>38.689949</td>\n",
       "    </tr>\n",
       "    <tr>\n",
       "      <th>HorizontalAccuracy(m)</th>\n",
       "      <td>2971.0</td>\n",
       "      <td>4.715820</td>\n",
       "      <td>2.722623e-01</td>\n",
       "      <td>4.700000</td>\n",
       "      <td>4.700000</td>\n",
       "      <td>4.700000</td>\n",
       "      <td>4.700000</td>\n",
       "      <td>9.400000</td>\n",
       "    </tr>\n",
       "    <tr>\n",
       "      <th>VerticalAccuracy(m)</th>\n",
       "      <td>2971.0</td>\n",
       "      <td>3.400000</td>\n",
       "      <td>1.896580e-13</td>\n",
       "      <td>3.400000</td>\n",
       "      <td>3.400000</td>\n",
       "      <td>3.400000</td>\n",
       "      <td>3.400000</td>\n",
       "      <td>3.400000</td>\n",
       "    </tr>\n",
       "    <tr>\n",
       "      <th>Course</th>\n",
       "      <td>2971.0</td>\n",
       "      <td>184.167755</td>\n",
       "      <td>9.188439e+01</td>\n",
       "      <td>1.300000</td>\n",
       "      <td>111.500000</td>\n",
       "      <td>161.500000</td>\n",
       "      <td>269.200000</td>\n",
       "      <td>358.700000</td>\n",
       "    </tr>\n",
       "    <tr>\n",
       "      <th>RelativeAltitude(meters)</th>\n",
       "      <td>2971.0</td>\n",
       "      <td>1.815979</td>\n",
       "      <td>7.392398e+00</td>\n",
       "      <td>-10.437200</td>\n",
       "      <td>-5.052100</td>\n",
       "      <td>1.775600</td>\n",
       "      <td>9.390800</td>\n",
       "      <td>11.335600</td>\n",
       "    </tr>\n",
       "    <tr>\n",
       "      <th>Output</th>\n",
       "      <td>2971.0</td>\n",
       "      <td>0.060249</td>\n",
       "      <td>2.379878e-01</td>\n",
       "      <td>0.000000</td>\n",
       "      <td>0.000000</td>\n",
       "      <td>0.000000</td>\n",
       "      <td>0.000000</td>\n",
       "      <td>1.000000</td>\n",
       "    </tr>\n",
       "  </tbody>\n",
       "</table>\n",
       "</div>"
      ],
      "text/plain": [
       "                           count        mean           std        min  \\\n",
       "accelX(g)                 2971.0    0.007147  1.562770e-01  -0.781600   \n",
       "accelY(g)                 2971.0   -0.996211  1.651039e-01  -2.670900   \n",
       "accelZ(g)                 2971.0   -0.080065  1.510548e-01  -1.546500   \n",
       "accelUserX(g)             2971.0   -0.016446  1.508195e-01  -0.836800   \n",
       "accelUserY(g)             2971.0   -0.000757  1.671599e-01  -1.791000   \n",
       "accelUserZ(g)             2971.0   -0.020458  1.362460e-01  -1.438700   \n",
       "gyroX(rad/s)              2971.0    0.007950  2.822123e-01  -3.123600   \n",
       "gyroY(rad/s)              2971.0   -0.032313  2.205195e-01  -1.018900   \n",
       "gyroZ(rad/s)              2971.0   -0.000349  5.328254e-02  -0.894100   \n",
       "Roll(rads)                2971.0    0.342225  8.861765e-01  -3.114200   \n",
       "Pitch(rads)               2971.0    1.492297  5.053003e-02   0.983200   \n",
       "Yaw(rads)                 2971.0    0.496092  1.712595e+00  -3.136400   \n",
       "m11                       2971.0   -0.142909  7.131255e-01  -0.999700   \n",
       "m12                       2971.0    0.209006  6.522606e-01  -0.999900   \n",
       "m13                       2971.0   -0.024698  4.007999e-02  -0.127300   \n",
       "m21                       2971.0    0.003082  6.824901e-02  -0.138900   \n",
       "m22                       2971.0    0.004752  6.247956e-02  -0.133500   \n",
       "m23                       2971.0    0.995659  8.561167e-03   0.832300   \n",
       "m31                       2971.0    0.209003  6.503804e-01  -0.997700   \n",
       "m32                       2971.0    0.143427  7.118228e-01  -0.999600   \n",
       "m33                       2971.0    0.055446  5.746112e-02  -0.553100   \n",
       "qX                        2971.0   -0.172172  4.118706e-01  -0.701000   \n",
       "qY                        2971.0    0.034535  5.214912e-01  -0.706000   \n",
       "qZ                        2971.0    0.042277  5.447137e-01  -0.752200   \n",
       "qW                        2971.0   -0.186390  4.411876e-01  -0.753800   \n",
       "Lat                       2971.0   56.146489  1.126786e-03  56.144472   \n",
       "Long                      2971.0   -3.925031  2.277064e-03  -3.929288   \n",
       "Speed(m/s)                2971.0    7.206528  2.221132e+00   0.000000   \n",
       "TrueHeading               2971.0  188.720162  9.360561e+01   0.000000   \n",
       "Alt(m)                    2971.0   27.624920  7.283809e+00  16.092758   \n",
       "HorizontalAccuracy(m)     2971.0    4.715820  2.722623e-01   4.700000   \n",
       "VerticalAccuracy(m)       2971.0    3.400000  1.896580e-13   3.400000   \n",
       "Course                    2971.0  184.167755  9.188439e+01   1.300000   \n",
       "RelativeAltitude(meters)  2971.0    1.815979  7.392398e+00 -10.437200   \n",
       "Output                    2971.0    0.060249  2.379878e-01   0.000000   \n",
       "\n",
       "                                 25%         50%         75%         max  \n",
       "accelX(g)                  -0.067500    0.019300    0.097450    0.819700  \n",
       "accelY(g)                  -1.087350   -1.001500   -0.917750    0.148400  \n",
       "accelZ(g)                  -0.156450   -0.088500   -0.011750    1.907200  \n",
       "accelUserX(g)              -0.089350   -0.007900    0.068000    0.697700  \n",
       "accelUserY(g)              -0.089600   -0.006600    0.077150    1.107400  \n",
       "accelUserZ(g)              -0.089650   -0.023800    0.048550    1.485200  \n",
       "gyroX(rad/s)               -0.110900    0.001900    0.122300    7.291000  \n",
       "gyroY(rad/s)               -0.103700   -0.014800    0.074800    1.794300  \n",
       "gyroZ(rad/s)               -0.022650    0.000700    0.023200    0.926700  \n",
       "Roll(rads)                 -0.037200    0.402700    0.830750    3.116800  \n",
       "Pitch(rads)                 1.459250    1.495400    1.533550    1.567300  \n",
       "Yaw(rads)                  -1.051450    0.631700    2.052950    3.140300  \n",
       "m11                        -0.801500   -0.310900    0.598400    0.999900  \n",
       "m12                        -0.274650    0.301800    0.798150    1.000000  \n",
       "m13                        -0.046700   -0.022500    0.002100    0.083200  \n",
       "m21                        -0.038100   -0.016800    0.051450    0.553900  \n",
       "m22                        -0.028950   -0.008500    0.042050    0.172000  \n",
       "m23                         0.993800    0.997200    0.999300    1.000000  \n",
       "m31                        -0.274650    0.303200    0.796200    0.999800  \n",
       "m32                        -0.596150    0.311000    0.800450    1.000000  \n",
       "m33                         0.022200    0.043800    0.100500    0.162000  \n",
       "qX                         -0.562600   -0.247200    0.141900    0.676400  \n",
       "qY                         -0.566200    0.166000    0.557200    0.707200  \n",
       "qZ                         -0.596650    0.155800    0.570000    0.752800  \n",
       "qW                         -0.612850   -0.265300    0.156000    0.756900  \n",
       "Lat                        56.145323   56.146704   56.147611   56.147792  \n",
       "Long                       -3.926960   -3.924477   -3.923208   -3.921936  \n",
       "Speed(m/s)                  5.512300    8.082700    8.761000   10.335200  \n",
       "TrueHeading               114.100000  160.000000  279.250000  359.800000  \n",
       "Alt(m)                     20.674421   26.486149   35.391926   38.689949  \n",
       "HorizontalAccuracy(m)       4.700000    4.700000    4.700000    9.400000  \n",
       "VerticalAccuracy(m)         3.400000    3.400000    3.400000    3.400000  \n",
       "Course                    111.500000  161.500000  269.200000  358.700000  \n",
       "RelativeAltitude(meters)   -5.052100    1.775600    9.390800   11.335600  \n",
       "Output                      0.000000    0.000000    0.000000    1.000000  "
      ]
     },
     "execution_count": 8,
     "metadata": {},
     "output_type": "execute_result"
    }
   ],
   "source": [
    "df_train.describe(include=[np.number]).T"
   ]
  },
  {
   "cell_type": "code",
   "execution_count": 9,
   "id": "255a5f46",
   "metadata": {},
   "outputs": [
    {
     "name": "stdout",
     "output_type": "stream",
     "text": [
      "Percentage of potholes samples 6.024907438572871 %\n",
      "Percentage of not potholes samples 93.97509256142713 %\n"
     ]
    },
    {
     "data": {
      "text/plain": [
       "<AxesSubplot:>"
      ]
     },
     "execution_count": 9,
     "metadata": {},
     "output_type": "execute_result"
    },
    {
     "data": {
      "image/png": "[encoded data removed]",
      "text/plain": [
       "<Figure size 432x288 with 1 Axes>"
      ]
     },
     "metadata": {
      "needs_background": "light"
     },
     "output_type": "display_data"
    }
   ],
   "source": [
    "potholes_train = df_train[df_train['Output'] == 1]\n",
    "not_potholes_train = df_train[df_train['Output'] == 0]\n",
    "\n",
    "print(\"Percentage of potholes samples\", 1.*len(potholes_train)/len(df_train)*100.0, \"%\")\n",
    "print(\"Percentage of not potholes samples\", 1.*len(not_potholes_train)/len(df_train)*100.0, \"%\")\n",
    "\n",
    "df_train['Output'].value_counts().plot(kind='bar', color='g')"
   ]
  },
  {
   "cell_type": "code",
   "execution_count": 10,
   "id": "b1035637",
   "metadata": {
    "scrolled": true
   },
   "outputs": [
    {
     "data": {
      "text/plain": [
       "array([[<AxesSubplot:title={'center':'accelX(g)'}>,\n",
       "        <AxesSubplot:title={'center':'accelY(g)'}>,\n",
       "        <AxesSubplot:title={'center':'accelZ(g)'}>,\n",
       "        <AxesSubplot:title={'center':'accelUserX(g)'}>,\n",
       "        <AxesSubplot:title={'center':'accelUserY(g)'}>,\n",
       "        <AxesSubplot:title={'center':'accelUserZ(g)'}>],\n",
       "       [<AxesSubplot:title={'center':'gyroX(rad/s)'}>,\n",
       "        <AxesSubplot:title={'center':'gyroY(rad/s)'}>,\n",
       "        <AxesSubplot:title={'center':'gyroZ(rad/s)'}>,\n",
       "        <AxesSubplot:title={'center':'Roll(rads)'}>,\n",
       "        <AxesSubplot:title={'center':'Pitch(rads)'}>,\n",
       "        <AxesSubplot:title={'center':'Yaw(rads)'}>],\n",
       "       [<AxesSubplot:title={'center':'m11'}>,\n",
       "        <AxesSubplot:title={'center':'m12'}>,\n",
       "        <AxesSubplot:title={'center':'m13'}>,\n",
       "        <AxesSubplot:title={'center':'m21'}>,\n",
       "        <AxesSubplot:title={'center':'m22'}>,\n",
       "        <AxesSubplot:title={'center':'m23'}>],\n",
       "       [<AxesSubplot:title={'center':'m31'}>,\n",
       "        <AxesSubplot:title={'center':'m32'}>,\n",
       "        <AxesSubplot:title={'center':'m33'}>,\n",
       "        <AxesSubplot:title={'center':'qX'}>,\n",
       "        <AxesSubplot:title={'center':'qY'}>,\n",
       "        <AxesSubplot:title={'center':'qZ'}>],\n",
       "       [<AxesSubplot:title={'center':'qW'}>,\n",
       "        <AxesSubplot:title={'center':'Lat'}>,\n",
       "        <AxesSubplot:title={'center':'Long'}>,\n",
       "        <AxesSubplot:title={'center':'Speed(m/s)'}>,\n",
       "        <AxesSubplot:title={'center':'TrueHeading'}>,\n",
       "        <AxesSubplot:title={'center':'Alt(m)'}>],\n",
       "       [<AxesSubplot:title={'center':'HorizontalAccuracy(m)'}>,\n",
       "        <AxesSubplot:title={'center':'VerticalAccuracy(m)'}>,\n",
       "        <AxesSubplot:title={'center':'Course'}>,\n",
       "        <AxesSubplot:title={'center':'RelativeAltitude(meters)'}>,\n",
       "        <AxesSubplot:title={'center':'Output'}>, <AxesSubplot:>]],\n",
       "      dtype=object)"
      ]
     },
     "execution_count": 10,
     "metadata": {},
     "output_type": "execute_result"
    },
    {
     "data": {
      "image/png": "[encoded data removed]",
      "text/plain": [
       "<Figure size 1080x1440 with 36 Axes>"
      ]
     },
     "metadata": {
      "needs_background": "light"
     },
     "output_type": "display_data"
    }
   ],
   "source": [
    "# Plot distributions...\n",
    "df_train.hist(figsize = (15,20))"
   ]
  },
  {
   "cell_type": "code",
   "execution_count": 11,
   "id": "3d1fcfa5",
   "metadata": {},
   "outputs": [
    {
     "data": {
      "text/html": [
       "<div>\n",
       "<style scoped>\n",
       "    .dataframe tbody tr th:only-of-type {\n",
       "        vertical-align: middle;\n",
       "    }\n",
       "\n",
       "    .dataframe tbody tr th {\n",
       "        vertical-align: top;\n",
       "    }\n",
       "\n",
       "    .dataframe thead th {\n",
       "        text-align: right;\n",
       "    }\n",
       "</style>\n",
       "<table border=\"1\" class=\"dataframe\">\n",
       "  <thead>\n",
       "    <tr style=\"text-align: right;\">\n",
       "      <th></th>\n",
       "      <th>Timestamp</th>\n",
       "      <th>accelX(g)</th>\n",
       "      <th>accelY(g)</th>\n",
       "      <th>accelZ(g)</th>\n",
       "      <th>accelUserX(g)</th>\n",
       "      <th>accelUserY(g)</th>\n",
       "      <th>accelUserZ(g)</th>\n",
       "      <th>gyroX(rad/s)</th>\n",
       "      <th>gyroY(rad/s)</th>\n",
       "      <th>gyroZ(rad/s)</th>\n",
       "      <th>...</th>\n",
       "      <th>Speed(m/s)</th>\n",
       "      <th>TrueHeading</th>\n",
       "      <th>Alt(m)</th>\n",
       "      <th>HorizontalAccuracy(m)</th>\n",
       "      <th>VerticalAccuracy(m)</th>\n",
       "      <th>Course</th>\n",
       "      <th>ActivityType</th>\n",
       "      <th>ActivityConfidence</th>\n",
       "      <th>RelativeAltitude(meters)</th>\n",
       "      <th>Output</th>\n",
       "    </tr>\n",
       "  </thead>\n",
       "  <tbody>\n",
       "    <tr>\n",
       "      <th>0</th>\n",
       "      <td>17-Jul-2022 17:42:40.987</td>\n",
       "      <td>0.0483</td>\n",
       "      <td>-0.9927</td>\n",
       "      <td>-0.0465</td>\n",
       "      <td>0.0448</td>\n",
       "      <td>0.0722</td>\n",
       "      <td>-0.0301</td>\n",
       "      <td>0.1518</td>\n",
       "      <td>-0.0086</td>\n",
       "      <td>0.0290</td>\n",
       "      <td>...</td>\n",
       "      <td>7.9422</td>\n",
       "      <td>299.2</td>\n",
       "      <td>12.975561</td>\n",
       "      <td>4.7</td>\n",
       "      <td>3.4</td>\n",
       "      <td>294.4</td>\n",
       "      <td>Automotive</td>\n",
       "      <td>High</td>\n",
       "      <td>2.5102</td>\n",
       "      <td>0</td>\n",
       "    </tr>\n",
       "    <tr>\n",
       "      <th>1</th>\n",
       "      <td>17-Jul-2022 17:42:41.087</td>\n",
       "      <td>-0.0176</td>\n",
       "      <td>-1.0569</td>\n",
       "      <td>-0.0621</td>\n",
       "      <td>-0.0410</td>\n",
       "      <td>-0.0629</td>\n",
       "      <td>-0.0570</td>\n",
       "      <td>-0.0066</td>\n",
       "      <td>-0.0403</td>\n",
       "      <td>0.0305</td>\n",
       "      <td>...</td>\n",
       "      <td>7.1239</td>\n",
       "      <td>299.2</td>\n",
       "      <td>12.462137</td>\n",
       "      <td>4.7</td>\n",
       "      <td>3.4</td>\n",
       "      <td>295.0</td>\n",
       "      <td>Automotive</td>\n",
       "      <td>High</td>\n",
       "      <td>2.5102</td>\n",
       "      <td>0</td>\n",
       "    </tr>\n",
       "    <tr>\n",
       "      <th>2</th>\n",
       "      <td>17-Jul-2022 17:42:41.187</td>\n",
       "      <td>0.0264</td>\n",
       "      <td>-1.0705</td>\n",
       "      <td>-0.1192</td>\n",
       "      <td>0.0088</td>\n",
       "      <td>-0.0800</td>\n",
       "      <td>-0.1104</td>\n",
       "      <td>-0.0030</td>\n",
       "      <td>-0.0422</td>\n",
       "      <td>0.0219</td>\n",
       "      <td>...</td>\n",
       "      <td>7.1239</td>\n",
       "      <td>299.2</td>\n",
       "      <td>12.462137</td>\n",
       "      <td>4.7</td>\n",
       "      <td>3.4</td>\n",
       "      <td>295.0</td>\n",
       "      <td>Automotive</td>\n",
       "      <td>High</td>\n",
       "      <td>2.5102</td>\n",
       "      <td>0</td>\n",
       "    </tr>\n",
       "    <tr>\n",
       "      <th>3</th>\n",
       "      <td>17-Jul-2022 17:42:41.286</td>\n",
       "      <td>0.0171</td>\n",
       "      <td>-1.0115</td>\n",
       "      <td>-0.0205</td>\n",
       "      <td>0.0009</td>\n",
       "      <td>-0.0109</td>\n",
       "      <td>0.0167</td>\n",
       "      <td>-0.0051</td>\n",
       "      <td>-0.0299</td>\n",
       "      <td>-0.0091</td>\n",
       "      <td>...</td>\n",
       "      <td>7.1239</td>\n",
       "      <td>300.2</td>\n",
       "      <td>12.462137</td>\n",
       "      <td>4.7</td>\n",
       "      <td>3.4</td>\n",
       "      <td>295.0</td>\n",
       "      <td>Automotive</td>\n",
       "      <td>High</td>\n",
       "      <td>2.5102</td>\n",
       "      <td>0</td>\n",
       "    </tr>\n",
       "    <tr>\n",
       "      <th>4</th>\n",
       "      <td>17-Jul-2022 17:42:41.386</td>\n",
       "      <td>-0.0289</td>\n",
       "      <td>-0.9831</td>\n",
       "      <td>-0.0254</td>\n",
       "      <td>-0.0711</td>\n",
       "      <td>-0.0115</td>\n",
       "      <td>0.0223</td>\n",
       "      <td>0.2552</td>\n",
       "      <td>-0.2027</td>\n",
       "      <td>0.0434</td>\n",
       "      <td>...</td>\n",
       "      <td>7.1239</td>\n",
       "      <td>300.2</td>\n",
       "      <td>12.462137</td>\n",
       "      <td>4.7</td>\n",
       "      <td>3.4</td>\n",
       "      <td>295.0</td>\n",
       "      <td>Automotive</td>\n",
       "      <td>High</td>\n",
       "      <td>2.5102</td>\n",
       "      <td>0</td>\n",
       "    </tr>\n",
       "  </tbody>\n",
       "</table>\n",
       "<p>5 rows × 38 columns</p>\n",
       "</div>"
      ],
      "text/plain": [
       "                  Timestamp  accelX(g)  accelY(g)  accelZ(g)  accelUserX(g)  \\\n",
       "0  17-Jul-2022 17:42:40.987     0.0483    -0.9927    -0.0465         0.0448   \n",
       "1  17-Jul-2022 17:42:41.087    -0.0176    -1.0569    -0.0621        -0.0410   \n",
       "2  17-Jul-2022 17:42:41.187     0.0264    -1.0705    -0.1192         0.0088   \n",
       "3  17-Jul-2022 17:42:41.286     0.0171    -1.0115    -0.0205         0.0009   \n",
       "4  17-Jul-2022 17:42:41.386    -0.0289    -0.9831    -0.0254        -0.0711   \n",
       "\n",
       "   accelUserY(g)  accelUserZ(g)  gyroX(rad/s)  gyroY(rad/s)  gyroZ(rad/s)  \\\n",
       "0         0.0722        -0.0301        0.1518       -0.0086        0.0290   \n",
       "1        -0.0629        -0.0570       -0.0066       -0.0403        0.0305   \n",
       "2        -0.0800        -0.1104       -0.0030       -0.0422        0.0219   \n",
       "3        -0.0109         0.0167       -0.0051       -0.0299       -0.0091   \n",
       "4        -0.0115         0.0223        0.2552       -0.2027        0.0434   \n",
       "\n",
       "   ...  Speed(m/s)  TrueHeading     Alt(m)  HorizontalAccuracy(m)  \\\n",
       "0  ...      7.9422        299.2  12.975561                    4.7   \n",
       "1  ...      7.1239        299.2  12.462137                    4.7   \n",
       "2  ...      7.1239        299.2  12.462137                    4.7   \n",
       "3  ...      7.1239        300.2  12.462137                    4.7   \n",
       "4  ...      7.1239        300.2  12.462137                    4.7   \n",
       "\n",
       "   VerticalAccuracy(m)  Course  ActivityType  ActivityConfidence  \\\n",
       "0                  3.4   294.4    Automotive                High   \n",
       "1                  3.4   295.0    Automotive                High   \n",
       "2                  3.4   295.0    Automotive                High   \n",
       "3                  3.4   295.0    Automotive                High   \n",
       "4                  3.4   295.0    Automotive                High   \n",
       "\n",
       "   RelativeAltitude(meters)  Output  \n",
       "0                    2.5102       0  \n",
       "1                    2.5102       0  \n",
       "2                    2.5102       0  \n",
       "3                    2.5102       0  \n",
       "4                    2.5102       0  \n",
       "\n",
       "[5 rows x 38 columns]"
      ]
     },
     "execution_count": 11,
     "metadata": {},
     "output_type": "execute_result"
    }
   ],
   "source": [
    "df_validation.head()"
   ]
  },
  {
   "cell_type": "code",
   "execution_count": 12,
   "id": "0d55bde1",
   "metadata": {},
   "outputs": [
    {
     "name": "stdout",
     "output_type": "stream",
     "text": [
      "<class 'pandas.core.frame.DataFrame'>\n",
      "RangeIndex: 713 entries, 0 to 712\n",
      "Data columns (total 38 columns):\n",
      " #   Column                    Non-Null Count  Dtype  \n",
      "---  ------                    --------------  -----  \n",
      " 0   Timestamp                 713 non-null    object \n",
      " 1   accelX(g)                 713 non-null    float64\n",
      " 2   accelY(g)                 713 non-null    float64\n",
      " 3   accelZ(g)                 713 non-null    float64\n",
      " 4   accelUserX(g)             713 non-null    float64\n",
      " 5   accelUserY(g)             713 non-null    float64\n",
      " 6   accelUserZ(g)             713 non-null    float64\n",
      " 7   gyroX(rad/s)              713 non-null    float64\n",
      " 8   gyroY(rad/s)              713 non-null    float64\n",
      " 9   gyroZ(rad/s)              713 non-null    float64\n",
      " 10  Roll(rads)                713 non-null    float64\n",
      " 11  Pitch(rads)               713 non-null    float64\n",
      " 12  Yaw(rads)                 713 non-null    float64\n",
      " 13  m11                       713 non-null    float64\n",
      " 14  m12                       713 non-null    float64\n",
      " 15  m13                       713 non-null    float64\n",
      " 16  m21                       713 non-null    float64\n",
      " 17  m22                       713 non-null    float64\n",
      " 18  m23                       713 non-null    float64\n",
      " 19  m31                       713 non-null    float64\n",
      " 20  m32                       713 non-null    float64\n",
      " 21  m33                       713 non-null    float64\n",
      " 22  qX                        713 non-null    float64\n",
      " 23  qY                        713 non-null    float64\n",
      " 24  qZ                        713 non-null    float64\n",
      " 25  qW                        713 non-null    float64\n",
      " 26  Lat                       713 non-null    float64\n",
      " 27  Long                      713 non-null    float64\n",
      " 28  Speed(m/s)                713 non-null    float64\n",
      " 29  TrueHeading               713 non-null    float64\n",
      " 30  Alt(m)                    713 non-null    float64\n",
      " 31  HorizontalAccuracy(m)     713 non-null    float64\n",
      " 32  VerticalAccuracy(m)       713 non-null    float64\n",
      " 33  Course                    713 non-null    float64\n",
      " 34  ActivityType              713 non-null    object \n",
      " 35  ActivityConfidence        713 non-null    object \n",
      " 36  RelativeAltitude(meters)  713 non-null    float64\n",
      " 37  Output                    713 non-null    int64  \n",
      "dtypes: float64(34), int64(1), object(3)\n",
      "memory usage: 211.8+ KB\n"
     ]
    }
   ],
   "source": [
    "df_validation.info()"
   ]
  },
  {
   "cell_type": "code",
   "execution_count": 13,
   "id": "5b31e50d",
   "metadata": {},
   "outputs": [
    {
     "data": {
      "text/html": [
       "<div>\n",
       "<style scoped>\n",
       "    .dataframe tbody tr th:only-of-type {\n",
       "        vertical-align: middle;\n",
       "    }\n",
       "\n",
       "    .dataframe tbody tr th {\n",
       "        vertical-align: top;\n",
       "    }\n",
       "\n",
       "    .dataframe thead th {\n",
       "        text-align: right;\n",
       "    }\n",
       "</style>\n",
       "<table border=\"1\" class=\"dataframe\">\n",
       "  <thead>\n",
       "    <tr style=\"text-align: right;\">\n",
       "      <th></th>\n",
       "      <th>count</th>\n",
       "      <th>unique</th>\n",
       "      <th>top</th>\n",
       "      <th>freq</th>\n",
       "      <th>mean</th>\n",
       "      <th>std</th>\n",
       "      <th>min</th>\n",
       "      <th>25%</th>\n",
       "      <th>50%</th>\n",
       "      <th>75%</th>\n",
       "      <th>max</th>\n",
       "    </tr>\n",
       "  </thead>\n",
       "  <tbody>\n",
       "    <tr>\n",
       "      <th>Timestamp</th>\n",
       "      <td>713</td>\n",
       "      <td>712</td>\n",
       "      <td>17-Jul-2022 17:42:45.086</td>\n",
       "      <td>2</td>\n",
       "      <td>NaN</td>\n",
       "      <td>NaN</td>\n",
       "      <td>NaN</td>\n",
       "      <td>NaN</td>\n",
       "      <td>NaN</td>\n",
       "      <td>NaN</td>\n",
       "      <td>NaN</td>\n",
       "    </tr>\n",
       "    <tr>\n",
       "      <th>accelX(g)</th>\n",
       "      <td>713.0</td>\n",
       "      <td>NaN</td>\n",
       "      <td>NaN</td>\n",
       "      <td>NaN</td>\n",
       "      <td>0.043179</td>\n",
       "      <td>0.137785</td>\n",
       "      <td>-0.6484</td>\n",
       "      <td>-0.027</td>\n",
       "      <td>0.0391</td>\n",
       "      <td>0.1096</td>\n",
       "      <td>0.7227</td>\n",
       "    </tr>\n",
       "    <tr>\n",
       "      <th>accelY(g)</th>\n",
       "      <td>713.0</td>\n",
       "      <td>NaN</td>\n",
       "      <td>NaN</td>\n",
       "      <td>NaN</td>\n",
       "      <td>-0.995409</td>\n",
       "      <td>0.138011</td>\n",
       "      <td>-1.5381</td>\n",
       "      <td>-1.0724</td>\n",
       "      <td>-0.9981</td>\n",
       "      <td>-0.9197</td>\n",
       "      <td>-0.5438</td>\n",
       "    </tr>\n",
       "    <tr>\n",
       "      <th>accelZ(g)</th>\n",
       "      <td>713.0</td>\n",
       "      <td>NaN</td>\n",
       "      <td>NaN</td>\n",
       "      <td>NaN</td>\n",
       "      <td>-0.033476</td>\n",
       "      <td>0.097917</td>\n",
       "      <td>-0.4554</td>\n",
       "      <td>-0.0861</td>\n",
       "      <td>-0.0289</td>\n",
       "      <td>0.0213</td>\n",
       "      <td>0.2959</td>\n",
       "    </tr>\n",
       "    <tr>\n",
       "      <th>accelUserX(g)</th>\n",
       "      <td>713.0</td>\n",
       "      <td>NaN</td>\n",
       "      <td>NaN</td>\n",
       "      <td>NaN</td>\n",
       "      <td>0.015661</td>\n",
       "      <td>0.134666</td>\n",
       "      <td>-0.6902</td>\n",
       "      <td>-0.0563</td>\n",
       "      <td>0.0117</td>\n",
       "      <td>0.0818</td>\n",
       "      <td>0.6369</td>\n",
       "    </tr>\n",
       "    <tr>\n",
       "      <th>accelUserY(g)</th>\n",
       "      <td>713.0</td>\n",
       "      <td>NaN</td>\n",
       "      <td>NaN</td>\n",
       "      <td>NaN</td>\n",
       "      <td>0.004389</td>\n",
       "      <td>0.135487</td>\n",
       "      <td>-0.4024</td>\n",
       "      <td>-0.0733</td>\n",
       "      <td>0.0009</td>\n",
       "      <td>0.0798</td>\n",
       "      <td>0.4364</td>\n",
       "    </tr>\n",
       "    <tr>\n",
       "      <th>accelUserZ(g)</th>\n",
       "      <td>713.0</td>\n",
       "      <td>NaN</td>\n",
       "      <td>NaN</td>\n",
       "      <td>NaN</td>\n",
       "      <td>-0.021345</td>\n",
       "      <td>0.100858</td>\n",
       "      <td>-0.4491</td>\n",
       "      <td>-0.0739</td>\n",
       "      <td>-0.0165</td>\n",
       "      <td>0.0378</td>\n",
       "      <td>0.3349</td>\n",
       "    </tr>\n",
       "    <tr>\n",
       "      <th>gyroX(rad/s)</th>\n",
       "      <td>713.0</td>\n",
       "      <td>NaN</td>\n",
       "      <td>NaN</td>\n",
       "      <td>NaN</td>\n",
       "      <td>0.015768</td>\n",
       "      <td>0.205734</td>\n",
       "      <td>-0.5932</td>\n",
       "      <td>-0.1003</td>\n",
       "      <td>0.0033</td>\n",
       "      <td>0.125</td>\n",
       "      <td>0.9896</td>\n",
       "    </tr>\n",
       "    <tr>\n",
       "      <th>gyroY(rad/s)</th>\n",
       "      <td>713.0</td>\n",
       "      <td>NaN</td>\n",
       "      <td>NaN</td>\n",
       "      <td>NaN</td>\n",
       "      <td>0.049068</td>\n",
       "      <td>0.224606</td>\n",
       "      <td>-0.5715</td>\n",
       "      <td>-0.0553</td>\n",
       "      <td>0.0124</td>\n",
       "      <td>0.0975</td>\n",
       "      <td>0.896</td>\n",
       "    </tr>\n",
       "    <tr>\n",
       "      <th>gyroZ(rad/s)</th>\n",
       "      <td>713.0</td>\n",
       "      <td>NaN</td>\n",
       "      <td>NaN</td>\n",
       "      <td>NaN</td>\n",
       "      <td>0.003475</td>\n",
       "      <td>0.050457</td>\n",
       "      <td>-0.4404</td>\n",
       "      <td>-0.0201</td>\n",
       "      <td>0.0036</td>\n",
       "      <td>0.0275</td>\n",
       "      <td>0.2433</td>\n",
       "    </tr>\n",
       "    <tr>\n",
       "      <th>Roll(rads)</th>\n",
       "      <td>713.0</td>\n",
       "      <td>NaN</td>\n",
       "      <td>NaN</td>\n",
       "      <td>NaN</td>\n",
       "      <td>1.075908</td>\n",
       "      <td>0.679123</td>\n",
       "      <td>-3.1228</td>\n",
       "      <td>0.6899</td>\n",
       "      <td>1.04</td>\n",
       "      <td>1.5993</td>\n",
       "      <td>2.9815</td>\n",
       "    </tr>\n",
       "    <tr>\n",
       "      <th>Pitch(rads)</th>\n",
       "      <td>713.0</td>\n",
       "      <td>NaN</td>\n",
       "      <td>NaN</td>\n",
       "      <td>NaN</td>\n",
       "      <td>1.535919</td>\n",
       "      <td>0.018161</td>\n",
       "      <td>1.4575</td>\n",
       "      <td>1.5274</td>\n",
       "      <td>1.5372</td>\n",
       "      <td>1.5474</td>\n",
       "      <td>1.5693</td>\n",
       "    </tr>\n",
       "    <tr>\n",
       "      <th>Yaw(rads)</th>\n",
       "      <td>713.0</td>\n",
       "      <td>NaN</td>\n",
       "      <td>NaN</td>\n",
       "      <td>NaN</td>\n",
       "      <td>-0.006774</td>\n",
       "      <td>1.248024</td>\n",
       "      <td>-2.9287</td>\n",
       "      <td>-0.8715</td>\n",
       "      <td>-0.3014</td>\n",
       "      <td>0.9916</td>\n",
       "      <td>3.0671</td>\n",
       "    </tr>\n",
       "    <tr>\n",
       "      <th>m11</th>\n",
       "      <td>713.0</td>\n",
       "      <td>NaN</td>\n",
       "      <td>NaN</td>\n",
       "      <td>NaN</td>\n",
       "      <td>0.259855</td>\n",
       "      <td>0.690056</td>\n",
       "      <td>-0.9995</td>\n",
       "      <td>0.1313</td>\n",
       "      <td>0.1818</td>\n",
       "      <td>0.9432</td>\n",
       "      <td>0.9999</td>\n",
       "    </tr>\n",
       "    <tr>\n",
       "      <th>m12</th>\n",
       "      <td>713.0</td>\n",
       "      <td>NaN</td>\n",
       "      <td>NaN</td>\n",
       "      <td>NaN</td>\n",
       "      <td>0.360164</td>\n",
       "      <td>0.571488</td>\n",
       "      <td>-0.6662</td>\n",
       "      <td>-0.2353</td>\n",
       "      <td>0.3156</td>\n",
       "      <td>0.9862</td>\n",
       "      <td>0.9998</td>\n",
       "    </tr>\n",
       "    <tr>\n",
       "      <th>m13</th>\n",
       "      <td>713.0</td>\n",
       "      <td>NaN</td>\n",
       "      <td>NaN</td>\n",
       "      <td>NaN</td>\n",
       "      <td>-0.027534</td>\n",
       "      <td>0.018775</td>\n",
       "      <td>-0.0917</td>\n",
       "      <td>-0.0371</td>\n",
       "      <td>-0.0248</td>\n",
       "      <td>-0.0149</td>\n",
       "      <td>0.01</td>\n",
       "    </tr>\n",
       "    <tr>\n",
       "      <th>m21</th>\n",
       "      <td>713.0</td>\n",
       "      <td>NaN</td>\n",
       "      <td>NaN</td>\n",
       "      <td>NaN</td>\n",
       "      <td>0.006132</td>\n",
       "      <td>0.023298</td>\n",
       "      <td>-0.0636</td>\n",
       "      <td>-0.0088</td>\n",
       "      <td>0.0121</td>\n",
       "      <td>0.0245</td>\n",
       "      <td>0.0476</td>\n",
       "    </tr>\n",
       "    <tr>\n",
       "      <th>m22</th>\n",
       "      <td>713.0</td>\n",
       "      <td>NaN</td>\n",
       "      <td>NaN</td>\n",
       "      <td>NaN</td>\n",
       "      <td>0.016757</td>\n",
       "      <td>0.026168</td>\n",
       "      <td>-0.0566</td>\n",
       "      <td>0.0024</td>\n",
       "      <td>0.0144</td>\n",
       "      <td>0.0294</td>\n",
       "      <td>0.1084</td>\n",
       "    </tr>\n",
       "    <tr>\n",
       "      <th>m23</th>\n",
       "      <td>713.0</td>\n",
       "      <td>NaN</td>\n",
       "      <td>NaN</td>\n",
       "      <td>NaN</td>\n",
       "      <td>0.999228</td>\n",
       "      <td>0.000819</td>\n",
       "      <td>0.9936</td>\n",
       "      <td>0.9991</td>\n",
       "      <td>0.9994</td>\n",
       "      <td>0.9997</td>\n",
       "      <td>1.0</td>\n",
       "    </tr>\n",
       "    <tr>\n",
       "      <th>m31</th>\n",
       "      <td>713.0</td>\n",
       "      <td>NaN</td>\n",
       "      <td>NaN</td>\n",
       "      <td>NaN</td>\n",
       "      <td>0.360534</td>\n",
       "      <td>0.571717</td>\n",
       "      <td>-0.6662</td>\n",
       "      <td>-0.2348</td>\n",
       "      <td>0.3156</td>\n",
       "      <td>0.9869</td>\n",
       "      <td>0.9995</td>\n",
       "    </tr>\n",
       "    <tr>\n",
       "      <th>m32</th>\n",
       "      <td>713.0</td>\n",
       "      <td>NaN</td>\n",
       "      <td>NaN</td>\n",
       "      <td>NaN</td>\n",
       "      <td>-0.259886</td>\n",
       "      <td>0.690148</td>\n",
       "      <td>-0.9997</td>\n",
       "      <td>-0.9428</td>\n",
       "      <td>-0.183</td>\n",
       "      <td>-0.1313</td>\n",
       "      <td>1.0</td>\n",
       "    </tr>\n",
       "    <tr>\n",
       "      <th>m33</th>\n",
       "      <td>713.0</td>\n",
       "      <td>NaN</td>\n",
       "      <td>NaN</td>\n",
       "      <td>NaN</td>\n",
       "      <td>0.012372</td>\n",
       "      <td>0.016768</td>\n",
       "      <td>-0.0281</td>\n",
       "      <td>-0.0012</td>\n",
       "      <td>0.0121</td>\n",
       "      <td>0.0249</td>\n",
       "      <td>0.0759</td>\n",
       "    </tr>\n",
       "    <tr>\n",
       "      <th>qX</th>\n",
       "      <td>713.0</td>\n",
       "      <td>NaN</td>\n",
       "      <td>NaN</td>\n",
       "      <td>NaN</td>\n",
       "      <td>-0.500552</td>\n",
       "      <td>0.239182</td>\n",
       "      <td>-0.7155</td>\n",
       "      <td>-0.6881</td>\n",
       "      <td>-0.5357</td>\n",
       "      <td>-0.5235</td>\n",
       "      <td>0.0671</td>\n",
       "    </tr>\n",
       "    <tr>\n",
       "      <th>qY</th>\n",
       "      <td>713.0</td>\n",
       "      <td>NaN</td>\n",
       "      <td>NaN</td>\n",
       "      <td>NaN</td>\n",
       "      <td>-0.301526</td>\n",
       "      <td>0.308783</td>\n",
       "      <td>-0.7101</td>\n",
       "      <td>-0.4784</td>\n",
       "      <td>-0.4613</td>\n",
       "      <td>0.0718</td>\n",
       "      <td>0.2515</td>\n",
       "    </tr>\n",
       "    <tr>\n",
       "      <th>qZ</th>\n",
       "      <td>713.0</td>\n",
       "      <td>NaN</td>\n",
       "      <td>NaN</td>\n",
       "      <td>NaN</td>\n",
       "      <td>-0.290156</td>\n",
       "      <td>0.316052</td>\n",
       "      <td>-0.7251</td>\n",
       "      <td>-0.4636</td>\n",
       "      <td>-0.4371</td>\n",
       "      <td>0.0945</td>\n",
       "      <td>0.2568</td>\n",
       "    </tr>\n",
       "    <tr>\n",
       "      <th>qW</th>\n",
       "      <td>713.0</td>\n",
       "      <td>NaN</td>\n",
       "      <td>NaN</td>\n",
       "      <td>NaN</td>\n",
       "      <td>-0.516185</td>\n",
       "      <td>0.236379</td>\n",
       "      <td>-0.72</td>\n",
       "      <td>-0.7047</td>\n",
       "      <td>-0.5551</td>\n",
       "      <td>-0.534</td>\n",
       "      <td>0.038</td>\n",
       "    </tr>\n",
       "    <tr>\n",
       "      <th>Lat</th>\n",
       "      <td>713.0</td>\n",
       "      <td>NaN</td>\n",
       "      <td>NaN</td>\n",
       "      <td>NaN</td>\n",
       "      <td>56.153679</td>\n",
       "      <td>0.000504</td>\n",
       "      <td>56.15308</td>\n",
       "      <td>56.153178</td>\n",
       "      <td>56.153549</td>\n",
       "      <td>56.154191</td>\n",
       "      <td>56.154446</td>\n",
       "    </tr>\n",
       "    <tr>\n",
       "      <th>Long</th>\n",
       "      <td>713.0</td>\n",
       "      <td>NaN</td>\n",
       "      <td>NaN</td>\n",
       "      <td>NaN</td>\n",
       "      <td>-3.946352</td>\n",
       "      <td>0.000931</td>\n",
       "      <td>-3.947616</td>\n",
       "      <td>-3.947069</td>\n",
       "      <td>-3.94654</td>\n",
       "      <td>-3.945801</td>\n",
       "      <td>-3.944082</td>\n",
       "    </tr>\n",
       "    <tr>\n",
       "      <th>Speed(m/s)</th>\n",
       "      <td>713.0</td>\n",
       "      <td>NaN</td>\n",
       "      <td>NaN</td>\n",
       "      <td>NaN</td>\n",
       "      <td>5.2206</td>\n",
       "      <td>1.713179</td>\n",
       "      <td>0.0</td>\n",
       "      <td>4.3829</td>\n",
       "      <td>5.2994</td>\n",
       "      <td>6.5261</td>\n",
       "      <td>7.9422</td>\n",
       "    </tr>\n",
       "    <tr>\n",
       "      <th>TrueHeading</th>\n",
       "      <td>713.0</td>\n",
       "      <td>NaN</td>\n",
       "      <td>NaN</td>\n",
       "      <td>NaN</td>\n",
       "      <td>223.165919</td>\n",
       "      <td>69.311927</td>\n",
       "      <td>90.1</td>\n",
       "      <td>205.6</td>\n",
       "      <td>213.2</td>\n",
       "      <td>297.1</td>\n",
       "      <td>317.1</td>\n",
       "    </tr>\n",
       "    <tr>\n",
       "      <th>Alt(m)</th>\n",
       "      <td>713.0</td>\n",
       "      <td>NaN</td>\n",
       "      <td>NaN</td>\n",
       "      <td>NaN</td>\n",
       "      <td>11.187561</td>\n",
       "      <td>0.740233</td>\n",
       "      <td>9.864402</td>\n",
       "      <td>10.414457</td>\n",
       "      <td>11.281387</td>\n",
       "      <td>11.760685</td>\n",
       "      <td>12.975561</td>\n",
       "    </tr>\n",
       "    <tr>\n",
       "      <th>HorizontalAccuracy(m)</th>\n",
       "      <td>713.0</td>\n",
       "      <td>NaN</td>\n",
       "      <td>NaN</td>\n",
       "      <td>NaN</td>\n",
       "      <td>4.770126</td>\n",
       "      <td>0.588387</td>\n",
       "      <td>4.7</td>\n",
       "      <td>4.7</td>\n",
       "      <td>4.7</td>\n",
       "      <td>4.7</td>\n",
       "      <td>9.7</td>\n",
       "    </tr>\n",
       "    <tr>\n",
       "      <th>VerticalAccuracy(m)</th>\n",
       "      <td>713.0</td>\n",
       "      <td>NaN</td>\n",
       "      <td>NaN</td>\n",
       "      <td>NaN</td>\n",
       "      <td>3.4</td>\n",
       "      <td>0.0</td>\n",
       "      <td>3.4</td>\n",
       "      <td>3.4</td>\n",
       "      <td>3.4</td>\n",
       "      <td>3.4</td>\n",
       "      <td>3.4</td>\n",
       "    </tr>\n",
       "    <tr>\n",
       "      <th>Course</th>\n",
       "      <td>713.0</td>\n",
       "      <td>NaN</td>\n",
       "      <td>NaN</td>\n",
       "      <td>NaN</td>\n",
       "      <td>221.12763</td>\n",
       "      <td>69.574456</td>\n",
       "      <td>84.0</td>\n",
       "      <td>203.7</td>\n",
       "      <td>204.4</td>\n",
       "      <td>293.6</td>\n",
       "      <td>318.1</td>\n",
       "    </tr>\n",
       "    <tr>\n",
       "      <th>ActivityType</th>\n",
       "      <td>713</td>\n",
       "      <td>1</td>\n",
       "      <td>Automotive</td>\n",
       "      <td>713</td>\n",
       "      <td>NaN</td>\n",
       "      <td>NaN</td>\n",
       "      <td>NaN</td>\n",
       "      <td>NaN</td>\n",
       "      <td>NaN</td>\n",
       "      <td>NaN</td>\n",
       "      <td>NaN</td>\n",
       "    </tr>\n",
       "    <tr>\n",
       "      <th>ActivityConfidence</th>\n",
       "      <td>713</td>\n",
       "      <td>1</td>\n",
       "      <td>High</td>\n",
       "      <td>713</td>\n",
       "      <td>NaN</td>\n",
       "      <td>NaN</td>\n",
       "      <td>NaN</td>\n",
       "      <td>NaN</td>\n",
       "      <td>NaN</td>\n",
       "      <td>NaN</td>\n",
       "      <td>NaN</td>\n",
       "    </tr>\n",
       "    <tr>\n",
       "      <th>RelativeAltitude(meters)</th>\n",
       "      <td>713.0</td>\n",
       "      <td>NaN</td>\n",
       "      <td>NaN</td>\n",
       "      <td>NaN</td>\n",
       "      <td>1.028798</td>\n",
       "      <td>0.809288</td>\n",
       "      <td>-0.4862</td>\n",
       "      <td>0.613</td>\n",
       "      <td>1.0675</td>\n",
       "      <td>1.5484</td>\n",
       "      <td>2.5102</td>\n",
       "    </tr>\n",
       "    <tr>\n",
       "      <th>Output</th>\n",
       "      <td>713.0</td>\n",
       "      <td>NaN</td>\n",
       "      <td>NaN</td>\n",
       "      <td>NaN</td>\n",
       "      <td>0.143058</td>\n",
       "      <td>0.350377</td>\n",
       "      <td>0.0</td>\n",
       "      <td>0.0</td>\n",
       "      <td>0.0</td>\n",
       "      <td>0.0</td>\n",
       "      <td>1.0</td>\n",
       "    </tr>\n",
       "  </tbody>\n",
       "</table>\n",
       "</div>"
      ],
      "text/plain": [
       "                          count unique                       top freq  \\\n",
       "Timestamp                   713    712  17-Jul-2022 17:42:45.086    2   \n",
       "accelX(g)                 713.0    NaN                       NaN  NaN   \n",
       "accelY(g)                 713.0    NaN                       NaN  NaN   \n",
       "accelZ(g)                 713.0    NaN                       NaN  NaN   \n",
       "accelUserX(g)             713.0    NaN                       NaN  NaN   \n",
       "accelUserY(g)             713.0    NaN                       NaN  NaN   \n",
       "accelUserZ(g)             713.0    NaN                       NaN  NaN   \n",
       "gyroX(rad/s)              713.0    NaN                       NaN  NaN   \n",
       "gyroY(rad/s)              713.0    NaN                       NaN  NaN   \n",
       "gyroZ(rad/s)              713.0    NaN                       NaN  NaN   \n",
       "Roll(rads)                713.0    NaN                       NaN  NaN   \n",
       "Pitch(rads)               713.0    NaN                       NaN  NaN   \n",
       "Yaw(rads)                 713.0    NaN                       NaN  NaN   \n",
       "m11                       713.0    NaN                       NaN  NaN   \n",
       "m12                       713.0    NaN                       NaN  NaN   \n",
       "m13                       713.0    NaN                       NaN  NaN   \n",
       "m21                       713.0    NaN                       NaN  NaN   \n",
       "m22                       713.0    NaN                       NaN  NaN   \n",
       "m23                       713.0    NaN                       NaN  NaN   \n",
       "m31                       713.0    NaN                       NaN  NaN   \n",
       "m32                       713.0    NaN                       NaN  NaN   \n",
       "m33                       713.0    NaN                       NaN  NaN   \n",
       "qX                        713.0    NaN                       NaN  NaN   \n",
       "qY                        713.0    NaN                       NaN  NaN   \n",
       "qZ                        713.0    NaN                       NaN  NaN   \n",
       "qW                        713.0    NaN                       NaN  NaN   \n",
       "Lat                       713.0    NaN                       NaN  NaN   \n",
       "Long                      713.0    NaN                       NaN  NaN   \n",
       "Speed(m/s)                713.0    NaN                       NaN  NaN   \n",
       "TrueHeading               713.0    NaN                       NaN  NaN   \n",
       "Alt(m)                    713.0    NaN                       NaN  NaN   \n",
       "HorizontalAccuracy(m)     713.0    NaN                       NaN  NaN   \n",
       "VerticalAccuracy(m)       713.0    NaN                       NaN  NaN   \n",
       "Course                    713.0    NaN                       NaN  NaN   \n",
       "ActivityType                713      1                Automotive  713   \n",
       "ActivityConfidence          713      1                      High  713   \n",
       "RelativeAltitude(meters)  713.0    NaN                       NaN  NaN   \n",
       "Output                    713.0    NaN                       NaN  NaN   \n",
       "\n",
       "                                mean        std       min        25%  \\\n",
       "Timestamp                        NaN        NaN       NaN        NaN   \n",
       "accelX(g)                   0.043179   0.137785   -0.6484     -0.027   \n",
       "accelY(g)                  -0.995409   0.138011   -1.5381    -1.0724   \n",
       "accelZ(g)                  -0.033476   0.097917   -0.4554    -0.0861   \n",
       "accelUserX(g)               0.015661   0.134666   -0.6902    -0.0563   \n",
       "accelUserY(g)               0.004389   0.135487   -0.4024    -0.0733   \n",
       "accelUserZ(g)              -0.021345   0.100858   -0.4491    -0.0739   \n",
       "gyroX(rad/s)                0.015768   0.205734   -0.5932    -0.1003   \n",
       "gyroY(rad/s)                0.049068   0.224606   -0.5715    -0.0553   \n",
       "gyroZ(rad/s)                0.003475   0.050457   -0.4404    -0.0201   \n",
       "Roll(rads)                  1.075908   0.679123   -3.1228     0.6899   \n",
       "Pitch(rads)                 1.535919   0.018161    1.4575     1.5274   \n",
       "Yaw(rads)                  -0.006774   1.248024   -2.9287    -0.8715   \n",
       "m11                         0.259855   0.690056   -0.9995     0.1313   \n",
       "m12                         0.360164   0.571488   -0.6662    -0.2353   \n",
       "m13                        -0.027534   0.018775   -0.0917    -0.0371   \n",
       "m21                         0.006132   0.023298   -0.0636    -0.0088   \n",
       "m22                         0.016757   0.026168   -0.0566     0.0024   \n",
       "m23                         0.999228   0.000819    0.9936     0.9991   \n",
       "m31                         0.360534   0.571717   -0.6662    -0.2348   \n",
       "m32                        -0.259886   0.690148   -0.9997    -0.9428   \n",
       "m33                         0.012372   0.016768   -0.0281    -0.0012   \n",
       "qX                         -0.500552   0.239182   -0.7155    -0.6881   \n",
       "qY                         -0.301526   0.308783   -0.7101    -0.4784   \n",
       "qZ                         -0.290156   0.316052   -0.7251    -0.4636   \n",
       "qW                         -0.516185   0.236379     -0.72    -0.7047   \n",
       "Lat                        56.153679   0.000504  56.15308  56.153178   \n",
       "Long                       -3.946352   0.000931 -3.947616  -3.947069   \n",
       "Speed(m/s)                    5.2206   1.713179       0.0     4.3829   \n",
       "TrueHeading               223.165919  69.311927      90.1      205.6   \n",
       "Alt(m)                     11.187561   0.740233  9.864402  10.414457   \n",
       "HorizontalAccuracy(m)       4.770126   0.588387       4.7        4.7   \n",
       "VerticalAccuracy(m)              3.4        0.0       3.4        3.4   \n",
       "Course                     221.12763  69.574456      84.0      203.7   \n",
       "ActivityType                     NaN        NaN       NaN        NaN   \n",
       "ActivityConfidence               NaN        NaN       NaN        NaN   \n",
       "RelativeAltitude(meters)    1.028798   0.809288   -0.4862      0.613   \n",
       "Output                      0.143058   0.350377       0.0        0.0   \n",
       "\n",
       "                                50%        75%        max  \n",
       "Timestamp                       NaN        NaN        NaN  \n",
       "accelX(g)                    0.0391     0.1096     0.7227  \n",
       "accelY(g)                   -0.9981    -0.9197    -0.5438  \n",
       "accelZ(g)                   -0.0289     0.0213     0.2959  \n",
       "accelUserX(g)                0.0117     0.0818     0.6369  \n",
       "accelUserY(g)                0.0009     0.0798     0.4364  \n",
       "accelUserZ(g)               -0.0165     0.0378     0.3349  \n",
       "gyroX(rad/s)                 0.0033      0.125     0.9896  \n",
       "gyroY(rad/s)                 0.0124     0.0975      0.896  \n",
       "gyroZ(rad/s)                 0.0036     0.0275     0.2433  \n",
       "Roll(rads)                     1.04     1.5993     2.9815  \n",
       "Pitch(rads)                  1.5372     1.5474     1.5693  \n",
       "Yaw(rads)                   -0.3014     0.9916     3.0671  \n",
       "m11                          0.1818     0.9432     0.9999  \n",
       "m12                          0.3156     0.9862     0.9998  \n",
       "m13                         -0.0248    -0.0149       0.01  \n",
       "m21                          0.0121     0.0245     0.0476  \n",
       "m22                          0.0144     0.0294     0.1084  \n",
       "m23                          0.9994     0.9997        1.0  \n",
       "m31                          0.3156     0.9869     0.9995  \n",
       "m32                          -0.183    -0.1313        1.0  \n",
       "m33                          0.0121     0.0249     0.0759  \n",
       "qX                          -0.5357    -0.5235     0.0671  \n",
       "qY                          -0.4613     0.0718     0.2515  \n",
       "qZ                          -0.4371     0.0945     0.2568  \n",
       "qW                          -0.5551     -0.534      0.038  \n",
       "Lat                       56.153549  56.154191  56.154446  \n",
       "Long                       -3.94654  -3.945801  -3.944082  \n",
       "Speed(m/s)                   5.2994     6.5261     7.9422  \n",
       "TrueHeading                   213.2      297.1      317.1  \n",
       "Alt(m)                    11.281387  11.760685  12.975561  \n",
       "HorizontalAccuracy(m)           4.7        4.7        9.7  \n",
       "VerticalAccuracy(m)             3.4        3.4        3.4  \n",
       "Course                        204.4      293.6      318.1  \n",
       "ActivityType                    NaN        NaN        NaN  \n",
       "ActivityConfidence              NaN        NaN        NaN  \n",
       "RelativeAltitude(meters)     1.0675     1.5484     2.5102  \n",
       "Output                          0.0        0.0        1.0  "
      ]
     },
     "execution_count": 13,
     "metadata": {},
     "output_type": "execute_result"
    }
   ],
   "source": [
    "df_validation.describe(include=\"all\").T"
   ]
  },
  {
   "cell_type": "code",
   "execution_count": 14,
   "id": "5515467e",
   "metadata": {},
   "outputs": [
    {
     "data": {
      "text/plain": [
       "Index(['accelX(g)', 'accelY(g)', 'accelZ(g)', 'accelUserX(g)', 'accelUserY(g)',\n",
       "       'accelUserZ(g)', 'gyroX(rad/s)', 'gyroY(rad/s)', 'gyroZ(rad/s)',\n",
       "       'Roll(rads)', 'Pitch(rads)', 'Yaw(rads)', 'm11', 'm12', 'm13', 'm21',\n",
       "       'm22', 'm23', 'm31', 'm32', 'm33', 'qX', 'qY', 'qZ', 'qW', 'Lat',\n",
       "       'Long', 'Speed(m/s)', 'TrueHeading', 'Alt(m)', 'HorizontalAccuracy(m)',\n",
       "       'VerticalAccuracy(m)', 'Course', 'RelativeAltitude(meters)', 'Output'],\n",
       "      dtype='object')"
      ]
     },
     "execution_count": 14,
     "metadata": {},
     "output_type": "execute_result"
    }
   ],
   "source": [
    "numerical_columns_validation = df_validation.select_dtypes(include=[np.number]).columns\n",
    "numerical_columns_validation"
   ]
  },
  {
   "cell_type": "code",
   "execution_count": 15,
   "id": "30d3b4cd",
   "metadata": {},
   "outputs": [
    {
     "data": {
      "text/plain": [
       "array([[<AxesSubplot:title={'center':'accelX(g)'}>,\n",
       "        <AxesSubplot:title={'center':'accelY(g)'}>,\n",
       "        <AxesSubplot:title={'center':'accelZ(g)'}>,\n",
       "        <AxesSubplot:title={'center':'accelUserX(g)'}>,\n",
       "        <AxesSubplot:title={'center':'accelUserY(g)'}>,\n",
       "        <AxesSubplot:title={'center':'accelUserZ(g)'}>],\n",
       "       [<AxesSubplot:title={'center':'gyroX(rad/s)'}>,\n",
       "        <AxesSubplot:title={'center':'gyroY(rad/s)'}>,\n",
       "        <AxesSubplot:title={'center':'gyroZ(rad/s)'}>,\n",
       "        <AxesSubplot:title={'center':'Roll(rads)'}>,\n",
       "        <AxesSubplot:title={'center':'Pitch(rads)'}>,\n",
       "        <AxesSubplot:title={'center':'Yaw(rads)'}>],\n",
       "       [<AxesSubplot:title={'center':'m11'}>,\n",
       "        <AxesSubplot:title={'center':'m12'}>,\n",
       "        <AxesSubplot:title={'center':'m13'}>,\n",
       "        <AxesSubplot:title={'center':'m21'}>,\n",
       "        <AxesSubplot:title={'center':'m22'}>,\n",
       "        <AxesSubplot:title={'center':'m23'}>],\n",
       "       [<AxesSubplot:title={'center':'m31'}>,\n",
       "        <AxesSubplot:title={'center':'m32'}>,\n",
       "        <AxesSubplot:title={'center':'m33'}>,\n",
       "        <AxesSubplot:title={'center':'qX'}>,\n",
       "        <AxesSubplot:title={'center':'qY'}>,\n",
       "        <AxesSubplot:title={'center':'qZ'}>],\n",
       "       [<AxesSubplot:title={'center':'qW'}>,\n",
       "        <AxesSubplot:title={'center':'Lat'}>,\n",
       "        <AxesSubplot:title={'center':'Long'}>,\n",
       "        <AxesSubplot:title={'center':'Speed(m/s)'}>,\n",
       "        <AxesSubplot:title={'center':'TrueHeading'}>,\n",
       "        <AxesSubplot:title={'center':'Alt(m)'}>],\n",
       "       [<AxesSubplot:title={'center':'HorizontalAccuracy(m)'}>,\n",
       "        <AxesSubplot:title={'center':'VerticalAccuracy(m)'}>,\n",
       "        <AxesSubplot:title={'center':'Course'}>,\n",
       "        <AxesSubplot:title={'center':'RelativeAltitude(meters)'}>,\n",
       "        <AxesSubplot:title={'center':'Output'}>, <AxesSubplot:>]],\n",
       "      dtype=object)"
      ]
     },
     "execution_count": 15,
     "metadata": {},
     "output_type": "execute_result"
    },
    {
     "data": {
      "image/png": "[encoded data removed]",
      "text/plain": [
       "<Figure size 1080x1440 with 36 Axes>"
      ]
     },
     "metadata": {
      "needs_background": "light"
     },
     "output_type": "display_data"
    }
   ],
   "source": [
    "# Plot distributions...\n",
    "df_validation.hist(figsize = (15,20))"
   ]
  },
  {
   "cell_type": "markdown",
   "id": "c797fb1e",
   "metadata": {},
   "source": [
    "# Data Prepration"
   ]
  },
  {
   "cell_type": "markdown",
   "id": "34143678",
   "metadata": {},
   "source": [
    "Preparing the validation dataset first and then processing training data"
   ]
  },
  {
   "cell_type": "code",
   "execution_count": 16,
   "id": "91d6f50e",
   "metadata": {},
   "outputs": [],
   "source": [
    "df_train_copy = df_train.copy()"
   ]
  },
  {
   "cell_type": "code",
   "execution_count": 17,
   "id": "cddcc352",
   "metadata": {},
   "outputs": [],
   "source": [
    "X = df_train_copy.drop(['Timestamp', 'Roll(rads)', 'Pitch(rads)', 'Yaw(rads)', 'm11', 'm12', 'm13', 'm21',\n",
    "       'm22', 'm23', 'm31', 'm32', 'm33', 'qX', 'qY', 'qZ', 'qW', 'Lat',\n",
    "       'Long', 'TrueHeading', 'Alt(m)', 'HorizontalAccuracy(m)','VerticalAccuracy(m)', 'Course', 'ActivityType', 'ActivityConfidence', 'RelativeAltitude(meters)', 'Output'],axis=1)\n",
    "Y= pd.DataFrame(pd.Series(df_train_copy['Output'], dtype=\"category\"))"
   ]
  },
  {
   "cell_type": "markdown",
   "id": "fa1178a0",
   "metadata": {},
   "source": [
    "doing a stratified split to keep the ratio of Ys as same in both training and testing data"
   ]
  },
  {
   "cell_type": "code",
   "execution_count": 18,
   "id": "15be1b9d",
   "metadata": {},
   "outputs": [],
   "source": [
    "from sklearn.model_selection import train_test_split\n",
    "\n",
    "x_train, x_test, y_train, y_test = train_test_split(X,Y,train_size=.8, stratify=Y)"
   ]
  },
  {
   "cell_type": "code",
   "execution_count": 19,
   "id": "deab172c",
   "metadata": {},
   "outputs": [
    {
     "name": "stdout",
     "output_type": "stream",
     "text": [
      "2376\n",
      "2376\n",
      "595\n",
      "595\n"
     ]
    }
   ],
   "source": [
    "print(len(x_train))\n",
    "print(len(y_train))\n",
    "print(len(x_test))\n",
    "print(len(y_test))"
   ]
  },
  {
   "cell_type": "code",
   "execution_count": 20,
   "id": "44af297f",
   "metadata": {},
   "outputs": [
    {
     "name": "stdout",
     "output_type": "stream",
     "text": [
      "Requirement already satisfied: imblearn in /Users/karan/opt/anaconda3/lib/python3.8/site-packages (0.0)\n",
      "Requirement already satisfied: imbalanced-learn in /Users/karan/opt/anaconda3/lib/python3.8/site-packages (from imblearn) (0.9.1)\n",
      "Requirement already satisfied: threadpoolctl>=2.0.0 in /Users/karan/opt/anaconda3/lib/python3.8/site-packages (from imbalanced-learn->imblearn) (2.1.0)\n",
      "Requirement already satisfied: scipy>=1.3.2 in /Users/karan/opt/anaconda3/lib/python3.8/site-packages (from imbalanced-learn->imblearn) (1.6.2)\n",
      "Requirement already satisfied: numpy>=1.17.3 in /Users/karan/opt/anaconda3/lib/python3.8/site-packages (from imbalanced-learn->imblearn) (1.20.1)\n",
      "Requirement already satisfied: joblib>=1.0.0 in /Users/karan/opt/anaconda3/lib/python3.8/site-packages (from imbalanced-learn->imblearn) (1.0.1)\n",
      "Requirement already satisfied: scikit-learn>=1.1.0 in /Users/karan/opt/anaconda3/lib/python3.8/site-packages (from imbalanced-learn->imblearn) (1.1.2)\n"
     ]
    }
   ],
   "source": [
    "!pip install imblearn"
   ]
  },
  {
   "cell_type": "code",
   "execution_count": 21,
   "id": "5a87e280",
   "metadata": {},
   "outputs": [],
   "source": [
    "from imblearn.over_sampling import SMOTE\n",
    "# transform the dataset\n",
    "oversample = SMOTE(random_state=0)\n",
    "x_train, y_train = oversample.fit_resample(x_train, y_train)"
   ]
  },
  {
   "cell_type": "code",
   "execution_count": 22,
   "id": "5b2eb094",
   "metadata": {},
   "outputs": [],
   "source": [
    "from sklearn import preprocessing\n",
    "from sklearn import utils\n",
    "\n",
    "#convert y values to categorical values\n",
    "lab = preprocessing.LabelEncoder()\n",
    "y_train = lab.fit_transform(y_train)\n",
    "\n",
    "y_train = pd.DataFrame(y_train, columns=['Output'])"
   ]
  },
  {
   "cell_type": "code",
   "execution_count": 23,
   "id": "9b72f25d",
   "metadata": {},
   "outputs": [
    {
     "data": {
      "text/html": [
       "<div>\n",
       "<style scoped>\n",
       "    .dataframe tbody tr th:only-of-type {\n",
       "        vertical-align: middle;\n",
       "    }\n",
       "\n",
       "    .dataframe tbody tr th {\n",
       "        vertical-align: top;\n",
       "    }\n",
       "\n",
       "    .dataframe thead th {\n",
       "        text-align: right;\n",
       "    }\n",
       "</style>\n",
       "<table border=\"1\" class=\"dataframe\">\n",
       "  <thead>\n",
       "    <tr style=\"text-align: right;\">\n",
       "      <th></th>\n",
       "      <th>Output</th>\n",
       "    </tr>\n",
       "  </thead>\n",
       "  <tbody>\n",
       "    <tr>\n",
       "      <th>0</th>\n",
       "      <td>0</td>\n",
       "    </tr>\n",
       "    <tr>\n",
       "      <th>1</th>\n",
       "      <td>0</td>\n",
       "    </tr>\n",
       "    <tr>\n",
       "      <th>2</th>\n",
       "      <td>0</td>\n",
       "    </tr>\n",
       "    <tr>\n",
       "      <th>3</th>\n",
       "      <td>0</td>\n",
       "    </tr>\n",
       "    <tr>\n",
       "      <th>4</th>\n",
       "      <td>0</td>\n",
       "    </tr>\n",
       "    <tr>\n",
       "      <th>...</th>\n",
       "      <td>...</td>\n",
       "    </tr>\n",
       "    <tr>\n",
       "      <th>4461</th>\n",
       "      <td>1</td>\n",
       "    </tr>\n",
       "    <tr>\n",
       "      <th>4462</th>\n",
       "      <td>1</td>\n",
       "    </tr>\n",
       "    <tr>\n",
       "      <th>4463</th>\n",
       "      <td>1</td>\n",
       "    </tr>\n",
       "    <tr>\n",
       "      <th>4464</th>\n",
       "      <td>1</td>\n",
       "    </tr>\n",
       "    <tr>\n",
       "      <th>4465</th>\n",
       "      <td>1</td>\n",
       "    </tr>\n",
       "  </tbody>\n",
       "</table>\n",
       "<p>4466 rows × 1 columns</p>\n",
       "</div>"
      ],
      "text/plain": [
       "      Output\n",
       "0          0\n",
       "1          0\n",
       "2          0\n",
       "3          0\n",
       "4          0\n",
       "...      ...\n",
       "4461       1\n",
       "4462       1\n",
       "4463       1\n",
       "4464       1\n",
       "4465       1\n",
       "\n",
       "[4466 rows x 1 columns]"
      ]
     },
     "execution_count": 23,
     "metadata": {},
     "output_type": "execute_result"
    }
   ],
   "source": [
    "y_train\n",
    "# type(y_train)"
   ]
  },
  {
   "cell_type": "code",
   "execution_count": 24,
   "id": "413f59c6",
   "metadata": {},
   "outputs": [
    {
     "name": "stdout",
     "output_type": "stream",
     "text": [
      "<class 'pandas.core.frame.DataFrame'>\n",
      "RangeIndex: 4466 entries, 0 to 4465\n",
      "Data columns (total 10 columns):\n",
      " #   Column         Non-Null Count  Dtype  \n",
      "---  ------         --------------  -----  \n",
      " 0   accelX(g)      4466 non-null   float64\n",
      " 1   accelY(g)      4466 non-null   float64\n",
      " 2   accelZ(g)      4466 non-null   float64\n",
      " 3   accelUserX(g)  4466 non-null   float64\n",
      " 4   accelUserY(g)  4466 non-null   float64\n",
      " 5   accelUserZ(g)  4466 non-null   float64\n",
      " 6   gyroX(rad/s)   4466 non-null   float64\n",
      " 7   gyroY(rad/s)   4466 non-null   float64\n",
      " 8   gyroZ(rad/s)   4466 non-null   float64\n",
      " 9   Speed(m/s)     4466 non-null   float64\n",
      "dtypes: float64(10)\n",
      "memory usage: 349.0 KB\n"
     ]
    }
   ],
   "source": [
    "x_train.info()"
   ]
  },
  {
   "cell_type": "code",
   "execution_count": 25,
   "id": "524c65ab",
   "metadata": {
    "scrolled": true
   },
   "outputs": [
    {
     "name": "stdout",
     "output_type": "stream",
     "text": [
      "Percentage of potholes samples 50.0 %\n",
      "Percentage of not potholes samples 50.0 %\n"
     ]
    },
    {
     "data": {
      "text/plain": [
       "<AxesSubplot:>"
      ]
     },
     "execution_count": 25,
     "metadata": {},
     "output_type": "execute_result"
    },
    {
     "data": {
      "image/png": "[encoded data removed]",
      "text/plain": [
       "<Figure size 432x288 with 1 Axes>"
      ]
     },
     "metadata": {
      "needs_background": "light"
     },
     "output_type": "display_data"
    }
   ],
   "source": [
    "potholes_train_oversample = y_train[y_train['Output'] == 1]\n",
    "not_potholes_train_oversample = y_train[y_train['Output'] == 0]\n",
    "\n",
    "print(\"Percentage of potholes samples\", 1.*len(potholes_train_oversample)/len(y_train)*100.0, \"%\")\n",
    "print(\"Percentage of not potholes samples\", 1.*len(not_potholes_train_oversample)/len(y_train)*100.0, \"%\")\n",
    "\n",
    "y_train['Output'].value_counts().plot(kind='bar', color='g')"
   ]
  },
  {
   "cell_type": "code",
   "execution_count": 26,
   "id": "d516176d",
   "metadata": {},
   "outputs": [],
   "source": [
    "df_val_copy=df_validation.copy()"
   ]
  },
  {
   "cell_type": "code",
   "execution_count": 27,
   "id": "b0a8dfa7",
   "metadata": {},
   "outputs": [],
   "source": [
    "x_val = df_val_copy.drop(['Timestamp', 'Roll(rads)', 'Pitch(rads)', 'Yaw(rads)', 'm11', 'm12', 'm13', 'm21',\n",
    "       'm22', 'm23', 'm31', 'm32', 'm33', 'qX', 'qY', 'qZ', 'qW', 'Lat',\n",
    "       'Long', 'TrueHeading', 'Alt(m)', 'HorizontalAccuracy(m)','VerticalAccuracy(m)', 'Course','ActivityType', 'ActivityConfidence', 'RelativeAltitude(meters)', 'Output'],axis=1)\n",
    "y_val = pd.DataFrame(pd.Series(df_val_copy['Output'], dtype=\"category\"))"
   ]
  },
  {
   "cell_type": "code",
   "execution_count": 28,
   "id": "ab70d143",
   "metadata": {},
   "outputs": [],
   "source": [
    "from sklearn import preprocessing\n",
    "from sklearn import utils\n",
    "\n",
    "#convert y values to categorical values\n",
    "lab = preprocessing.LabelEncoder()\n",
    "y_val = lab.fit_transform(y_val)\n",
    "\n",
    "y_val = pd.DataFrame(y_val,columns=['Output'])"
   ]
  },
  {
   "cell_type": "code",
   "execution_count": 29,
   "id": "e772ede4",
   "metadata": {},
   "outputs": [
    {
     "data": {
      "text/plain": [
       "Index(['Output'], dtype='object')"
      ]
     },
     "execution_count": 29,
     "metadata": {},
     "output_type": "execute_result"
    }
   ],
   "source": [
    "y_val.columns"
   ]
  },
  {
   "cell_type": "code",
   "execution_count": 30,
   "id": "affa1d8c",
   "metadata": {
    "scrolled": true
   },
   "outputs": [
    {
     "data": {
      "text/plain": [
       "Index(['accelX(g)', 'accelY(g)', 'accelZ(g)', 'accelUserX(g)', 'accelUserY(g)',\n",
       "       'accelUserZ(g)', 'gyroX(rad/s)', 'gyroY(rad/s)', 'gyroZ(rad/s)',\n",
       "       'Speed(m/s)'],\n",
       "      dtype='object')"
      ]
     },
     "execution_count": 30,
     "metadata": {},
     "output_type": "execute_result"
    }
   ],
   "source": [
    "x_val.columns"
   ]
  },
  {
   "cell_type": "markdown",
   "id": "ca4f03c0",
   "metadata": {},
   "source": [
    "# Training the Models"
   ]
  },
  {
   "cell_type": "code",
   "execution_count": 31,
   "id": "ad75958e",
   "metadata": {},
   "outputs": [],
   "source": [
    "from sklearn.linear_model import LogisticRegression\n",
    "from sklearn.svm import SVC, LinearSVC\n",
    "from sklearn.neighbors import KNeighborsClassifier\n",
    "from sklearn.tree import DecisionTreeClassifier\n",
    "from sklearn.ensemble import RandomForestClassifier\n",
    "from sklearn.neural_network import MLPClassifier\n",
    "\n",
    "from sklearn.model_selection import cross_val_score\n",
    "from sklearn.metrics import accuracy_score, recall_score,f1_score, precision_score\n"
   ]
  },
  {
   "cell_type": "code",
   "execution_count": 32,
   "id": "a30593f5",
   "metadata": {},
   "outputs": [],
   "source": [
    "\n",
    "models = []\n",
    "\n",
    "models.append((\"LogisticRegression\",LogisticRegression()))\n",
    "models.append((\"SVC\",SVC()))\n",
    "models.append((\"LinearSVC\",LinearSVC()))\n",
    "models.append((\"KNeighbors\",KNeighborsClassifier()))\n",
    "models.append((\"DecisionTree\",DecisionTreeClassifier()))\n",
    "models.append((\"RandomForest\",RandomForestClassifier()))\n",
    "models.append((\"MLPClassifier\",MLPClassifier(solver='lbfgs', random_state=0)))"
   ]
  },
  {
   "cell_type": "markdown",
   "id": "efd188aa",
   "metadata": {},
   "source": [
    "# testing the accuracy of models"
   ]
  },
  {
   "cell_type": "code",
   "execution_count": 33,
   "id": "a77f45c7",
   "metadata": {},
   "outputs": [
    {
     "name": "stdout",
     "output_type": "stream",
     "text": [
      "LogisticRegression :-\n",
      "\t cross_val Accuracy 0.7113687663647034\n",
      "\t Testing Accuracy 0.7478991596638656\n",
      "SVC :-\n",
      "\t cross_val Accuracy 0.7136089124306538\n",
      "\t Testing Accuracy 0.6756302521008404\n",
      "LinearSVC :-\n",
      "\t cross_val Accuracy 0.708233264112519\n",
      "\t Testing Accuracy 0.7344537815126051\n",
      "KNeighbors :-\n",
      "\t cross_val Accuracy 0.9330524372749069\n",
      "\t Testing Accuracy 0.8605042016806723\n",
      "DecisionTree :-\n",
      "\t cross_val Accuracy 0.9124482097892278\n",
      "\t Testing Accuracy 0.8504201680672269\n",
      "RandomForest :-\n",
      "\t cross_val Accuracy 0.953198202265226\n",
      "\t Testing Accuracy 0.9159663865546218\n",
      "MLPClassifier :-\n",
      "\t cross_val Accuracy 0.7816755449885133\n",
      "\t Testing Accuracy 0.7310924369747899\n"
     ]
    }
   ],
   "source": [
    "results_accuracy = []\n",
    "names_accuracy = []\n",
    "for name,model in models:\n",
    "    result = cross_val_score(model, x_train, y_train,  cv=10)\n",
    "    model.fit(x_train,y_train)\n",
    "    ypred=model.predict(x_test)\n",
    "    score = accuracy_score(y_test, ypred)\n",
    "    print(name,':-')\n",
    "    print('\\t cross_val Accuracy',result.mean())\n",
    "    print('\\t Testing Accuracy',score)\n",
    "    names_accuracy.append(name)\n",
    "    results_accuracy.append(result)"
   ]
  },
  {
   "cell_type": "markdown",
   "id": "9369ee0c",
   "metadata": {},
   "source": [
    "# testing the recall score of the models"
   ]
  },
  {
   "cell_type": "code",
   "execution_count": 34,
   "id": "0ac2fcaf",
   "metadata": {},
   "outputs": [
    {
     "name": "stdout",
     "output_type": "stream",
     "text": [
      "LogisticRegression :-\n",
      "\t cross_val accuracy 0.7113687663647034\n",
      "\t Testing recall score 0.5277777777777778\n",
      "SVC :-\n",
      "\t cross_val accuracy 0.7136089124306538\n",
      "\t Testing recall score 0.6666666666666666\n",
      "LinearSVC :-\n",
      "\t cross_val accuracy 0.708233264112519\n",
      "\t Testing recall score 0.5277777777777778\n",
      "KNeighbors :-\n",
      "\t cross_val accuracy 0.9330524372749069\n",
      "\t Testing recall score 0.6388888888888888\n",
      "DecisionTree :-\n",
      "\t cross_val accuracy 0.9073027959189817\n",
      "\t Testing recall score 0.4444444444444444\n",
      "RandomForest :-\n",
      "\t cross_val accuracy 0.9520801356326682\n",
      "\t Testing recall score 0.3888888888888889\n",
      "MLPClassifier :-\n",
      "\t cross_val accuracy 0.7816755449885133\n",
      "\t Testing recall score 0.6111111111111112\n"
     ]
    }
   ],
   "source": [
    "results_recall = []\n",
    "names_recall = []\n",
    "for name,model in models:\n",
    "    result = cross_val_score(model, x_train, y_train,  cv=10)\n",
    "    model.fit(x_train,y_train)\n",
    "    ypred=model.predict(x_test)\n",
    "    score = recall_score(y_test, ypred)\n",
    "    print(name,':-')\n",
    "    print('\\t cross_val accuracy',result.mean())\n",
    "    print('\\t Testing recall score',score)\n",
    "    names_recall.append(name)\n",
    "    results_recall.append(result)"
   ]
  },
  {
   "cell_type": "markdown",
   "id": "28d43dde",
   "metadata": {},
   "source": [
    "# Hyperparameter tuning of some models to get better accuracy and recall scores"
   ]
  },
  {
   "cell_type": "markdown",
   "id": "c519f28c",
   "metadata": {},
   "source": [
    "the accuracy of KNN, Decision Tree and Random forest is higher than other models but we are more concerned about recall, so we are going to tune the HP for some models which give good recall and accuracy combination. we will be doing it for\n",
    "1. KNN\n",
    "2. Random Forest\n",
    "3. Logistic Regression\n",
    "4. MLP"
   ]
  },
  {
   "cell_type": "code",
   "execution_count": 168,
   "id": "b17b2c04",
   "metadata": {},
   "outputs": [],
   "source": [
    "from sklearn.model_selection import RandomizedSearchCV\n",
    "from sklearn.metrics import classification_report,confusion_matrix,roc_auc_score,roc_curve"
   ]
  },
  {
   "cell_type": "markdown",
   "id": "b7973657",
   "metadata": {},
   "source": [
    "# KNN: HP tuning and testing"
   ]
  },
  {
   "cell_type": "markdown",
   "id": "19f2f138",
   "metadata": {},
   "source": [
    "Classification report of **UN-TUNED** KNN Model"
   ]
  },
  {
   "cell_type": "code",
   "execution_count": 36,
   "id": "2e9b58af",
   "metadata": {},
   "outputs": [],
   "source": [
    "knnUntuned=KNeighborsClassifier()\n",
    "knnUntuned.fit(x_train,y_train)\n",
    "ypredTestUntunedKnn=knnUntuned.predict(x_test)"
   ]
  },
  {
   "cell_type": "code",
   "execution_count": 37,
   "id": "1a277230",
   "metadata": {},
   "outputs": [
    {
     "name": "stdout",
     "output_type": "stream",
     "text": [
      "classificaiton report of UN-tuned KNN on test data is\n",
      "              precision    recall  f1-score   support\n",
      "\n",
      "           0       0.97      0.87      0.92       559\n",
      "           1       0.25      0.64      0.36        36\n",
      "\n",
      "    accuracy                           0.86       595\n",
      "   macro avg       0.61      0.76      0.64       595\n",
      "weighted avg       0.93      0.86      0.89       595\n",
      "\n"
     ]
    }
   ],
   "source": [
    "cfrKnnTestUntuned=classification_report(y_test,ypredTestUntunedKnn)\n",
    "print(\"classificaiton report of UN-tuned KNN on test data is\")\n",
    "print(cfrKnnTestUntuned)"
   ]
  },
  {
   "cell_type": "markdown",
   "id": "00c49932",
   "metadata": {},
   "source": [
    "Finding the best hyperparameters for KNN using RandomsearchCV"
   ]
  },
  {
   "cell_type": "code",
   "execution_count": 38,
   "id": "b2b5448c",
   "metadata": {},
   "outputs": [
    {
     "data": {
      "text/html": [
       "<style>#sk-container-id-1 {color: black;background-color: white;}#sk-container-id-1 pre{padding: 0;}#sk-container-id-1 div.sk-toggleable {background-color: white;}#sk-container-id-1 label.sk-toggleable__label {cursor: pointer;display: block;width: 100%;margin-bottom: 0;padding: 0.3em;box-sizing: border-box;text-align: center;}#sk-container-id-1 label.sk-toggleable__label-arrow:before {content: \"▸\";float: left;margin-right: 0.25em;color: #696969;}#sk-container-id-1 label.sk-toggleable__label-arrow:hover:before {color: black;}#sk-container-id-1 div.sk-estimator:hover label.sk-toggleable__label-arrow:before {color: black;}#sk-container-id-1 div.sk-toggleable__content {max-height: 0;max-width: 0;overflow: hidden;text-align: left;background-color: #f0f8ff;}#sk-container-id-1 div.sk-toggleable__content pre {margin: 0.2em;color: black;border-radius: 0.25em;background-color: #f0f8ff;}#sk-container-id-1 input.sk-toggleable__control:checked~div.sk-toggleable__content {max-height: 200px;max-width: 100%;overflow: auto;}#sk-container-id-1 input.sk-toggleable__control:checked~label.sk-toggleable__label-arrow:before {content: \"▾\";}#sk-container-id-1 div.sk-estimator input.sk-toggleable__control:checked~label.sk-toggleable__label {background-color: #d4ebff;}#sk-container-id-1 div.sk-label input.sk-toggleable__control:checked~label.sk-toggleable__label {background-color: #d4ebff;}#sk-container-id-1 input.sk-hidden--visually {border: 0;clip: rect(1px 1px 1px 1px);clip: rect(1px, 1px, 1px, 1px);height: 1px;margin: -1px;overflow: hidden;padding: 0;position: absolute;width: 1px;}#sk-container-id-1 div.sk-estimator {font-family: monospace;background-color: #f0f8ff;border: 1px dotted black;border-radius: 0.25em;box-sizing: border-box;margin-bottom: 0.5em;}#sk-container-id-1 div.sk-estimator:hover {background-color: #d4ebff;}#sk-container-id-1 div.sk-parallel-item::after {content: \"\";width: 100%;border-bottom: 1px solid gray;flex-grow: 1;}#sk-container-id-1 div.sk-label:hover label.sk-toggleable__label {background-color: #d4ebff;}#sk-container-id-1 div.sk-serial::before {content: \"\";position: absolute;border-left: 1px solid gray;box-sizing: border-box;top: 0;bottom: 0;left: 50%;z-index: 0;}#sk-container-id-1 div.sk-serial {display: flex;flex-direction: column;align-items: center;background-color: white;padding-right: 0.2em;padding-left: 0.2em;position: relative;}#sk-container-id-1 div.sk-item {position: relative;z-index: 1;}#sk-container-id-1 div.sk-parallel {display: flex;align-items: stretch;justify-content: center;background-color: white;position: relative;}#sk-container-id-1 div.sk-item::before, #sk-container-id-1 div.sk-parallel-item::before {content: \"\";position: absolute;border-left: 1px solid gray;box-sizing: border-box;top: 0;bottom: 0;left: 50%;z-index: -1;}#sk-container-id-1 div.sk-parallel-item {display: flex;flex-direction: column;z-index: 1;position: relative;background-color: white;}#sk-container-id-1 div.sk-parallel-item:first-child::after {align-self: flex-end;width: 50%;}#sk-container-id-1 div.sk-parallel-item:last-child::after {align-self: flex-start;width: 50%;}#sk-container-id-1 div.sk-parallel-item:only-child::after {width: 0;}#sk-container-id-1 div.sk-dashed-wrapped {border: 1px dashed gray;margin: 0 0.4em 0.5em 0.4em;box-sizing: border-box;padding-bottom: 0.4em;background-color: white;}#sk-container-id-1 div.sk-label label {font-family: monospace;font-weight: bold;display: inline-block;line-height: 1.2em;}#sk-container-id-1 div.sk-label-container {text-align: center;}#sk-container-id-1 div.sk-container {/* jupyter's `normalize.less` sets `[hidden] { display: none; }` but bootstrap.min.css set `[hidden] { display: none !important; }` so we also need the `!important` here to be able to override the default hidden behavior on the sphinx rendered scikit-learn.org. See: https://github.com/scikit-learn/scikit-learn/issues/21755 */display: inline-block !important;position: relative;}#sk-container-id-1 div.sk-text-repr-fallback {display: none;}</style><div id=\"sk-container-id-1\" class=\"sk-top-container\"><div class=\"sk-text-repr-fallback\"><pre>RandomizedSearchCV(cv=10, estimator=KNeighborsClassifier(),\n",
       "                   param_distributions={&#x27;algorithm&#x27;: [&#x27;auto&#x27;, &#x27;ball_tree&#x27;,\n",
       "                                                      &#x27;kd_tree&#x27;, &#x27;brute&#x27;],\n",
       "                                        &#x27;leaf_size&#x27;: [1, 2, 3, 4, 5, 6, 7, 8, 9,\n",
       "                                                      10, 11, 12, 13, 14, 15,\n",
       "                                                      16, 17, 18, 19, 20, 21,\n",
       "                                                      22, 23, 24, 25, 26, 27,\n",
       "                                                      28, 29, 30, ...],\n",
       "                                        &#x27;metric&#x27;: [&#x27;minkowski&#x27;, &#x27;euclidean&#x27;,\n",
       "                                                   &#x27;manhattan&#x27;],\n",
       "                                        &#x27;n_neighbors&#x27;: [1, 2, 3, 4, 5, 6, 7, 8,\n",
       "                                                        9, 10, 11, 12, 13, 14,\n",
       "                                                        15, 16, 17, 18, 19, 20,\n",
       "                                                        21, 22, 23, 24, 25, 26,\n",
       "                                                        27, 28, 29],\n",
       "                                        &#x27;p&#x27;: [1, 2],\n",
       "                                        &#x27;weights&#x27;: [&#x27;uniform&#x27;, &#x27;distance&#x27;]})</pre><b>In a Jupyter environment, please rerun this cell to show the HTML representation or trust the notebook. <br />On GitHub, the HTML representation is unable to render, please try loading this page with nbviewer.org.</b></div><div class=\"sk-container\" hidden><div class=\"sk-item sk-dashed-wrapped\"><div class=\"sk-label-container\"><div class=\"sk-label sk-toggleable\"><input class=\"sk-toggleable__control sk-hidden--visually\" id=\"sk-estimator-id-1\" type=\"checkbox\" ><label for=\"sk-estimator-id-1\" class=\"sk-toggleable__label sk-toggleable__label-arrow\">RandomizedSearchCV</label><div class=\"sk-toggleable__content\"><pre>RandomizedSearchCV(cv=10, estimator=KNeighborsClassifier(),\n",
       "                   param_distributions={&#x27;algorithm&#x27;: [&#x27;auto&#x27;, &#x27;ball_tree&#x27;,\n",
       "                                                      &#x27;kd_tree&#x27;, &#x27;brute&#x27;],\n",
       "                                        &#x27;leaf_size&#x27;: [1, 2, 3, 4, 5, 6, 7, 8, 9,\n",
       "                                                      10, 11, 12, 13, 14, 15,\n",
       "                                                      16, 17, 18, 19, 20, 21,\n",
       "                                                      22, 23, 24, 25, 26, 27,\n",
       "                                                      28, 29, 30, ...],\n",
       "                                        &#x27;metric&#x27;: [&#x27;minkowski&#x27;, &#x27;euclidean&#x27;,\n",
       "                                                   &#x27;manhattan&#x27;],\n",
       "                                        &#x27;n_neighbors&#x27;: [1, 2, 3, 4, 5, 6, 7, 8,\n",
       "                                                        9, 10, 11, 12, 13, 14,\n",
       "                                                        15, 16, 17, 18, 19, 20,\n",
       "                                                        21, 22, 23, 24, 25, 26,\n",
       "                                                        27, 28, 29],\n",
       "                                        &#x27;p&#x27;: [1, 2],\n",
       "                                        &#x27;weights&#x27;: [&#x27;uniform&#x27;, &#x27;distance&#x27;]})</pre></div></div></div><div class=\"sk-parallel\"><div class=\"sk-parallel-item\"><div class=\"sk-item\"><div class=\"sk-label-container\"><div class=\"sk-label sk-toggleable\"><input class=\"sk-toggleable__control sk-hidden--visually\" id=\"sk-estimator-id-2\" type=\"checkbox\" ><label for=\"sk-estimator-id-2\" class=\"sk-toggleable__label sk-toggleable__label-arrow\">estimator: KNeighborsClassifier</label><div class=\"sk-toggleable__content\"><pre>KNeighborsClassifier()</pre></div></div></div><div class=\"sk-serial\"><div class=\"sk-item\"><div class=\"sk-estimator sk-toggleable\"><input class=\"sk-toggleable__control sk-hidden--visually\" id=\"sk-estimator-id-3\" type=\"checkbox\" ><label for=\"sk-estimator-id-3\" class=\"sk-toggleable__label sk-toggleable__label-arrow\">KNeighborsClassifier</label><div class=\"sk-toggleable__content\"><pre>KNeighborsClassifier()</pre></div></div></div></div></div></div></div></div></div></div>"
      ],
      "text/plain": [
       "RandomizedSearchCV(cv=10, estimator=KNeighborsClassifier(),\n",
       "                   param_distributions={'algorithm': ['auto', 'ball_tree',\n",
       "                                                      'kd_tree', 'brute'],\n",
       "                                        'leaf_size': [1, 2, 3, 4, 5, 6, 7, 8, 9,\n",
       "                                                      10, 11, 12, 13, 14, 15,\n",
       "                                                      16, 17, 18, 19, 20, 21,\n",
       "                                                      22, 23, 24, 25, 26, 27,\n",
       "                                                      28, 29, 30, ...],\n",
       "                                        'metric': ['minkowski', 'euclidean',\n",
       "                                                   'manhattan'],\n",
       "                                        'n_neighbors': [1, 2, 3, 4, 5, 6, 7, 8,\n",
       "                                                        9, 10, 11, 12, 13, 14,\n",
       "                                                        15, 16, 17, 18, 19, 20,\n",
       "                                                        21, 22, 23, 24, 25, 26,\n",
       "                                                        27, 28, 29],\n",
       "                                        'p': [1, 2],\n",
       "                                        'weights': ['uniform', 'distance']})"
      ]
     },
     "execution_count": 38,
     "metadata": {},
     "output_type": "execute_result"
    }
   ],
   "source": [
    "#List Hyperparameters that we want to tune.\n",
    "leaf_size = list(range(1,50))\n",
    "n_neighbors = list(range(1,30))\n",
    "weights=['uniform','distance']\n",
    "metric=['minkowski','euclidean','manhattan']\n",
    "algorithm=['auto', 'ball_tree', 'kd_tree', 'brute']\n",
    "p=[1,2]\n",
    "#Convert to dictionary\n",
    "hyperparameters = dict(leaf_size=leaf_size, n_neighbors=n_neighbors, p=p,weights=weights,metric=metric,algorithm=algorithm)\n",
    "#Create new KNN object\n",
    "knn = KNeighborsClassifier()\n",
    "#Use GridSearch\n",
    "knnRs = RandomizedSearchCV(knn, hyperparameters, cv=10)\n",
    "#Fit the model\n",
    "knnRs.fit(x_train,y_train)"
   ]
  },
  {
   "cell_type": "code",
   "execution_count": 39,
   "id": "2f574d06",
   "metadata": {},
   "outputs": [
    {
     "name": "stdout",
     "output_type": "stream",
     "text": [
      "KNeighborsClassifier(algorithm='ball_tree', leaf_size=39, metric='euclidean',\n",
      "                     n_neighbors=2)\n",
      "0.9630516347147399\n",
      "{'weights': 'uniform', 'p': 2, 'n_neighbors': 2, 'metric': 'euclidean', 'leaf_size': 39, 'algorithm': 'ball_tree'}\n"
     ]
    }
   ],
   "source": [
    "bestModelKnn = knnRs.best_estimator_\n",
    "print(bestModelKnn)\n",
    "print(knnRs.best_score_)\n",
    "print(knnRs.best_params_)"
   ]
  },
  {
   "cell_type": "markdown",
   "id": "4a828dd3",
   "metadata": {},
   "source": [
    "Training Using Tuned model and getting the classification report of test data from **TUNED** model"
   ]
  },
  {
   "cell_type": "code",
   "execution_count": 131,
   "id": "2592dd83",
   "metadata": {},
   "outputs": [],
   "source": [
    "# tunedKnn=KNeighborsClassifier(algorithm='kd_tree', leaf_size=43, metric='euclidean',n_neighbors=2)\n",
    "tunedKnn=bestModelKnn\n",
    "tunedKnn.fit(x_train,y_train)\n",
    "yPredTestTunedKnn=tunedKnn.predict(x_test)"
   ]
  },
  {
   "cell_type": "code",
   "execution_count": 132,
   "id": "a370d0a4",
   "metadata": {
    "scrolled": true
   },
   "outputs": [
    {
     "name": "stdout",
     "output_type": "stream",
     "text": [
      "classificaiton report of Tuned KNN on test data\n",
      "              precision    recall  f1-score   support\n",
      "\n",
      "           0       0.96      0.94      0.95       559\n",
      "           1       0.30      0.39      0.34        36\n",
      "\n",
      "    accuracy                           0.91       595\n",
      "   macro avg       0.63      0.66      0.64       595\n",
      "weighted avg       0.92      0.91      0.91       595\n",
      "\n"
     ]
    }
   ],
   "source": [
    "cfrKnnTestTuned=classification_report(y_test,yPredTestTunedKnn)\n",
    "print(\"classificaiton report of Tuned KNN on test data\")\n",
    "print(cfrKnnTestTuned)"
   ]
  },
  {
   "cell_type": "markdown",
   "id": "82dc6763",
   "metadata": {},
   "source": [
    "# KNN tuned model validation on unseen data"
   ]
  },
  {
   "cell_type": "code",
   "execution_count": 145,
   "id": "2fe3ac5e",
   "metadata": {
    "scrolled": false
   },
   "outputs": [
    {
     "name": "stdout",
     "output_type": "stream",
     "text": [
      "classificaiton report of Tuned KNN on validation data\n",
      "              precision    recall  f1-score   support\n",
      "\n",
      "           0       0.87      0.91      0.89       611\n",
      "           1       0.22      0.15      0.18       102\n",
      "\n",
      "    accuracy                           0.80       713\n",
      "   macro avg       0.54      0.53      0.53       713\n",
      "weighted avg       0.77      0.80      0.79       713\n",
      "\n"
     ]
    }
   ],
   "source": [
    "yPredValidationTunedKnn=tunedKnn.predict(x_val)\n",
    "cfrKnnValTuned=classification_report(y_val,yPredValidationTunedKnn)\n",
    "print(\"classificaiton report of Tuned KNN on validation data\")\n",
    "print(cfrKnnValTuned)"
   ]
  },
  {
   "cell_type": "markdown",
   "id": "af9ebf4f",
   "metadata": {},
   "source": [
    "# Random Forest: HP tuning and testing"
   ]
  },
  {
   "cell_type": "markdown",
   "id": "b57f134b",
   "metadata": {},
   "source": [
    "Classification Report of **UN-Tuned** random forest on test data"
   ]
  },
  {
   "cell_type": "code",
   "execution_count": 43,
   "id": "5b6c2a73",
   "metadata": {},
   "outputs": [],
   "source": [
    "rfUntuned=RandomForestClassifier()\n",
    "rfUntuned.fit(x_train,y_train)\n",
    "ypredTestUntunedRf=rfUntuned.predict(x_test)"
   ]
  },
  {
   "cell_type": "code",
   "execution_count": 44,
   "id": "be50083f",
   "metadata": {},
   "outputs": [
    {
     "name": "stdout",
     "output_type": "stream",
     "text": [
      "classificaiton report of UN-tuned Random Forest on test data is\n",
      "              precision    recall  f1-score   support\n",
      "\n",
      "           0       0.96      0.95      0.96       559\n",
      "           1       0.34      0.39      0.36        36\n",
      "\n",
      "    accuracy                           0.92       595\n",
      "   macro avg       0.65      0.67      0.66       595\n",
      "weighted avg       0.92      0.92      0.92       595\n",
      "\n"
     ]
    }
   ],
   "source": [
    "cfrRfTestUntuned=classification_report(y_test,ypredTestUntunedRf)\n",
    "print(\"classificaiton report of UN-tuned Random Forest on test data is\")\n",
    "print(cfrRfTestUntuned)"
   ]
  },
  {
   "cell_type": "markdown",
   "id": "439eddd7",
   "metadata": {},
   "source": [
    "Hyperparameter tuning of Random forest"
   ]
  },
  {
   "cell_type": "code",
   "execution_count": 45,
   "id": "b4eb17e9",
   "metadata": {},
   "outputs": [
    {
     "data": {
      "text/html": [
       "<style>#sk-container-id-2 {color: black;background-color: white;}#sk-container-id-2 pre{padding: 0;}#sk-container-id-2 div.sk-toggleable {background-color: white;}#sk-container-id-2 label.sk-toggleable__label {cursor: pointer;display: block;width: 100%;margin-bottom: 0;padding: 0.3em;box-sizing: border-box;text-align: center;}#sk-container-id-2 label.sk-toggleable__label-arrow:before {content: \"▸\";float: left;margin-right: 0.25em;color: #696969;}#sk-container-id-2 label.sk-toggleable__label-arrow:hover:before {color: black;}#sk-container-id-2 div.sk-estimator:hover label.sk-toggleable__label-arrow:before {color: black;}#sk-container-id-2 div.sk-toggleable__content {max-height: 0;max-width: 0;overflow: hidden;text-align: left;background-color: #f0f8ff;}#sk-container-id-2 div.sk-toggleable__content pre {margin: 0.2em;color: black;border-radius: 0.25em;background-color: #f0f8ff;}#sk-container-id-2 input.sk-toggleable__control:checked~div.sk-toggleable__content {max-height: 200px;max-width: 100%;overflow: auto;}#sk-container-id-2 input.sk-toggleable__control:checked~label.sk-toggleable__label-arrow:before {content: \"▾\";}#sk-container-id-2 div.sk-estimator input.sk-toggleable__control:checked~label.sk-toggleable__label {background-color: #d4ebff;}#sk-container-id-2 div.sk-label input.sk-toggleable__control:checked~label.sk-toggleable__label {background-color: #d4ebff;}#sk-container-id-2 input.sk-hidden--visually {border: 0;clip: rect(1px 1px 1px 1px);clip: rect(1px, 1px, 1px, 1px);height: 1px;margin: -1px;overflow: hidden;padding: 0;position: absolute;width: 1px;}#sk-container-id-2 div.sk-estimator {font-family: monospace;background-color: #f0f8ff;border: 1px dotted black;border-radius: 0.25em;box-sizing: border-box;margin-bottom: 0.5em;}#sk-container-id-2 div.sk-estimator:hover {background-color: #d4ebff;}#sk-container-id-2 div.sk-parallel-item::after {content: \"\";width: 100%;border-bottom: 1px solid gray;flex-grow: 1;}#sk-container-id-2 div.sk-label:hover label.sk-toggleable__label {background-color: #d4ebff;}#sk-container-id-2 div.sk-serial::before {content: \"\";position: absolute;border-left: 1px solid gray;box-sizing: border-box;top: 0;bottom: 0;left: 50%;z-index: 0;}#sk-container-id-2 div.sk-serial {display: flex;flex-direction: column;align-items: center;background-color: white;padding-right: 0.2em;padding-left: 0.2em;position: relative;}#sk-container-id-2 div.sk-item {position: relative;z-index: 1;}#sk-container-id-2 div.sk-parallel {display: flex;align-items: stretch;justify-content: center;background-color: white;position: relative;}#sk-container-id-2 div.sk-item::before, #sk-container-id-2 div.sk-parallel-item::before {content: \"\";position: absolute;border-left: 1px solid gray;box-sizing: border-box;top: 0;bottom: 0;left: 50%;z-index: -1;}#sk-container-id-2 div.sk-parallel-item {display: flex;flex-direction: column;z-index: 1;position: relative;background-color: white;}#sk-container-id-2 div.sk-parallel-item:first-child::after {align-self: flex-end;width: 50%;}#sk-container-id-2 div.sk-parallel-item:last-child::after {align-self: flex-start;width: 50%;}#sk-container-id-2 div.sk-parallel-item:only-child::after {width: 0;}#sk-container-id-2 div.sk-dashed-wrapped {border: 1px dashed gray;margin: 0 0.4em 0.5em 0.4em;box-sizing: border-box;padding-bottom: 0.4em;background-color: white;}#sk-container-id-2 div.sk-label label {font-family: monospace;font-weight: bold;display: inline-block;line-height: 1.2em;}#sk-container-id-2 div.sk-label-container {text-align: center;}#sk-container-id-2 div.sk-container {/* jupyter's `normalize.less` sets `[hidden] { display: none; }` but bootstrap.min.css set `[hidden] { display: none !important; }` so we also need the `!important` here to be able to override the default hidden behavior on the sphinx rendered scikit-learn.org. See: https://github.com/scikit-learn/scikit-learn/issues/21755 */display: inline-block !important;position: relative;}#sk-container-id-2 div.sk-text-repr-fallback {display: none;}</style><div id=\"sk-container-id-2\" class=\"sk-top-container\"><div class=\"sk-text-repr-fallback\"><pre>RandomizedSearchCV(cv=10, estimator=RandomForestClassifier(),\n",
       "                   param_distributions={&#x27;criterion&#x27;: [&#x27;gini&#x27;, &#x27;entropy&#x27;,\n",
       "                                                      &#x27;log_loss&#x27;],\n",
       "                                        &#x27;max_depth&#x27;: [20, 50, 100, None],\n",
       "                                        &#x27;n_estimators&#x27;: [50, 100, 200, 300, 500,\n",
       "                                                         1000]},\n",
       "                   random_state=0)</pre><b>In a Jupyter environment, please rerun this cell to show the HTML representation or trust the notebook. <br />On GitHub, the HTML representation is unable to render, please try loading this page with nbviewer.org.</b></div><div class=\"sk-container\" hidden><div class=\"sk-item sk-dashed-wrapped\"><div class=\"sk-label-container\"><div class=\"sk-label sk-toggleable\"><input class=\"sk-toggleable__control sk-hidden--visually\" id=\"sk-estimator-id-4\" type=\"checkbox\" ><label for=\"sk-estimator-id-4\" class=\"sk-toggleable__label sk-toggleable__label-arrow\">RandomizedSearchCV</label><div class=\"sk-toggleable__content\"><pre>RandomizedSearchCV(cv=10, estimator=RandomForestClassifier(),\n",
       "                   param_distributions={&#x27;criterion&#x27;: [&#x27;gini&#x27;, &#x27;entropy&#x27;,\n",
       "                                                      &#x27;log_loss&#x27;],\n",
       "                                        &#x27;max_depth&#x27;: [20, 50, 100, None],\n",
       "                                        &#x27;n_estimators&#x27;: [50, 100, 200, 300, 500,\n",
       "                                                         1000]},\n",
       "                   random_state=0)</pre></div></div></div><div class=\"sk-parallel\"><div class=\"sk-parallel-item\"><div class=\"sk-item\"><div class=\"sk-label-container\"><div class=\"sk-label sk-toggleable\"><input class=\"sk-toggleable__control sk-hidden--visually\" id=\"sk-estimator-id-5\" type=\"checkbox\" ><label for=\"sk-estimator-id-5\" class=\"sk-toggleable__label sk-toggleable__label-arrow\">estimator: RandomForestClassifier</label><div class=\"sk-toggleable__content\"><pre>RandomForestClassifier()</pre></div></div></div><div class=\"sk-serial\"><div class=\"sk-item\"><div class=\"sk-estimator sk-toggleable\"><input class=\"sk-toggleable__control sk-hidden--visually\" id=\"sk-estimator-id-6\" type=\"checkbox\" ><label for=\"sk-estimator-id-6\" class=\"sk-toggleable__label sk-toggleable__label-arrow\">RandomForestClassifier</label><div class=\"sk-toggleable__content\"><pre>RandomForestClassifier()</pre></div></div></div></div></div></div></div></div></div></div>"
      ],
      "text/plain": [
       "RandomizedSearchCV(cv=10, estimator=RandomForestClassifier(),\n",
       "                   param_distributions={'criterion': ['gini', 'entropy',\n",
       "                                                      'log_loss'],\n",
       "                                        'max_depth': [20, 50, 100, None],\n",
       "                                        'n_estimators': [50, 100, 200, 300, 500,\n",
       "                                                         1000]},\n",
       "                   random_state=0)"
      ]
     },
     "execution_count": 45,
     "metadata": {},
     "output_type": "execute_result"
    }
   ],
   "source": [
    "#RandomForestClassifier\n",
    "rf = RandomForestClassifier()\n",
    "\n",
    "param_grid_rf = {'n_estimators':[50, 100, 200, 300, 500, 1000],\n",
    "                 'criterion':[\"gini\",\"entropy\",\"log_loss\"],'max_depth':[20,50,100,None]}\n",
    "\n",
    "rfRs = RandomizedSearchCV(rf, param_distributions=param_grid_rf,cv=10, random_state=0)\n",
    "\n",
    "rfRs.fit(x_train, y_train)"
   ]
  },
  {
   "cell_type": "code",
   "execution_count": 134,
   "id": "7dfaee52",
   "metadata": {},
   "outputs": [
    {
     "name": "stdout",
     "output_type": "stream",
     "text": [
      "RandomForestClassifier(n_estimators=500)\n",
      "0.9565574181639429\n",
      "{'n_estimators': 500, 'max_depth': None, 'criterion': 'gini'}\n"
     ]
    }
   ],
   "source": [
    "bestModelRf = rfRs.best_estimator_\n",
    "print(bestModelRf)\n",
    "print(rfRs.best_score_)\n",
    "print(rfRs.best_params_)"
   ]
  },
  {
   "cell_type": "markdown",
   "id": "7a945f41",
   "metadata": {},
   "source": [
    "Classification Report of **Tuned** random forest on test data"
   ]
  },
  {
   "cell_type": "code",
   "execution_count": 135,
   "id": "459e16ba",
   "metadata": {},
   "outputs": [],
   "source": [
    "tunedRf=bestModelRf\n",
    "tunedRf.fit(x_train,y_train)\n",
    "yPredTestTunedRf=tunedRf.predict(x_test)"
   ]
  },
  {
   "cell_type": "code",
   "execution_count": 137,
   "id": "412de857",
   "metadata": {
    "scrolled": true
   },
   "outputs": [
    {
     "name": "stdout",
     "output_type": "stream",
     "text": [
      "classificaiton report of Tuned Random Forest on test data is\n",
      "              precision    recall  f1-score   support\n",
      "\n",
      "           0       0.96      0.94      0.95       559\n",
      "           1       0.30      0.36      0.33        36\n",
      "\n",
      "    accuracy                           0.91       595\n",
      "   macro avg       0.63      0.65      0.64       595\n",
      "weighted avg       0.92      0.91      0.91       595\n",
      "\n"
     ]
    }
   ],
   "source": [
    "cfrRfTestTuned=classification_report(y_test,yPredTestTunedRf)\n",
    "print(\"classificaiton report of Tuned Random Forest on test data is\")\n",
    "print(cfrRfTestTuned)"
   ]
  },
  {
   "cell_type": "markdown",
   "id": "7e91fdb2",
   "metadata": {},
   "source": [
    "# Random Forest tuned model validation on unseen data"
   ]
  },
  {
   "cell_type": "code",
   "execution_count": 138,
   "id": "f3caa49b",
   "metadata": {
    "scrolled": true
   },
   "outputs": [
    {
     "name": "stdout",
     "output_type": "stream",
     "text": [
      "classificaiton report of Tuned Random Forest on validation data is\n",
      "              precision    recall  f1-score   support\n",
      "\n",
      "           0       0.88      0.96      0.92       611\n",
      "           1       0.49      0.24      0.32       102\n",
      "\n",
      "    accuracy                           0.86       713\n",
      "   macro avg       0.69      0.60      0.62       713\n",
      "weighted avg       0.83      0.86      0.83       713\n",
      "\n"
     ]
    }
   ],
   "source": [
    "yPredValidationTunedRf_val=tunedRf.predict(x_val)\n",
    "cfrRfValTuned=classification_report(y_val,yPredValidationTunedRf_val)\n",
    "print(\"classificaiton report of Tuned Random Forest on validation data is\")\n",
    "print(cfrRfValTuned)"
   ]
  },
  {
   "cell_type": "markdown",
   "id": "70e6e691",
   "metadata": {},
   "source": [
    "# Logistic Regression: HP tuning and testing"
   ]
  },
  {
   "cell_type": "code",
   "execution_count": 50,
   "id": "287bd492",
   "metadata": {},
   "outputs": [],
   "source": [
    "lRUntuned=LogisticRegression()\n",
    "lRUntuned.fit(x_train,y_train)\n",
    "ypredTestUntunedLr=lRUntuned.predict(x_test)"
   ]
  },
  {
   "cell_type": "code",
   "execution_count": 51,
   "id": "6bb134c8",
   "metadata": {},
   "outputs": [
    {
     "name": "stdout",
     "output_type": "stream",
     "text": [
      "classificaiton report of UN-tuned Logistic Regression on test data is\n",
      "              precision    recall  f1-score   support\n",
      "\n",
      "           0       0.96      0.76      0.85       559\n",
      "           1       0.12      0.53      0.20        36\n",
      "\n",
      "    accuracy                           0.75       595\n",
      "   macro avg       0.54      0.64      0.53       595\n",
      "weighted avg       0.91      0.75      0.81       595\n",
      "\n"
     ]
    }
   ],
   "source": [
    "cfrLrTestUntuned=classification_report(y_test,ypredTestUntunedLr)\n",
    "print(\"classificaiton report of UN-tuned Logistic Regression on test data is\")\n",
    "print(cfrLrTestUntuned)"
   ]
  },
  {
   "cell_type": "markdown",
   "id": "fb2af973",
   "metadata": {},
   "source": [
    "Hyperparameter tuning for Logistic Regression"
   ]
  },
  {
   "cell_type": "code",
   "execution_count": 52,
   "id": "3bc445ce",
   "metadata": {},
   "outputs": [
    {
     "data": {
      "text/html": [
       "<style>#sk-container-id-3 {color: black;background-color: white;}#sk-container-id-3 pre{padding: 0;}#sk-container-id-3 div.sk-toggleable {background-color: white;}#sk-container-id-3 label.sk-toggleable__label {cursor: pointer;display: block;width: 100%;margin-bottom: 0;padding: 0.3em;box-sizing: border-box;text-align: center;}#sk-container-id-3 label.sk-toggleable__label-arrow:before {content: \"▸\";float: left;margin-right: 0.25em;color: #696969;}#sk-container-id-3 label.sk-toggleable__label-arrow:hover:before {color: black;}#sk-container-id-3 div.sk-estimator:hover label.sk-toggleable__label-arrow:before {color: black;}#sk-container-id-3 div.sk-toggleable__content {max-height: 0;max-width: 0;overflow: hidden;text-align: left;background-color: #f0f8ff;}#sk-container-id-3 div.sk-toggleable__content pre {margin: 0.2em;color: black;border-radius: 0.25em;background-color: #f0f8ff;}#sk-container-id-3 input.sk-toggleable__control:checked~div.sk-toggleable__content {max-height: 200px;max-width: 100%;overflow: auto;}#sk-container-id-3 input.sk-toggleable__control:checked~label.sk-toggleable__label-arrow:before {content: \"▾\";}#sk-container-id-3 div.sk-estimator input.sk-toggleable__control:checked~label.sk-toggleable__label {background-color: #d4ebff;}#sk-container-id-3 div.sk-label input.sk-toggleable__control:checked~label.sk-toggleable__label {background-color: #d4ebff;}#sk-container-id-3 input.sk-hidden--visually {border: 0;clip: rect(1px 1px 1px 1px);clip: rect(1px, 1px, 1px, 1px);height: 1px;margin: -1px;overflow: hidden;padding: 0;position: absolute;width: 1px;}#sk-container-id-3 div.sk-estimator {font-family: monospace;background-color: #f0f8ff;border: 1px dotted black;border-radius: 0.25em;box-sizing: border-box;margin-bottom: 0.5em;}#sk-container-id-3 div.sk-estimator:hover {background-color: #d4ebff;}#sk-container-id-3 div.sk-parallel-item::after {content: \"\";width: 100%;border-bottom: 1px solid gray;flex-grow: 1;}#sk-container-id-3 div.sk-label:hover label.sk-toggleable__label {background-color: #d4ebff;}#sk-container-id-3 div.sk-serial::before {content: \"\";position: absolute;border-left: 1px solid gray;box-sizing: border-box;top: 0;bottom: 0;left: 50%;z-index: 0;}#sk-container-id-3 div.sk-serial {display: flex;flex-direction: column;align-items: center;background-color: white;padding-right: 0.2em;padding-left: 0.2em;position: relative;}#sk-container-id-3 div.sk-item {position: relative;z-index: 1;}#sk-container-id-3 div.sk-parallel {display: flex;align-items: stretch;justify-content: center;background-color: white;position: relative;}#sk-container-id-3 div.sk-item::before, #sk-container-id-3 div.sk-parallel-item::before {content: \"\";position: absolute;border-left: 1px solid gray;box-sizing: border-box;top: 0;bottom: 0;left: 50%;z-index: -1;}#sk-container-id-3 div.sk-parallel-item {display: flex;flex-direction: column;z-index: 1;position: relative;background-color: white;}#sk-container-id-3 div.sk-parallel-item:first-child::after {align-self: flex-end;width: 50%;}#sk-container-id-3 div.sk-parallel-item:last-child::after {align-self: flex-start;width: 50%;}#sk-container-id-3 div.sk-parallel-item:only-child::after {width: 0;}#sk-container-id-3 div.sk-dashed-wrapped {border: 1px dashed gray;margin: 0 0.4em 0.5em 0.4em;box-sizing: border-box;padding-bottom: 0.4em;background-color: white;}#sk-container-id-3 div.sk-label label {font-family: monospace;font-weight: bold;display: inline-block;line-height: 1.2em;}#sk-container-id-3 div.sk-label-container {text-align: center;}#sk-container-id-3 div.sk-container {/* jupyter's `normalize.less` sets `[hidden] { display: none; }` but bootstrap.min.css set `[hidden] { display: none !important; }` so we also need the `!important` here to be able to override the default hidden behavior on the sphinx rendered scikit-learn.org. See: https://github.com/scikit-learn/scikit-learn/issues/21755 */display: inline-block !important;position: relative;}#sk-container-id-3 div.sk-text-repr-fallback {display: none;}</style><div id=\"sk-container-id-3\" class=\"sk-top-container\"><div class=\"sk-text-repr-fallback\"><pre>RandomizedSearchCV(cv=15, estimator=LogisticRegression(),\n",
       "                   param_distributions={&#x27;C&#x27;: [0.001, 0.01, 0.1, 1, 10, 100,\n",
       "                                              1000],\n",
       "                                        &#x27;penalty&#x27;: [&#x27;l1&#x27;, &#x27;l2&#x27;, &#x27;elasticnet&#x27;,\n",
       "                                                    &#x27;none&#x27;],\n",
       "                                        &#x27;solver&#x27;: [&#x27;newton-cg&#x27;, &#x27;lbfgs&#x27;,\n",
       "                                                   &#x27;liblinear&#x27;, &#x27;sag&#x27;,\n",
       "                                                   &#x27;saga&#x27;]},\n",
       "                   random_state=0)</pre><b>In a Jupyter environment, please rerun this cell to show the HTML representation or trust the notebook. <br />On GitHub, the HTML representation is unable to render, please try loading this page with nbviewer.org.</b></div><div class=\"sk-container\" hidden><div class=\"sk-item sk-dashed-wrapped\"><div class=\"sk-label-container\"><div class=\"sk-label sk-toggleable\"><input class=\"sk-toggleable__control sk-hidden--visually\" id=\"sk-estimator-id-7\" type=\"checkbox\" ><label for=\"sk-estimator-id-7\" class=\"sk-toggleable__label sk-toggleable__label-arrow\">RandomizedSearchCV</label><div class=\"sk-toggleable__content\"><pre>RandomizedSearchCV(cv=15, estimator=LogisticRegression(),\n",
       "                   param_distributions={&#x27;C&#x27;: [0.001, 0.01, 0.1, 1, 10, 100,\n",
       "                                              1000],\n",
       "                                        &#x27;penalty&#x27;: [&#x27;l1&#x27;, &#x27;l2&#x27;, &#x27;elasticnet&#x27;,\n",
       "                                                    &#x27;none&#x27;],\n",
       "                                        &#x27;solver&#x27;: [&#x27;newton-cg&#x27;, &#x27;lbfgs&#x27;,\n",
       "                                                   &#x27;liblinear&#x27;, &#x27;sag&#x27;,\n",
       "                                                   &#x27;saga&#x27;]},\n",
       "                   random_state=0)</pre></div></div></div><div class=\"sk-parallel\"><div class=\"sk-parallel-item\"><div class=\"sk-item\"><div class=\"sk-label-container\"><div class=\"sk-label sk-toggleable\"><input class=\"sk-toggleable__control sk-hidden--visually\" id=\"sk-estimator-id-8\" type=\"checkbox\" ><label for=\"sk-estimator-id-8\" class=\"sk-toggleable__label sk-toggleable__label-arrow\">estimator: LogisticRegression</label><div class=\"sk-toggleable__content\"><pre>LogisticRegression()</pre></div></div></div><div class=\"sk-serial\"><div class=\"sk-item\"><div class=\"sk-estimator sk-toggleable\"><input class=\"sk-toggleable__control sk-hidden--visually\" id=\"sk-estimator-id-9\" type=\"checkbox\" ><label for=\"sk-estimator-id-9\" class=\"sk-toggleable__label sk-toggleable__label-arrow\">LogisticRegression</label><div class=\"sk-toggleable__content\"><pre>LogisticRegression()</pre></div></div></div></div></div></div></div></div></div></div>"
      ],
      "text/plain": [
       "RandomizedSearchCV(cv=15, estimator=LogisticRegression(),\n",
       "                   param_distributions={'C': [0.001, 0.01, 0.1, 1, 10, 100,\n",
       "                                              1000],\n",
       "                                        'penalty': ['l1', 'l2', 'elasticnet',\n",
       "                                                    'none'],\n",
       "                                        'solver': ['newton-cg', 'lbfgs',\n",
       "                                                   'liblinear', 'sag',\n",
       "                                                   'saga']},\n",
       "                   random_state=0)"
      ]
     },
     "execution_count": 52,
     "metadata": {},
     "output_type": "execute_result"
    }
   ],
   "source": [
    "lr = LogisticRegression()\n",
    "\n",
    "param_grid_lr = { \n",
    "\n",
    "    'penalty': ['l1', 'l2', 'elasticnet', 'none'],\n",
    "    'C': [0.001, 0.01, 0.1, 1, 10, 100, 1000],\n",
    "    'solver': ['newton-cg', 'lbfgs', 'liblinear', 'sag', 'saga'],\n",
    "}\n",
    "\n",
    "lrRs = RandomizedSearchCV(lr, param_distributions=param_grid_lr, cv=15,random_state=0)\n",
    "\n",
    "lrRs.fit(x_train,y_train)"
   ]
  },
  {
   "cell_type": "code",
   "execution_count": 53,
   "id": "2a6b9a7e",
   "metadata": {},
   "outputs": [
    {
     "name": "stdout",
     "output_type": "stream",
     "text": [
      "LogisticRegression(C=0.1, penalty='none', solver='saga')\n",
      "0.7084498979353566\n",
      "{'solver': 'saga', 'penalty': 'none', 'C': 0.1}\n"
     ]
    }
   ],
   "source": [
    "lr_bestModel = lrRs.best_estimator_\n",
    "print(lr_bestModel)\n",
    "print(lrRs.best_score_)\n",
    "print(lrRs.best_params_)"
   ]
  },
  {
   "cell_type": "markdown",
   "id": "cef7ead2",
   "metadata": {},
   "source": [
    "Classification Report of **Tuned** Logistic Regression on test data"
   ]
  },
  {
   "cell_type": "code",
   "execution_count": 139,
   "id": "66af2ba3",
   "metadata": {
    "scrolled": true
   },
   "outputs": [],
   "source": [
    "tunedLr=lr_bestModel\n",
    "tunedLr.fit(x_train,y_train)\n",
    "yPredTestTunedLr=tunedLr.predict(x_test)"
   ]
  },
  {
   "cell_type": "code",
   "execution_count": 140,
   "id": "37db753b",
   "metadata": {
    "scrolled": false
   },
   "outputs": [
    {
     "name": "stdout",
     "output_type": "stream",
     "text": [
      "classificaiton report of Tuned Logistic Regression on test data is\n",
      "              precision    recall  f1-score   support\n",
      "\n",
      "           0       0.96      0.74      0.84       559\n",
      "           1       0.12      0.53      0.19        36\n",
      "\n",
      "    accuracy                           0.73       595\n",
      "   macro avg       0.54      0.64      0.51       595\n",
      "weighted avg       0.91      0.73      0.80       595\n",
      "\n"
     ]
    }
   ],
   "source": [
    "cfrLrTestTuned=classification_report(y_test,yPredTestTunedLr)\n",
    "print(\"classificaiton report of Tuned Logistic Regression on test data is\")\n",
    "print(cfrLrTestTuned)"
   ]
  },
  {
   "cell_type": "code",
   "execution_count": 167,
   "id": "c1bf744c",
   "metadata": {},
   "outputs": [
    {
     "data": {
      "text/plain": [
       "<AxesSubplot:>"
      ]
     },
     "execution_count": 167,
     "metadata": {},
     "output_type": "execute_result"
    },
    {
     "data": {
      "image/png": "[encoded data removed]",
      "text/plain": [
       "<Figure size 432x288 with 2 Axes>"
      ]
     },
     "metadata": {
      "needs_background": "light"
     },
     "output_type": "display_data"
    }
   ],
   "source": [
    "cm_test_lr = confusion_matrix(yPredTestTunedLr, y_test)\n",
    "sns.heatmap(cm_test_lr, annot=True)"
   ]
  },
  {
   "cell_type": "code",
   "execution_count": 147,
   "id": "defa45cd",
   "metadata": {},
   "outputs": [],
   "source": [
    "# tunedLr_1=LogisticRegression(C=0.1, penalty='none', solver='saga')\n",
    "# tunedLr_1.fit(x_train,y_train)\n",
    "# yPredTestTunedLr_1=tunedLr_1.predict(x_test)"
   ]
  },
  {
   "cell_type": "code",
   "execution_count": 148,
   "id": "1fd9d2a5",
   "metadata": {
    "scrolled": true
   },
   "outputs": [
    {
     "name": "stdout",
     "output_type": "stream",
     "text": [
      "classificaiton report of Tuned Logistic Regression on test data is\n",
      "              precision    recall  f1-score   support\n",
      "\n",
      "           0       0.96      0.74      0.84       559\n",
      "           1       0.12      0.53      0.19        36\n",
      "\n",
      "    accuracy                           0.73       595\n",
      "   macro avg       0.54      0.64      0.51       595\n",
      "weighted avg       0.91      0.73      0.80       595\n",
      "\n"
     ]
    }
   ],
   "source": [
    "# cfrLrTestTuned_1=classification_report(y_test,yPredTestTunedLr_1)\n",
    "# print(\"classificaiton report of Tuned Logistic Regression on test data is\")\n",
    "# print(cfrLrTestTuned_1)"
   ]
  },
  {
   "cell_type": "markdown",
   "id": "736169e8",
   "metadata": {},
   "source": [
    "# Logistic Regression tuned model validation on unseen data"
   ]
  },
  {
   "cell_type": "code",
   "execution_count": 141,
   "id": "4e36689b",
   "metadata": {
    "scrolled": true
   },
   "outputs": [
    {
     "name": "stdout",
     "output_type": "stream",
     "text": [
      "classificaiton report of Tuned Logistic Regression on validation data is\n",
      "              precision    recall  f1-score   support\n",
      "\n",
      "           0       0.87      0.70      0.77       611\n",
      "           1       0.17      0.38      0.24       102\n",
      "\n",
      "    accuracy                           0.65       713\n",
      "   macro avg       0.52      0.54      0.51       713\n",
      "weighted avg       0.77      0.65      0.70       713\n",
      "\n"
     ]
    }
   ],
   "source": [
    "yPredValidationTunedLr=tunedLr.predict(x_val)\n",
    "cfrLrValTuned=classification_report(y_val,yPredValidationTunedLr)\n",
    "print(\"classificaiton report of Tuned Logistic Regression on validation data is\")\n",
    "print(cfrLrValTuned)"
   ]
  },
  {
   "cell_type": "markdown",
   "id": "7b080b9e",
   "metadata": {},
   "source": [
    "# MLP: HP tuning and testing"
   ]
  },
  {
   "cell_type": "code",
   "execution_count": 57,
   "id": "8a7610c7",
   "metadata": {},
   "outputs": [],
   "source": [
    "mlpUntuned=MLPClassifier()\n",
    "mlpUntuned.fit(x_train,y_train)\n",
    "ypredTestUntunedMlp=mlpUntuned.predict(x_test)"
   ]
  },
  {
   "cell_type": "code",
   "execution_count": 58,
   "id": "96015a1a",
   "metadata": {
    "scrolled": true
   },
   "outputs": [
    {
     "name": "stdout",
     "output_type": "stream",
     "text": [
      "classificaiton report of UN-tuned MLP on test data is\n",
      "              precision    recall  f1-score   support\n",
      "\n",
      "           0       0.97      0.76      0.85       559\n",
      "           1       0.15      0.64      0.24        36\n",
      "\n",
      "    accuracy                           0.76       595\n",
      "   macro avg       0.56      0.70      0.55       595\n",
      "weighted avg       0.92      0.76      0.82       595\n",
      "\n"
     ]
    }
   ],
   "source": [
    "cfrMlpTestUntuned=classification_report(y_test,ypredTestUntunedMlp)\n",
    "print(\"classificaiton report of UN-tuned MLP on test data is\")\n",
    "print(cfrMlpTestUntuned)"
   ]
  },
  {
   "cell_type": "code",
   "execution_count": 175,
   "id": "7da424e7",
   "metadata": {
    "scrolled": true
   },
   "outputs": [
    {
     "data": {
      "text/plain": [
       "<AxesSubplot:>"
      ]
     },
     "execution_count": 175,
     "metadata": {},
     "output_type": "execute_result"
    },
    {
     "data": {
      "image/png": "[encoded data removed]",
      "text/plain": [
       "<Figure size 432x288 with 2 Axes>"
      ]
     },
     "metadata": {
      "needs_background": "light"
     },
     "output_type": "display_data"
    }
   ],
   "source": [
    "cm_test_untuned = confusion_matrix(ypredTestUntunedMlp, y_test)\n",
    "sns.heatmap(cm_test_untuned, annot=True)"
   ]
  },
  {
   "cell_type": "code",
   "execution_count": 173,
   "id": "b859f00c",
   "metadata": {},
   "outputs": [
    {
     "name": "stdout",
     "output_type": "stream",
     "text": [
      "MLP: ROC AUC=0.559\n"
     ]
    }
   ],
   "source": [
    "# Create roc curve\n",
    "mlp_fpr_untuned, mlp_tpr_untuned, _ = roc_curve(ypredTestUntunedMlp, y_test)\n",
    "\n",
    "# Calculate score\n",
    "mlp_auc_untuned = roc_auc_score(ypredTestUntunedMlp, y_test)\n",
    "print('MLP: ROC AUC=%.3f' % (mlp_auc_untuned))"
   ]
  },
  {
   "cell_type": "code",
   "execution_count": 174,
   "id": "07724fed",
   "metadata": {},
   "outputs": [
    {
     "data": {
      "image/png": "[encoded data removed]",
      "text/plain": [
       "<Figure size 432x288 with 1 Axes>"
      ]
     },
     "metadata": {
      "needs_background": "light"
     },
     "output_type": "display_data"
    }
   ],
   "source": [
    "# ROC curve\n",
    "plt.plot(mlp_fpr_untuned, mlp_tpr_untuned, marker='.', label='MLP')\n",
    "\n",
    "# axis labels\n",
    "plt.xlabel('False Positive Rate')\n",
    "plt.ylabel('True Positive Rate')\n",
    "\n",
    "# show the legend\n",
    "plt.title('MLP ROC Curve')\n",
    "# show the plot\n",
    "plt.show()"
   ]
  },
  {
   "cell_type": "markdown",
   "id": "f4871d4b",
   "metadata": {},
   "source": [
    "Hyperparameter tuning for MLP"
   ]
  },
  {
   "cell_type": "code",
   "execution_count": 59,
   "id": "9c59053a",
   "metadata": {},
   "outputs": [
    {
     "data": {
      "text/html": [
       "<style>#sk-container-id-4 {color: black;background-color: white;}#sk-container-id-4 pre{padding: 0;}#sk-container-id-4 div.sk-toggleable {background-color: white;}#sk-container-id-4 label.sk-toggleable__label {cursor: pointer;display: block;width: 100%;margin-bottom: 0;padding: 0.3em;box-sizing: border-box;text-align: center;}#sk-container-id-4 label.sk-toggleable__label-arrow:before {content: \"▸\";float: left;margin-right: 0.25em;color: #696969;}#sk-container-id-4 label.sk-toggleable__label-arrow:hover:before {color: black;}#sk-container-id-4 div.sk-estimator:hover label.sk-toggleable__label-arrow:before {color: black;}#sk-container-id-4 div.sk-toggleable__content {max-height: 0;max-width: 0;overflow: hidden;text-align: left;background-color: #f0f8ff;}#sk-container-id-4 div.sk-toggleable__content pre {margin: 0.2em;color: black;border-radius: 0.25em;background-color: #f0f8ff;}#sk-container-id-4 input.sk-toggleable__control:checked~div.sk-toggleable__content {max-height: 200px;max-width: 100%;overflow: auto;}#sk-container-id-4 input.sk-toggleable__control:checked~label.sk-toggleable__label-arrow:before {content: \"▾\";}#sk-container-id-4 div.sk-estimator input.sk-toggleable__control:checked~label.sk-toggleable__label {background-color: #d4ebff;}#sk-container-id-4 div.sk-label input.sk-toggleable__control:checked~label.sk-toggleable__label {background-color: #d4ebff;}#sk-container-id-4 input.sk-hidden--visually {border: 0;clip: rect(1px 1px 1px 1px);clip: rect(1px, 1px, 1px, 1px);height: 1px;margin: -1px;overflow: hidden;padding: 0;position: absolute;width: 1px;}#sk-container-id-4 div.sk-estimator {font-family: monospace;background-color: #f0f8ff;border: 1px dotted black;border-radius: 0.25em;box-sizing: border-box;margin-bottom: 0.5em;}#sk-container-id-4 div.sk-estimator:hover {background-color: #d4ebff;}#sk-container-id-4 div.sk-parallel-item::after {content: \"\";width: 100%;border-bottom: 1px solid gray;flex-grow: 1;}#sk-container-id-4 div.sk-label:hover label.sk-toggleable__label {background-color: #d4ebff;}#sk-container-id-4 div.sk-serial::before {content: \"\";position: absolute;border-left: 1px solid gray;box-sizing: border-box;top: 0;bottom: 0;left: 50%;z-index: 0;}#sk-container-id-4 div.sk-serial {display: flex;flex-direction: column;align-items: center;background-color: white;padding-right: 0.2em;padding-left: 0.2em;position: relative;}#sk-container-id-4 div.sk-item {position: relative;z-index: 1;}#sk-container-id-4 div.sk-parallel {display: flex;align-items: stretch;justify-content: center;background-color: white;position: relative;}#sk-container-id-4 div.sk-item::before, #sk-container-id-4 div.sk-parallel-item::before {content: \"\";position: absolute;border-left: 1px solid gray;box-sizing: border-box;top: 0;bottom: 0;left: 50%;z-index: -1;}#sk-container-id-4 div.sk-parallel-item {display: flex;flex-direction: column;z-index: 1;position: relative;background-color: white;}#sk-container-id-4 div.sk-parallel-item:first-child::after {align-self: flex-end;width: 50%;}#sk-container-id-4 div.sk-parallel-item:last-child::after {align-self: flex-start;width: 50%;}#sk-container-id-4 div.sk-parallel-item:only-child::after {width: 0;}#sk-container-id-4 div.sk-dashed-wrapped {border: 1px dashed gray;margin: 0 0.4em 0.5em 0.4em;box-sizing: border-box;padding-bottom: 0.4em;background-color: white;}#sk-container-id-4 div.sk-label label {font-family: monospace;font-weight: bold;display: inline-block;line-height: 1.2em;}#sk-container-id-4 div.sk-label-container {text-align: center;}#sk-container-id-4 div.sk-container {/* jupyter's `normalize.less` sets `[hidden] { display: none; }` but bootstrap.min.css set `[hidden] { display: none !important; }` so we also need the `!important` here to be able to override the default hidden behavior on the sphinx rendered scikit-learn.org. See: https://github.com/scikit-learn/scikit-learn/issues/21755 */display: inline-block !important;position: relative;}#sk-container-id-4 div.sk-text-repr-fallback {display: none;}</style><div id=\"sk-container-id-4\" class=\"sk-top-container\"><div class=\"sk-text-repr-fallback\"><pre>RandomizedSearchCV(cv=10, estimator=MLPClassifier(),\n",
       "                   param_distributions={&#x27;activation&#x27;: [&#x27;identity&#x27;,\n",
       "                                                       &#x27;logistictanh&#x27;, &#x27;relu&#x27;],\n",
       "                                        &#x27;alpha&#x27;: [0.0001, 0.05],\n",
       "                                        &#x27;hidden_layer_sizes&#x27;: [(10, 30, 10),\n",
       "                                                               (20,),\n",
       "                                                               (50, 100, 50)],\n",
       "                                        &#x27;learning_rate&#x27;: [&#x27;constant&#x27;,\n",
       "                                                          &#x27;adaptive&#x27;],\n",
       "                                        &#x27;solver&#x27;: [&#x27;lbfgs&#x27;, &#x27;sgd&#x27;, &#x27;adam&#x27;]})</pre><b>In a Jupyter environment, please rerun this cell to show the HTML representation or trust the notebook. <br />On GitHub, the HTML representation is unable to render, please try loading this page with nbviewer.org.</b></div><div class=\"sk-container\" hidden><div class=\"sk-item sk-dashed-wrapped\"><div class=\"sk-label-container\"><div class=\"sk-label sk-toggleable\"><input class=\"sk-toggleable__control sk-hidden--visually\" id=\"sk-estimator-id-10\" type=\"checkbox\" ><label for=\"sk-estimator-id-10\" class=\"sk-toggleable__label sk-toggleable__label-arrow\">RandomizedSearchCV</label><div class=\"sk-toggleable__content\"><pre>RandomizedSearchCV(cv=10, estimator=MLPClassifier(),\n",
       "                   param_distributions={&#x27;activation&#x27;: [&#x27;identity&#x27;,\n",
       "                                                       &#x27;logistictanh&#x27;, &#x27;relu&#x27;],\n",
       "                                        &#x27;alpha&#x27;: [0.0001, 0.05],\n",
       "                                        &#x27;hidden_layer_sizes&#x27;: [(10, 30, 10),\n",
       "                                                               (20,),\n",
       "                                                               (50, 100, 50)],\n",
       "                                        &#x27;learning_rate&#x27;: [&#x27;constant&#x27;,\n",
       "                                                          &#x27;adaptive&#x27;],\n",
       "                                        &#x27;solver&#x27;: [&#x27;lbfgs&#x27;, &#x27;sgd&#x27;, &#x27;adam&#x27;]})</pre></div></div></div><div class=\"sk-parallel\"><div class=\"sk-parallel-item\"><div class=\"sk-item\"><div class=\"sk-label-container\"><div class=\"sk-label sk-toggleable\"><input class=\"sk-toggleable__control sk-hidden--visually\" id=\"sk-estimator-id-11\" type=\"checkbox\" ><label for=\"sk-estimator-id-11\" class=\"sk-toggleable__label sk-toggleable__label-arrow\">estimator: MLPClassifier</label><div class=\"sk-toggleable__content\"><pre>MLPClassifier()</pre></div></div></div><div class=\"sk-serial\"><div class=\"sk-item\"><div class=\"sk-estimator sk-toggleable\"><input class=\"sk-toggleable__control sk-hidden--visually\" id=\"sk-estimator-id-12\" type=\"checkbox\" ><label for=\"sk-estimator-id-12\" class=\"sk-toggleable__label sk-toggleable__label-arrow\">MLPClassifier</label><div class=\"sk-toggleable__content\"><pre>MLPClassifier()</pre></div></div></div></div></div></div></div></div></div></div>"
      ],
      "text/plain": [
       "RandomizedSearchCV(cv=10, estimator=MLPClassifier(),\n",
       "                   param_distributions={'activation': ['identity',\n",
       "                                                       'logistictanh', 'relu'],\n",
       "                                        'alpha': [0.0001, 0.05],\n",
       "                                        'hidden_layer_sizes': [(10, 30, 10),\n",
       "                                                               (20,),\n",
       "                                                               (50, 100, 50)],\n",
       "                                        'learning_rate': ['constant',\n",
       "                                                          'adaptive'],\n",
       "                                        'solver': ['lbfgs', 'sgd', 'adam']})"
      ]
     },
     "execution_count": 59,
     "metadata": {},
     "output_type": "execute_result"
    }
   ],
   "source": [
    "#MLPClassifier\n",
    "mlp = MLPClassifier()\n",
    "\n",
    "param_grid_mlp = {\n",
    "    'hidden_layer_sizes': [(10,30,10),(20,),(50,100,50)],\n",
    "    'activation': ['identity','logistic''tanh', 'relu'],\n",
    "    'solver': ['lbfgs','sgd', 'adam'],\n",
    "    'alpha': [0.0001, 0.05],\n",
    "    'learning_rate': ['constant','adaptive']}\n",
    "\n",
    "mlpRs = RandomizedSearchCV(mlp, param_distributions=param_grid_mlp, cv=10)\n",
    "\n",
    "mlpRs.fit(x_train, y_train)"
   ]
  },
  {
   "cell_type": "code",
   "execution_count": 60,
   "id": "e47e4558",
   "metadata": {},
   "outputs": [
    {
     "name": "stdout",
     "output_type": "stream",
     "text": [
      "MLPClassifier(alpha=0.05, hidden_layer_sizes=(50, 100, 50))\n",
      "0.8466116912952317\n",
      "{'solver': 'adam', 'learning_rate': 'constant', 'hidden_layer_sizes': (50, 100, 50), 'alpha': 0.05, 'activation': 'relu'}\n"
     ]
    }
   ],
   "source": [
    "bestModelMlp = mlpRs.best_estimator_\n",
    "print(bestModelMlp)\n",
    "print(mlpRs.best_score_)\n",
    "print(mlpRs.best_params_)"
   ]
  },
  {
   "cell_type": "markdown",
   "id": "a0afe809",
   "metadata": {},
   "source": [
    "Classification Report of **Tuned** MLP on test data"
   ]
  },
  {
   "cell_type": "code",
   "execution_count": 142,
   "id": "3484604c",
   "metadata": {},
   "outputs": [],
   "source": [
    "# tunedMlp=MLPClassifier(hidden_layer_sizes=(50, 100, 50), learning_rate='adaptive')\n",
    "tunedMlp=bestModelMlp\n",
    "tunedMlp.fit(x_train,y_train)\n",
    "yPredTestTunedMlp=tunedMlp.predict(x_test)"
   ]
  },
  {
   "cell_type": "code",
   "execution_count": 143,
   "id": "577e9d87",
   "metadata": {
    "scrolled": true
   },
   "outputs": [
    {
     "name": "stdout",
     "output_type": "stream",
     "text": [
      "classificaiton report of Tuned MLP on test data is\n",
      "              precision    recall  f1-score   support\n",
      "\n",
      "           0       0.97      0.85      0.90       559\n",
      "           1       0.18      0.53      0.27        36\n",
      "\n",
      "    accuracy                           0.83       595\n",
      "   macro avg       0.57      0.69      0.59       595\n",
      "weighted avg       0.92      0.83      0.87       595\n",
      "\n"
     ]
    }
   ],
   "source": [
    "cfrMlpTestTuned=classification_report(y_test,yPredTestTunedMlp)\n",
    "print(\"classificaiton report of Tuned MLP on test data is\")\n",
    "print(cfrMlpTestTuned)"
   ]
  },
  {
   "cell_type": "code",
   "execution_count": 165,
   "id": "312d027e",
   "metadata": {
    "scrolled": true
   },
   "outputs": [
    {
     "data": {
      "text/plain": [
       "<AxesSubplot:>"
      ]
     },
     "execution_count": 165,
     "metadata": {},
     "output_type": "execute_result"
    },
    {
     "data": {
      "image/png": "[encoded data removed]",
      "text/plain": [
       "<Figure size 432x288 with 2 Axes>"
      ]
     },
     "metadata": {
      "needs_background": "light"
     },
     "output_type": "display_data"
    }
   ],
   "source": [
    "cm_test = confusion_matrix(yPredTestTunedMlp, y_test)\n",
    "sns.heatmap(cm_test, annot=True)"
   ]
  },
  {
   "cell_type": "code",
   "execution_count": 169,
   "id": "5c4b35c9",
   "metadata": {},
   "outputs": [
    {
     "name": "stdout",
     "output_type": "stream",
     "text": [
      "MLP: ROC AUC=0.575\n"
     ]
    }
   ],
   "source": [
    "# Create roc curve\n",
    "mlp_fpr, mlp_tpr, _ = roc_curve(yPredTestTunedMlp, y_test)\n",
    "\n",
    "# Calculate score\n",
    "mlp_auc = roc_auc_score(yPredTestTunedMlp, y_test)\n",
    "print('MLP: ROC AUC=%.3f' % (mlp_auc))"
   ]
  },
  {
   "cell_type": "code",
   "execution_count": 170,
   "id": "a7e7de60",
   "metadata": {},
   "outputs": [
    {
     "data": {
      "image/png": "[encoded data removed]",
      "text/plain": [
       "<Figure size 432x288 with 1 Axes>"
      ]
     },
     "metadata": {
      "needs_background": "light"
     },
     "output_type": "display_data"
    }
   ],
   "source": [
    "# ROC curve\n",
    "plt.plot(mlp_fpr, mlp_tpr, marker='.', label='MLP')\n",
    "\n",
    "# axis labels\n",
    "plt.xlabel('False Positive Rate')\n",
    "plt.ylabel('True Positive Rate')\n",
    "\n",
    "# show the legend\n",
    "plt.title('MLP ROC Curve')\n",
    "# show the plot\n",
    "plt.show()"
   ]
  },
  {
   "cell_type": "markdown",
   "id": "4c1da08b",
   "metadata": {},
   "source": [
    "# MLP tuned model validation on unseen data"
   ]
  },
  {
   "cell_type": "code",
   "execution_count": 144,
   "id": "f4ddc1be",
   "metadata": {
    "scrolled": true
   },
   "outputs": [
    {
     "name": "stdout",
     "output_type": "stream",
     "text": [
      "classificaiton report of Tuned MLP on Validation data is\n",
      "              precision    recall  f1-score   support\n",
      "\n",
      "           0       0.89      0.88      0.88       611\n",
      "           1       0.31      0.33      0.32       102\n",
      "\n",
      "    accuracy                           0.80       713\n",
      "   macro avg       0.60      0.61      0.60       713\n",
      "weighted avg       0.81      0.80      0.80       713\n",
      "\n"
     ]
    }
   ],
   "source": [
    "yPredValidationTunedMlp=tunedMlp.predict(x_val)\n",
    "cfrMlpValTuned=classification_report(y_val,yPredValidationTunedMlp)\n",
    "print(\"classificaiton report of Tuned MLP on Validation data is\")\n",
    "print(cfrMlpValTuned)"
   ]
  },
  {
   "cell_type": "code",
   "execution_count": 166,
   "id": "a85cceea",
   "metadata": {
    "scrolled": true
   },
   "outputs": [
    {
     "data": {
      "text/plain": [
       "<AxesSubplot:>"
      ]
     },
     "execution_count": 166,
     "metadata": {},
     "output_type": "execute_result"
    },
    {
     "data": {
      "image/png": "[encoded data removed]",
      "text/plain": [
       "<Figure size 432x288 with 2 Axes>"
      ]
     },
     "metadata": {
      "needs_background": "light"
     },
     "output_type": "display_data"
    }
   ],
   "source": [
    "cm_val = confusion_matrix(yPredValidationTunedMlp, y_val)\n",
    "sns.heatmap(cm_val, annot=True)"
   ]
  },
  {
   "cell_type": "code",
   "execution_count": 171,
   "id": "59480ab5",
   "metadata": {},
   "outputs": [
    {
     "name": "stdout",
     "output_type": "stream",
     "text": [
      "MLP: ROC AUC=0.600\n"
     ]
    }
   ],
   "source": [
    "# Create roc curve\n",
    "mlp_fpr_val, mlp_tpr_val, _ = roc_curve(yPredValidationTunedMlp, y_val)\n",
    "\n",
    "# Calculate score\n",
    "mlp_auc_val = roc_auc_score(yPredValidationTunedMlp, y_val)\n",
    "print('MLP: ROC AUC=%.3f' % (mlp_auc_val))"
   ]
  },
  {
   "cell_type": "code",
   "execution_count": 172,
   "id": "35a6e775",
   "metadata": {},
   "outputs": [
    {
     "data": {
      "image/png": "[encoded data removed]",
      "text/plain": [
       "<Figure size 432x288 with 1 Axes>"
      ]
     },
     "metadata": {
      "needs_background": "light"
     },
     "output_type": "display_data"
    }
   ],
   "source": [
    "# ROC curve\n",
    "plt.plot(mlp_fpr_val, mlp_tpr_val, marker='.', label='MLP')\n",
    "\n",
    "# axis labels\n",
    "plt.xlabel('False Positive Rate')\n",
    "plt.ylabel('True Positive Rate')\n",
    "\n",
    "# show the legend\n",
    "plt.title('MLP ROC Curve')\n",
    "# show the plot\n",
    "plt.show()"
   ]
  },
  {
   "cell_type": "markdown",
   "id": "1ad4a47f",
   "metadata": {},
   "source": [
    "# Selecting MLP becasue of its accuracy and recall of class 1 after HP tuning"
   ]
  },
  {
   "cell_type": "code",
   "execution_count": 160,
   "id": "56dc1acd",
   "metadata": {},
   "outputs": [
    {
     "name": "stdout",
     "output_type": "stream",
     "text": [
      "[0 0 0 0 1 0 0 0 1 0 0 0 0 1 0 0 0 0 0 0 0 0 0 0 0 0 0 0 0 0 0 0 0 0 0 0 0\n",
      " 1 0 1 0 0 0 0 0 0 0 0 0 0 0 0 0 0 0 1 0 0 0 0 0 1 0 0 0 0 0 0 0 0 0 0 0 0\n",
      " 0 0 0 0 0 0 0 1 0 0 0 0 1 0 1 1 0 0 0 1 0 0 0 0 0 0 0 0 0 0 0 0 0 0 1 1 1\n",
      " 0 1 0 0 0 0 0 0 1 1 0 0 1 0 0 0 0 0 0 0 0 0 0 0 0 0 0 0 0 0 0 0 0 1 0 0 0\n",
      " 0 0 0 0 0 0 0 0 0 0 0 0 0 0 0 0 0 0 0 0 0 0 0 0 0 0 0 0 0 0 0 0 0 0 0 0 0\n",
      " 0 0 0 0 0 0 0 0 0 0 0 0 0 0 0 0 0 0 0 0 0 0 0 0 0 0 0 0 1 1 0 0 0 0 0 0 0\n",
      " 0 0 0 0 0 0 0 0 1 0 1 0 0 0 0 0 1 1 0 0 0 0 1 0 0 0 1 0 0 0 0 0 0 0 0 0 0\n",
      " 0 0 0 0 0 1 0 0 0 1 1 0 0 0 0 0 0 0 0 0 0 0 0 0 0 0 0 0 1 0 0 0 1 0 0 0 1\n",
      " 0 0 0 0 0 0 0 0 0 0 0 1 1 0 1 0 0 0 0 0 0 0 0 0 1 0 0 1 0 0 0 0 0 1 0 1 1\n",
      " 0 1 0 0 0 0 0 0 1 1 0 0 0 0 0 0 0 0 1 1 1 0 0 1 1 1 0 0 1 0 0 1 0 0 0 0 1\n",
      " 0 0 0 0 0 0 0 0 0 0 0 1 0 0 0 0 0 0 0 0 0 0 0 0 0 0 0 1 1 1 0 0 0 1 1 1 0\n",
      " 0 1 1 1 0 1 1 0 0 0 0 0 0 0 0 0 0 1 1 1 1 1 1 1 1 1 1 1 1 1 1 0 1 1 1 1 0\n",
      " 0 0 0 0 0 0 0 0 0 0 0 0 0 0 0 0 0 0 0 0 0 0 0 0 0 1 1 0 0 0 0 1 1 0 0 1 0\n",
      " 1 0 0 0 0 0 0 0 0 0 0 0 0 0 0 0 1 0 1 1 0 1 0 1 0 1 1 1 1 0 1 1 1 1 1 0 0\n",
      " 0 0 0 0 0 0 0 0 0 0 0 0 0 0 0 0 0 0 0 0 0 0 0 0 0 0 0 0 0 0 0 0 0 0 0 0 0\n",
      " 0 0 0 0 0 0 0 0 0 0 0 0 0 0 0 0 0 0 0 0 0 0 0 0 0 0 0 0 0 0 0 0 0 0 0 0 0\n",
      " 0 0 0 0 0 0 0 0 0 0 0 0 0 0 0 0 0 0 0 0 0 0 0 0 1 0 1 0 0 0 0 1 0 0 0 0 1\n",
      " 1 0 0 0 0 0 0 0 0 0 0 0 0 0 0 0 0 0 0 0 0 0 0 0 0 0 0 0 0 0 0 0 0 0 0 0 0\n",
      " 0 0 0 0 0 0 0 0 0 0 0 0 0 0 0 0 0 0 0 0 0 0 0 0 0 0 0 0 0 0 0 0 0 0 0 0 0\n",
      " 0 0 0 0 0 0 0 0 0 0]\n"
     ]
    }
   ],
   "source": [
    "print(yPredValidationTunedMlp)"
   ]
  },
  {
   "cell_type": "code",
   "execution_count": 150,
   "id": "c01a052d",
   "metadata": {},
   "outputs": [],
   "source": [
    "mylist_MLP=[]\n",
    "\n",
    "for i in yPredValidationTunedMlp:\n",
    "    mylist_MLP.append(i)"
   ]
  },
  {
   "cell_type": "code",
   "execution_count": 151,
   "id": "f3f154a2",
   "metadata": {},
   "outputs": [
    {
     "name": "stdout",
     "output_type": "stream",
     "text": [
      "[0, 0, 0, 0, 1, 0, 0, 0, 1, 0, 0, 0, 0, 1, 0, 0, 0, 0, 0, 0, 0, 0, 0, 0, 0, 0, 0, 0, 0, 0, 0, 0, 0, 0, 0, 0, 0, 1, 0, 1, 0, 0, 0, 0, 0, 0, 0, 0, 0, 0, 0, 0, 0, 0, 0, 1, 0, 0, 0, 0, 0, 1, 0, 0, 0, 0, 0, 0, 0, 0, 0, 0, 0, 0, 0, 0, 0, 0, 0, 0, 0, 1, 0, 0, 0, 0, 1, 0, 1, 1, 0, 0, 0, 1, 0, 0, 0, 0, 0, 0, 0, 0, 0, 0, 0, 0, 0, 0, 1, 1, 1, 0, 1, 0, 0, 0, 0, 0, 0, 1, 1, 0, 0, 1, 0, 0, 0, 0, 0, 0, 0, 0, 0, 0, 0, 0, 0, 0, 0, 0, 0, 0, 0, 0, 1, 0, 0, 0, 0, 0, 0, 0, 0, 0, 0, 0, 0, 0, 0, 0, 0, 0, 0, 0, 0, 0, 0, 0, 0, 0, 0, 0, 0, 0, 0, 0, 0, 0, 0, 0, 0, 0, 0, 0, 0, 0, 0, 0, 0, 0, 0, 0, 0, 0, 0, 0, 0, 0, 0, 0, 0, 0, 0, 0, 0, 0, 0, 0, 0, 0, 0, 0, 0, 1, 1, 0, 0, 0, 0, 0, 0, 0, 0, 0, 0, 0, 0, 0, 0, 0, 1, 0, 1, 0, 0, 0, 0, 0, 1, 1, 0, 0, 0, 0, 1, 0, 0, 0, 1, 0, 0, 0, 0, 0, 0, 0, 0, 0, 0, 0, 0, 0, 0, 0, 1, 0, 0, 0, 1, 1, 0, 0, 0, 0, 0, 0, 0, 0, 0, 0, 0, 0, 0, 0, 0, 0, 0, 1, 0, 0, 0, 1, 0, 0, 0, 1, 0, 0, 0, 0, 0, 0, 0, 0, 0, 0, 0, 1, 1, 0, 1, 0, 0, 0, 0, 0, 0, 0, 0, 0, 1, 0, 0, 1, 0, 0, 0, 0, 0, 1, 0, 1, 1, 0, 1, 0, 0, 0, 0, 0, 0, 1, 1, 0, 0, 0, 0, 0, 0, 0, 0, 1, 1, 1, 0, 0, 1, 1, 1, 0, 0, 1, 0, 0, 1, 0, 0, 0, 0, 1, 0, 0, 0, 0, 0, 0, 0, 0, 0, 0, 0, 1, 0, 0, 0, 0, 0, 0, 0, 0, 0, 0, 0, 0, 0, 0, 0, 1, 1, 1, 0, 0, 0, 1, 1, 1, 0, 0, 1, 1, 1, 0, 1, 1, 0, 0, 0, 0, 0, 0, 0, 0, 0, 0, 1, 1, 1, 1, 1, 1, 1, 1, 1, 1, 1, 1, 1, 1, 0, 1, 1, 1, 1, 0, 0, 0, 0, 0, 0, 0, 0, 0, 0, 0, 0, 0, 0, 0, 0, 0, 0, 0, 0, 0, 0, 0, 0, 0, 0, 1, 1, 0, 0, 0, 0, 1, 1, 0, 0, 1, 0, 1, 0, 0, 0, 0, 0, 0, 0, 0, 0, 0, 0, 0, 0, 0, 0, 1, 0, 1, 1, 0, 1, 0, 1, 0, 1, 1, 1, 1, 0, 1, 1, 1, 1, 1, 0, 0, 0, 0, 0, 0, 0, 0, 0, 0, 0, 0, 0, 0, 0, 0, 0, 0, 0, 0, 0, 0, 0, 0, 0, 0, 0, 0, 0, 0, 0, 0, 0, 0, 0, 0, 0, 0, 0, 0, 0, 0, 0, 0, 0, 0, 0, 0, 0, 0, 0, 0, 0, 0, 0, 0, 0, 0, 0, 0, 0, 0, 0, 0, 0, 0, 0, 0, 0, 0, 0, 0, 0, 0, 0, 0, 0, 0, 0, 0, 0, 0, 0, 0, 0, 0, 0, 0, 0, 0, 0, 0, 0, 0, 0, 0, 0, 0, 0, 0, 1, 0, 1, 0, 0, 0, 0, 1, 0, 0, 0, 0, 1, 1, 0, 0, 0, 0, 0, 0, 0, 0, 0, 0, 0, 0, 0, 0, 0, 0, 0, 0, 0, 0, 0, 0, 0, 0, 0, 0, 0, 0, 0, 0, 0, 0, 0, 0, 0, 0, 0, 0, 0, 0, 0, 0, 0, 0, 0, 0, 0, 0, 0, 0, 0, 0, 0, 0, 0, 0, 0, 0, 0, 0, 0, 0, 0, 0, 0, 0, 0, 0, 0, 0, 0, 0, 0, 0, 0, 0, 0, 0, 0, 0, 0, 0, 0]\n"
     ]
    }
   ],
   "source": [
    "print(mylist_MLP)"
   ]
  },
  {
   "cell_type": "code",
   "execution_count": 152,
   "id": "5dc40a87",
   "metadata": {},
   "outputs": [],
   "source": [
    "df_with_MLP_predict=df_validation.copy()"
   ]
  },
  {
   "cell_type": "code",
   "execution_count": 153,
   "id": "e9bf00b2",
   "metadata": {},
   "outputs": [],
   "source": [
    "df_with_MLP_predict['Predictions']=pd.Series(mylist_MLP)"
   ]
  },
  {
   "cell_type": "code",
   "execution_count": 154,
   "id": "61c53df7",
   "metadata": {},
   "outputs": [],
   "source": [
    "pd.set_option('display.max_rows', 1000)"
   ]
  },
  {
   "cell_type": "code",
   "execution_count": 183,
   "id": "938582ae",
   "metadata": {},
   "outputs": [
    {
     "data": {
      "text/plain": [
       "109"
      ]
     },
     "execution_count": 183,
     "metadata": {},
     "output_type": "execute_result"
    }
   ],
   "source": [
    "len(df_with_MLP_predict[df_with_MLP_predict.Predictions==1])"
   ]
  },
  {
   "cell_type": "code",
   "execution_count": null,
   "id": "32f7c797",
   "metadata": {},
   "outputs": [],
   "source": [
    "df_coordinates"
   ]
  },
  {
   "cell_type": "markdown",
   "id": "acdcd47e",
   "metadata": {},
   "source": [
    "# Kafka fo streaming of predicted values"
   ]
  },
  {
   "cell_type": "markdown",
   "id": "9959dfe7",
   "metadata": {},
   "source": [
    "# Creating dictionary out of the dataframe columns 'Lat' and 'Long'"
   ]
  },
  {
   "cell_type": "code",
   "execution_count": 162,
   "id": "3d935663",
   "metadata": {},
   "outputs": [
    {
     "name": "stdout",
     "output_type": "stream",
     "text": [
      "records_dictionary =  [{'Lat': 56.154055, 'Long': -3.944176}, {'Lat': 56.154055, 'Long': -3.944176}, {'Lat': 56.154082, 'Long': -3.944264}, {'Lat': 56.154135, 'Long': -3.944461}, {'Lat': 56.154135, 'Long': -3.944461}, {'Lat': 56.154191, 'Long': -3.944671}, {'Lat': 56.154221, 'Long': -3.944785}, {'Lat': 56.154277, 'Long': -3.945002}, {'Lat': 56.154277, 'Long': -3.945002}, {'Lat': 56.154277, 'Long': -3.945002}, {'Lat': 56.154277, 'Long': -3.945002}, {'Lat': 56.154305, 'Long': -3.945115}, {'Lat': 56.154333, 'Long': -3.945225}, {'Lat': 56.154333, 'Long': -3.945225}, {'Lat': 56.154333, 'Long': -3.945225}, {'Lat': 56.154361, 'Long': -3.945333}, {'Lat': 56.154361, 'Long': -3.945333}, {'Lat': 56.154361, 'Long': -3.945333}, {'Lat': 56.154387, 'Long': -3.945437}, {'Lat': 56.154427, 'Long': -3.945603}, {'Lat': 56.15428, 'Long': -3.945967}, {'Lat': 56.15428, 'Long': -3.945967}, {'Lat': 56.154231, 'Long': -3.946007}, {'Lat': 56.154185, 'Long': -3.946054}, {'Lat': 56.154185, 'Long': -3.946054}, {'Lat': 56.154185, 'Long': -3.946054}, {'Lat': 56.154136, 'Long': -3.946097}, {'Lat': 56.154136, 'Long': -3.946097}, {'Lat': 56.154035, 'Long': -3.946178}, {'Lat': 56.154035, 'Long': -3.946178}, {'Lat': 56.154035, 'Long': -3.946178}, {'Lat': 56.153928, 'Long': -3.946256}, {'Lat': 56.153928, 'Long': -3.946256}, {'Lat': 56.153875, 'Long': -3.946294}, {'Lat': 56.153819, 'Long': -3.946338}, {'Lat': 56.153819, 'Long': -3.946338}, {'Lat': 56.153819, 'Long': -3.946338}, {'Lat': 56.153762, 'Long': -3.946372}, {'Lat': 56.153706, 'Long': -3.946409}, {'Lat': 56.153706, 'Long': -3.946409}, {'Lat': 56.153706, 'Long': -3.946409}, {'Lat': 56.153652, 'Long': -3.946456}, {'Lat': 56.153652, 'Long': -3.946456}, {'Lat': 56.153652, 'Long': -3.946456}, {'Lat': 56.153599, 'Long': -3.946498}, {'Lat': 56.153599, 'Long': -3.946498}, {'Lat': 56.153549, 'Long': -3.94654}, {'Lat': 56.153549, 'Long': -3.94654}, {'Lat': 56.153549, 'Long': -3.94654}, {'Lat': 56.153549, 'Long': -3.94654}, {'Lat': 56.153549, 'Long': -3.94654}, {'Lat': 56.153549, 'Long': -3.94654}, {'Lat': 56.153492, 'Long': -3.946579}, {'Lat': 56.153492, 'Long': -3.946579}, {'Lat': 56.153442, 'Long': -3.946624}, {'Lat': 56.15334, 'Long': -3.946708}, {'Lat': 56.15334, 'Long': -3.946708}, {'Lat': 56.15334, 'Long': -3.946708}, {'Lat': 56.153292, 'Long': -3.94674}, {'Lat': 56.153292, 'Long': -3.94674}, {'Lat': 56.153292, 'Long': -3.94674}, {'Lat': 56.153292, 'Long': -3.94674}, {'Lat': 56.153292, 'Long': -3.94674}, {'Lat': 56.153292, 'Long': -3.94674}, {'Lat': 56.153292, 'Long': -3.94674}, {'Lat': 56.153247, 'Long': -3.946774}, {'Lat': 56.153206, 'Long': -3.946808}, {'Lat': 56.153206, 'Long': -3.946808}, {'Lat': 56.153206, 'Long': -3.946808}, {'Lat': 56.153206, 'Long': -3.946808}, {'Lat': 56.153206, 'Long': -3.946808}, {'Lat': 56.153206, 'Long': -3.946808}, {'Lat': 56.153206, 'Long': -3.946808}, {'Lat': 56.153206, 'Long': -3.946808}, {'Lat': 56.153206, 'Long': -3.946808}, {'Lat': 56.153167, 'Long': -3.94684}, {'Lat': 56.153167, 'Long': -3.94684}, {'Lat': 56.153167, 'Long': -3.94684}, {'Lat': 56.153167, 'Long': -3.94684}, {'Lat': 56.153167, 'Long': -3.94684}, {'Lat': 56.153167, 'Long': -3.94684}, {'Lat': 56.153167, 'Long': -3.94684}, {'Lat': 56.153167, 'Long': -3.94684}, {'Lat': 56.153167, 'Long': -3.94684}, {'Lat': 56.153095, 'Long': -3.946922}, {'Lat': 56.153095, 'Long': -3.946922}, {'Lat': 56.15308, 'Long': -3.946946}, {'Lat': 56.15308, 'Long': -3.946946}, {'Lat': 56.15308, 'Long': -3.946946}, {'Lat': 56.15308, 'Long': -3.946946}, {'Lat': 56.153154, 'Long': -3.947214}, {'Lat': 56.153154, 'Long': -3.947214}, {'Lat': 56.153154, 'Long': -3.947214}, {'Lat': 56.153154, 'Long': -3.947214}, {'Lat': 56.153178, 'Long': -3.947283}, {'Lat': 56.153178, 'Long': -3.947283}, {'Lat': 56.153178, 'Long': -3.947283}, {'Lat': 56.153178, 'Long': -3.947283}, {'Lat': 56.153178, 'Long': -3.947283}, {'Lat': 56.153178, 'Long': -3.947283}, {'Lat': 56.153178, 'Long': -3.947283}, {'Lat': 56.153204, 'Long': -3.94735}, {'Lat': 56.153204, 'Long': -3.94735}, {'Lat': 56.153204, 'Long': -3.94735}, {'Lat': 56.153169, 'Long': -3.947351}, {'Lat': 56.153169, 'Long': -3.947351}, {'Lat': 56.15316, 'Long': -3.947278}, {'Lat': 56.15316, 'Long': -3.947278}, {'Lat': 56.15316, 'Long': -3.947278}] \n",
      "\n"
     ]
    }
   ],
   "source": [
    "records_dict= df_with_MLP_predict[['Lat','Long']][df_with_MLP_predict.Predictions==1].to_dict(orient='records')\n",
    "print(\"records_dictionary = \", records_dict,\"\\n\")"
   ]
  },
  {
   "cell_type": "markdown",
   "id": "4ea1af5e",
   "metadata": {},
   "source": [
    "## Importing kafka Packages"
   ]
  },
  {
   "cell_type": "code",
   "execution_count": 158,
   "id": "3f2e9e97",
   "metadata": {},
   "outputs": [
    {
     "name": "stdout",
     "output_type": "stream",
     "text": [
      "Requirement already satisfied: kafka-python in /Users/karan/opt/anaconda3/lib/python3.8/site-packages (2.0.2)\r\n"
     ]
    }
   ],
   "source": [
    "!pip install kafka-python\n"
   ]
  },
  {
   "cell_type": "code",
   "execution_count": 177,
   "id": "f7d18a88",
   "metadata": {},
   "outputs": [],
   "source": [
    "from kafka import KafkaProducer\n",
    "from kafka import KafkaConsumer\n",
    "from time import sleep\n",
    "import json \n",
    "from datetime import datetime\n",
    "from json import loads"
   ]
  },
  {
   "cell_type": "markdown",
   "id": "2224ca21",
   "metadata": {},
   "source": [
    "## Kafka Producer Producing the messages of predicted coordinates"
   ]
  },
  {
   "cell_type": "code",
   "execution_count": 187,
   "id": "a8887ff2",
   "metadata": {},
   "outputs": [
    {
     "name": "stdout",
     "output_type": "stream",
     "text": [
      "Producing message @ 2022-09-20 14:19:41.117987 | Message = {'Lat': 56.154055, 'Long': -3.944176}\n",
      "Producing message @ 2022-09-20 14:19:42.125668 | Message = {'Lat': 56.154055, 'Long': -3.944176}\n",
      "Producing message @ 2022-09-20 14:19:43.129087 | Message = {'Lat': 56.154082, 'Long': -3.944264}\n",
      "Producing message @ 2022-09-20 14:19:44.134054 | Message = {'Lat': 56.154135, 'Long': -3.944461}\n",
      "Producing message @ 2022-09-20 14:19:45.137080 | Message = {'Lat': 56.154135, 'Long': -3.944461}\n",
      "Producing message @ 2022-09-20 14:19:46.142451 | Message = {'Lat': 56.154191, 'Long': -3.944671}\n",
      "Producing message @ 2022-09-20 14:19:47.146709 | Message = {'Lat': 56.154221, 'Long': -3.944785}\n",
      "Producing message @ 2022-09-20 14:19:48.152760 | Message = {'Lat': 56.154277, 'Long': -3.945002}\n",
      "Producing message @ 2022-09-20 14:19:49.158746 | Message = {'Lat': 56.154277, 'Long': -3.945002}\n",
      "Producing message @ 2022-09-20 14:19:50.162804 | Message = {'Lat': 56.154277, 'Long': -3.945002}\n",
      "Producing message @ 2022-09-20 14:19:51.165160 | Message = {'Lat': 56.154277, 'Long': -3.945002}\n",
      "Producing message @ 2022-09-20 14:19:52.166555 | Message = {'Lat': 56.154305, 'Long': -3.945115}\n",
      "Producing message @ 2022-09-20 14:19:53.167630 | Message = {'Lat': 56.154333, 'Long': -3.945225}\n",
      "Producing message @ 2022-09-20 14:19:54.174222 | Message = {'Lat': 56.154333, 'Long': -3.945225}\n",
      "Producing message @ 2022-09-20 14:19:55.181853 | Message = {'Lat': 56.154333, 'Long': -3.945225}\n",
      "Producing message @ 2022-09-20 14:19:56.184191 | Message = {'Lat': 56.154361, 'Long': -3.945333}\n",
      "Producing message @ 2022-09-20 14:19:57.190117 | Message = {'Lat': 56.154361, 'Long': -3.945333}\n",
      "Producing message @ 2022-09-20 14:19:58.192337 | Message = {'Lat': 56.154361, 'Long': -3.945333}\n",
      "Producing message @ 2022-09-20 14:19:59.197537 | Message = {'Lat': 56.154387, 'Long': -3.945437}\n",
      "Producing message @ 2022-09-20 14:20:00.199816 | Message = {'Lat': 56.154427, 'Long': -3.945603}\n",
      "Producing message @ 2022-09-20 14:20:01.207169 | Message = {'Lat': 56.15428, 'Long': -3.945967}\n",
      "Producing message @ 2022-09-20 14:20:02.209075 | Message = {'Lat': 56.15428, 'Long': -3.945967}\n",
      "Producing message @ 2022-09-20 14:20:03.209911 | Message = {'Lat': 56.154231, 'Long': -3.946007}\n",
      "Producing message @ 2022-09-20 14:20:04.217350 | Message = {'Lat': 56.154185, 'Long': -3.946054}\n",
      "Producing message @ 2022-09-20 14:20:05.220120 | Message = {'Lat': 56.154185, 'Long': -3.946054}\n",
      "Producing message @ 2022-09-20 14:20:06.226178 | Message = {'Lat': 56.154185, 'Long': -3.946054}\n",
      "Producing message @ 2022-09-20 14:20:07.231766 | Message = {'Lat': 56.154136, 'Long': -3.946097}\n",
      "Producing message @ 2022-09-20 14:20:08.235026 | Message = {'Lat': 56.154136, 'Long': -3.946097}\n",
      "Producing message @ 2022-09-20 14:20:09.236030 | Message = {'Lat': 56.154035, 'Long': -3.946178}\n",
      "Producing message @ 2022-09-20 14:20:10.242866 | Message = {'Lat': 56.154035, 'Long': -3.946178}\n",
      "Producing message @ 2022-09-20 14:20:11.245397 | Message = {'Lat': 56.154035, 'Long': -3.946178}\n",
      "Producing message @ 2022-09-20 14:20:12.247220 | Message = {'Lat': 56.153928, 'Long': -3.946256}\n",
      "Producing message @ 2022-09-20 14:20:13.254872 | Message = {'Lat': 56.153928, 'Long': -3.946256}\n",
      "Producing message @ 2022-09-20 14:20:14.260931 | Message = {'Lat': 56.153875, 'Long': -3.946294}\n",
      "Producing message @ 2022-09-20 14:20:15.267791 | Message = {'Lat': 56.153819, 'Long': -3.946338}\n",
      "Producing message @ 2022-09-20 14:20:16.270903 | Message = {'Lat': 56.153819, 'Long': -3.946338}\n",
      "Producing message @ 2022-09-20 14:20:17.274111 | Message = {'Lat': 56.153819, 'Long': -3.946338}\n",
      "Producing message @ 2022-09-20 14:20:18.280240 | Message = {'Lat': 56.153762, 'Long': -3.946372}\n",
      "Producing message @ 2022-09-20 14:20:19.282076 | Message = {'Lat': 56.153706, 'Long': -3.946409}\n",
      "Producing message @ 2022-09-20 14:20:20.289953 | Message = {'Lat': 56.153706, 'Long': -3.946409}\n",
      "Producing message @ 2022-09-20 14:20:21.291882 | Message = {'Lat': 56.153706, 'Long': -3.946409}\n",
      "Producing message @ 2022-09-20 14:20:22.295327 | Message = {'Lat': 56.153652, 'Long': -3.946456}\n",
      "Producing message @ 2022-09-20 14:20:23.303406 | Message = {'Lat': 56.153652, 'Long': -3.946456}\n",
      "Producing message @ 2022-09-20 14:20:24.311130 | Message = {'Lat': 56.153652, 'Long': -3.946456}\n",
      "Producing message @ 2022-09-20 14:20:25.315563 | Message = {'Lat': 56.153599, 'Long': -3.946498}\n",
      "Producing message @ 2022-09-20 14:20:26.321575 | Message = {'Lat': 56.153599, 'Long': -3.946498}\n",
      "Producing message @ 2022-09-20 14:20:27.325689 | Message = {'Lat': 56.153549, 'Long': -3.94654}\n",
      "Producing message @ 2022-09-20 14:20:28.331126 | Message = {'Lat': 56.153549, 'Long': -3.94654}\n",
      "Producing message @ 2022-09-20 14:20:29.335791 | Message = {'Lat': 56.153549, 'Long': -3.94654}\n",
      "Producing message @ 2022-09-20 14:20:30.339467 | Message = {'Lat': 56.153549, 'Long': -3.94654}\n",
      "Producing message @ 2022-09-20 14:20:31.345300 | Message = {'Lat': 56.153549, 'Long': -3.94654}\n",
      "Producing message @ 2022-09-20 14:20:32.350553 | Message = {'Lat': 56.153549, 'Long': -3.94654}\n",
      "Producing message @ 2022-09-20 14:20:33.355530 | Message = {'Lat': 56.153492, 'Long': -3.946579}\n",
      "Producing message @ 2022-09-20 14:20:34.361693 | Message = {'Lat': 56.153492, 'Long': -3.946579}\n",
      "Producing message @ 2022-09-20 14:20:35.368548 | Message = {'Lat': 56.153442, 'Long': -3.946624}\n",
      "Producing message @ 2022-09-20 14:20:36.372641 | Message = {'Lat': 56.15334, 'Long': -3.946708}\n",
      "Producing message @ 2022-09-20 14:20:37.379308 | Message = {'Lat': 56.15334, 'Long': -3.946708}\n",
      "Producing message @ 2022-09-20 14:20:38.382383 | Message = {'Lat': 56.15334, 'Long': -3.946708}\n",
      "Producing message @ 2022-09-20 14:20:39.385405 | Message = {'Lat': 56.153292, 'Long': -3.94674}\n",
      "Producing message @ 2022-09-20 14:20:40.391149 | Message = {'Lat': 56.153292, 'Long': -3.94674}\n",
      "Producing message @ 2022-09-20 14:20:41.398310 | Message = {'Lat': 56.153292, 'Long': -3.94674}\n",
      "Producing message @ 2022-09-20 14:20:42.404869 | Message = {'Lat': 56.153292, 'Long': -3.94674}\n",
      "Producing message @ 2022-09-20 14:20:43.410466 | Message = {'Lat': 56.153292, 'Long': -3.94674}\n",
      "Producing message @ 2022-09-20 14:20:44.417691 | Message = {'Lat': 56.153292, 'Long': -3.94674}\n",
      "Producing message @ 2022-09-20 14:20:45.421846 | Message = {'Lat': 56.153292, 'Long': -3.94674}\n",
      "Producing message @ 2022-09-20 14:20:46.424193 | Message = {'Lat': 56.153247, 'Long': -3.946774}\n",
      "Producing message @ 2022-09-20 14:20:47.430152 | Message = {'Lat': 56.153206, 'Long': -3.946808}\n",
      "Producing message @ 2022-09-20 14:20:48.433291 | Message = {'Lat': 56.153206, 'Long': -3.946808}\n",
      "Producing message @ 2022-09-20 14:20:49.437093 | Message = {'Lat': 56.153206, 'Long': -3.946808}\n",
      "Producing message @ 2022-09-20 14:20:50.440078 | Message = {'Lat': 56.153206, 'Long': -3.946808}\n",
      "Producing message @ 2022-09-20 14:20:51.445729 | Message = {'Lat': 56.153206, 'Long': -3.946808}\n",
      "Producing message @ 2022-09-20 14:20:52.450775 | Message = {'Lat': 56.153206, 'Long': -3.946808}\n",
      "Producing message @ 2022-09-20 14:20:53.456510 | Message = {'Lat': 56.153206, 'Long': -3.946808}\n",
      "Producing message @ 2022-09-20 14:20:54.460359 | Message = {'Lat': 56.153206, 'Long': -3.946808}\n",
      "Producing message @ 2022-09-20 14:20:55.464127 | Message = {'Lat': 56.153206, 'Long': -3.946808}\n",
      "Producing message @ 2022-09-20 14:20:56.465629 | Message = {'Lat': 56.153167, 'Long': -3.94684}\n",
      "Producing message @ 2022-09-20 14:20:57.471555 | Message = {'Lat': 56.153167, 'Long': -3.94684}\n",
      "Producing message @ 2022-09-20 14:20:58.476252 | Message = {'Lat': 56.153167, 'Long': -3.94684}\n",
      "Producing message @ 2022-09-20 14:20:59.481260 | Message = {'Lat': 56.153167, 'Long': -3.94684}\n",
      "Producing message @ 2022-09-20 14:21:00.483024 | Message = {'Lat': 56.153167, 'Long': -3.94684}\n",
      "Producing message @ 2022-09-20 14:21:01.488862 | Message = {'Lat': 56.153167, 'Long': -3.94684}\n",
      "Producing message @ 2022-09-20 14:21:02.494587 | Message = {'Lat': 56.153167, 'Long': -3.94684}\n",
      "Producing message @ 2022-09-20 14:21:03.497395 | Message = {'Lat': 56.153167, 'Long': -3.94684}\n",
      "Producing message @ 2022-09-20 14:21:04.502375 | Message = {'Lat': 56.153167, 'Long': -3.94684}\n",
      "Producing message @ 2022-09-20 14:21:05.505941 | Message = {'Lat': 56.153095, 'Long': -3.946922}\n"
     ]
    },
    {
     "name": "stdout",
     "output_type": "stream",
     "text": [
      "Producing message @ 2022-09-20 14:21:06.508612 | Message = {'Lat': 56.153095, 'Long': -3.946922}\n",
      "Producing message @ 2022-09-20 14:21:07.512084 | Message = {'Lat': 56.15308, 'Long': -3.946946}\n",
      "Producing message @ 2022-09-20 14:21:08.520006 | Message = {'Lat': 56.15308, 'Long': -3.946946}\n",
      "Producing message @ 2022-09-20 14:21:09.521953 | Message = {'Lat': 56.15308, 'Long': -3.946946}\n",
      "Producing message @ 2022-09-20 14:21:10.525581 | Message = {'Lat': 56.15308, 'Long': -3.946946}\n",
      "Producing message @ 2022-09-20 14:21:11.529714 | Message = {'Lat': 56.153154, 'Long': -3.947214}\n",
      "Producing message @ 2022-09-20 14:21:12.532849 | Message = {'Lat': 56.153154, 'Long': -3.947214}\n",
      "Producing message @ 2022-09-20 14:21:13.535886 | Message = {'Lat': 56.153154, 'Long': -3.947214}\n",
      "Producing message @ 2022-09-20 14:21:14.550815 | Message = {'Lat': 56.153154, 'Long': -3.947214}\n",
      "Producing message @ 2022-09-20 14:21:15.554843 | Message = {'Lat': 56.153178, 'Long': -3.947283}\n",
      "Producing message @ 2022-09-20 14:21:16.559349 | Message = {'Lat': 56.153178, 'Long': -3.947283}\n",
      "Producing message @ 2022-09-20 14:21:17.561880 | Message = {'Lat': 56.153178, 'Long': -3.947283}\n",
      "Producing message @ 2022-09-20 14:21:18.565711 | Message = {'Lat': 56.153178, 'Long': -3.947283}\n",
      "Producing message @ 2022-09-20 14:21:19.572923 | Message = {'Lat': 56.153178, 'Long': -3.947283}\n",
      "Producing message @ 2022-09-20 14:21:20.576480 | Message = {'Lat': 56.153178, 'Long': -3.947283}\n",
      "Producing message @ 2022-09-20 14:21:21.580289 | Message = {'Lat': 56.153178, 'Long': -3.947283}\n",
      "Producing message @ 2022-09-20 14:21:22.584997 | Message = {'Lat': 56.153204, 'Long': -3.94735}\n",
      "Producing message @ 2022-09-20 14:21:23.589492 | Message = {'Lat': 56.153204, 'Long': -3.94735}\n",
      "Producing message @ 2022-09-20 14:21:24.594453 | Message = {'Lat': 56.153204, 'Long': -3.94735}\n",
      "Producing message @ 2022-09-20 14:21:25.599467 | Message = {'Lat': 56.153169, 'Long': -3.947351}\n",
      "Producing message @ 2022-09-20 14:21:26.602800 | Message = {'Lat': 56.153169, 'Long': -3.947351}\n",
      "Producing message @ 2022-09-20 14:21:27.605655 | Message = {'Lat': 56.15316, 'Long': -3.947278}\n",
      "Producing message @ 2022-09-20 14:21:28.612194 | Message = {'Lat': 56.15316, 'Long': -3.947278}\n",
      "Producing message @ 2022-09-20 14:21:29.617332 | Message = {'Lat': 56.15316, 'Long': -3.947278}\n"
     ]
    }
   ],
   "source": [
    "import time\n",
    "import json\n",
    "\n",
    "# Messages will be serialized as JSON\n",
    "def serializer(records_dict):\n",
    "    return json.dumps(records_dict).encode('utf-8')\n",
    "\n",
    "def error_callback(exc):\n",
    "    raise Exception('Error while sendig data to kafka: {0}'.format(str(exc)))\n",
    "\n",
    "\n",
    "# Kafka Producer\n",
    "producer = KafkaProducer(\n",
    "    bootstrap_servers=['localhost:9092'],\n",
    "    value_serializer=serializer\n",
    ")\n",
    "\n",
    "\n",
    "for x in records_dict:\n",
    "    print(f'Producing message @ {datetime.now()} | Message = {str(x)}')\n",
    "    producer.send('pothole-location', x).add_errback(error_callback)\n",
    "    time.sleep(1)"
   ]
  },
  {
   "cell_type": "code",
   "execution_count": null,
   "id": "7c744001",
   "metadata": {},
   "outputs": [],
   "source": []
  }
 ],
 "metadata": {
  "kernelspec": {
   "display_name": "Python 3",
   "language": "python",
   "name": "python3"
  },
  "language_info": {
   "codemirror_mode": {
    "name": "ipython",
    "version": 3
   },
   "file_extension": ".py",
   "mimetype": "text/x-python",
   "name": "python",
   "nbconvert_exporter": "python",
   "pygments_lexer": "ipython3",
   "version": "3.8.8"
  }
 },
 "nbformat": 4,
 "nbformat_minor": 5
}
